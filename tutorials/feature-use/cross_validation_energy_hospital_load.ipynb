{
 "cells": [
  {
   "cell_type": "markdown",
   "metadata": {},
   "source": [
    "## **Conformal Prediction using Energy Hospital Load**\n",
    "\n",
    "One example of the NP data is the electricity consumption of a hospital in SF. It has hourly reservation for the entire year of 2015."
   ]
  },
  {
   "cell_type": "markdown",
   "metadata": {},
   "source": [
    "### Extract Data and Split Data into Train, Val, Cal, and Test\n",
    "\n",
    "\n",
    "**Extract Data From GitHub**"
   ]
  },
  {
   "cell_type": "code",
   "execution_count": 1,
   "metadata": {},
   "outputs": [],
   "source": [
    "import numpy as np\n",
    "import pandas as pd\n",
    "from collections import defaultdict\n",
    "import matplotlib.pyplot as plt\n",
    "import seaborn as sns\n",
    "sns.set()\n",
    "\n",
    "from neuralprophet import NeuralProphet, set_log_level, set_random_seed"
   ]
  },
  {
   "cell_type": "code",
   "execution_count": 2,
   "metadata": {},
   "outputs": [],
   "source": [
    "data_location = \"https://raw.githubusercontent.com/ourownstory/neuralprophet-data/main/datasets/\"\n",
    "file = 'energy/SF_hospital_load.csv'\n",
    "# file = 'air_passengers.csv'"
   ]
  },
  {
   "cell_type": "code",
   "execution_count": 3,
   "metadata": {
    "colab": {
     "base_uri": "https://localhost:8080/"
    },
    "id": "Ywzhdfn2uqLf",
    "outputId": "95decf15-d410-45c9-b703-91fd68891e7f"
   },
   "outputs": [],
   "source": [
    "data_df = pd.read_csv(data_location + file)"
   ]
  },
  {
   "cell_type": "code",
   "execution_count": 4,
   "metadata": {
    "colab": {
     "base_uri": "https://localhost:8080/",
     "height": 140
    },
    "id": "TvrgKVWIuxFJ",
    "outputId": "99908203-2022-456a-9d05-73c3d0e6731e"
   },
   "outputs": [],
   "source": [
    "# data_df.head(5)"
   ]
  },
  {
   "cell_type": "code",
   "execution_count": 5,
   "metadata": {},
   "outputs": [],
   "source": [
    "# data_df.tail(5)"
   ]
  },
  {
   "cell_type": "markdown",
   "metadata": {},
   "source": [
    "**Split data into train and test in that order**\n",
    "\n",
    "Do we need to instantiate a NP model `m` in order to split the df into train and test? If so, does the NP params make any diff to the outcome of this split? I'm presuming no atm."
   ]
  },
  {
   "cell_type": "code",
   "execution_count": 6,
   "metadata": {},
   "outputs": [
    {
     "name": "stderr",
     "output_type": "stream",
     "text": [
      "INFO - (NP.df_utils._infer_frequency) - Major frequency H corresponds to 99.989% of the data.\n",
      "INFO - (NP.df_utils._infer_frequency) - Defined frequency is equal to major frequency - H\n",
      "INFO - (NP.df_utils.return_df_in_original_format) - Returning df with no ID column\n",
      "INFO - (NP.df_utils.return_df_in_original_format) - Returning df with no ID column\n"
     ]
    },
    {
     "data": {
      "text/plain": [
       "((8213, 2), (547, 2))"
      ]
     },
     "execution_count": 6,
     "metadata": {},
     "output_type": "execute_result"
    }
   ],
   "source": [
    "train_df, test_df = NeuralProphet().split_df(data_df, freq='H', valid_p = 1.0/16)\n",
    "train_df.shape, test_df.shape"
   ]
  },
  {
   "cell_type": "code",
   "execution_count": 7,
   "metadata": {},
   "outputs": [
    {
     "name": "stdout",
     "output_type": "stream",
     "text": [
      "Train set time range:        2015-01-01 01:00:00 - 2015-12-09 05:00:00\n",
      "Test set time range:         2015-12-09 06:00:00 - 2016-01-01 00:00:00\n"
     ]
    }
   ],
   "source": [
    "print(f\"Train set time range:        {train_df['ds'].min()} - {train_df['ds'].max()}\")\n",
    "print(f\"Test set time range:         {test_df['ds'].min()} - {test_df['ds'].max()}\")"
   ]
  },
  {
   "cell_type": "markdown",
   "metadata": {},
   "source": [
    "### Create Folds using CV Splits"
   ]
  },
  {
   "cell_type": "code",
   "execution_count": 8,
   "metadata": {},
   "outputs": [
    {
     "name": "stdout",
     "output_type": "stream",
     "text": [
      "Fold overlap proportion: 0.0\n"
     ]
    }
   ],
   "source": [
    "B = 20                # Number of bootstraps and number of k-folds\n",
    "val_fold_pct = 0.04   # Validation fold size % of entire input\n",
    "val_cov_pct = 0.8     # Overall validation set coverage %\n",
    "val_fold_size = None  # Fixed validation fold size % of entire fold (hence train fold size is 1 - val_fold_size) \n",
    "print(f\"Fold overlap proportion: {round(B*val_fold_pct - val_cov_pct, 2)}\")"
   ]
  },
  {
   "cell_type": "code",
   "execution_count": 9,
   "metadata": {},
   "outputs": [
    {
     "name": "stderr",
     "output_type": "stream",
     "text": [
      "INFO - (NP.df_utils._infer_frequency) - Major frequency H corresponds to 99.988% of the data.\n",
      "INFO - (NP.df_utils._infer_frequency) - Defined frequency is equal to major frequency - H\n"
     ]
    }
   ],
   "source": [
    "folds = NeuralProphet().crossvalidation_split_df(\n",
    "    train_df,\n",
    "    freq='H',\n",
    "    k=B,\n",
    "    fold_pct=val_fold_pct,\n",
    "    fold_overlap_pct=(B*val_fold_pct - val_cov_pct)\n",
    ")"
   ]
  },
  {
   "cell_type": "code",
   "execution_count": 10,
   "metadata": {},
   "outputs": [
    {
     "name": "stdout",
     "output_type": "stream",
     "text": [
      "Fold 1:\n",
      "  - Train start: 2015-01-01 01:00:00, Train end: 2015-03-10 21:00:00\n",
      "  - Cal start:   2015-03-10 22:00:00, Cal end:   2015-03-24 13:00:00\n",
      "  - Train shape:   (1653, 2), Cal shape:   (328, 2)\n",
      "Fold 2:\n",
      "  - Train start: 2015-01-01 01:00:00, Train end: 2015-03-24 13:00:00\n",
      "  - Cal start:   2015-03-24 14:00:00, Cal end:   2015-04-07 05:00:00\n",
      "  - Train shape:   (1981, 2), Cal shape:   (328, 2)\n",
      "Fold 3:\n",
      "  - Train start: 2015-01-01 01:00:00, Train end: 2015-04-07 05:00:00\n",
      "  - Cal start:   2015-04-07 06:00:00, Cal end:   2015-04-20 21:00:00\n",
      "  - Train shape:   (2309, 2), Cal shape:   (328, 2)\n",
      "Fold 4:\n",
      "  - Train start: 2015-01-01 01:00:00, Train end: 2015-04-20 21:00:00\n",
      "  - Cal start:   2015-04-20 22:00:00, Cal end:   2015-05-04 13:00:00\n",
      "  - Train shape:   (2637, 2), Cal shape:   (328, 2)\n",
      "Fold 5:\n",
      "  - Train start: 2015-01-01 01:00:00, Train end: 2015-05-04 13:00:00\n",
      "  - Cal start:   2015-05-04 14:00:00, Cal end:   2015-05-18 05:00:00\n",
      "  - Train shape:   (2965, 2), Cal shape:   (328, 2)\n",
      "Fold 6:\n",
      "  - Train start: 2015-01-01 01:00:00, Train end: 2015-05-18 05:00:00\n",
      "  - Cal start:   2015-05-18 06:00:00, Cal end:   2015-05-31 21:00:00\n",
      "  - Train shape:   (3293, 2), Cal shape:   (328, 2)\n",
      "Fold 7:\n",
      "  - Train start: 2015-01-01 01:00:00, Train end: 2015-05-31 21:00:00\n",
      "  - Cal start:   2015-05-31 22:00:00, Cal end:   2015-06-14 13:00:00\n",
      "  - Train shape:   (3621, 2), Cal shape:   (328, 2)\n",
      "Fold 8:\n",
      "  - Train start: 2015-01-01 01:00:00, Train end: 2015-06-14 13:00:00\n",
      "  - Cal start:   2015-06-14 14:00:00, Cal end:   2015-06-28 05:00:00\n",
      "  - Train shape:   (3949, 2), Cal shape:   (328, 2)\n",
      "Fold 9:\n",
      "  - Train start: 2015-01-01 01:00:00, Train end: 2015-06-28 05:00:00\n",
      "  - Cal start:   2015-06-28 06:00:00, Cal end:   2015-07-11 21:00:00\n",
      "  - Train shape:   (4277, 2), Cal shape:   (328, 2)\n",
      "Fold 10:\n",
      "  - Train start: 2015-01-01 01:00:00, Train end: 2015-07-11 21:00:00\n",
      "  - Cal start:   2015-07-11 22:00:00, Cal end:   2015-07-25 13:00:00\n",
      "  - Train shape:   (4605, 2), Cal shape:   (328, 2)\n",
      "Fold 11:\n",
      "  - Train start: 2015-01-01 01:00:00, Train end: 2015-07-25 13:00:00\n",
      "  - Cal start:   2015-07-25 14:00:00, Cal end:   2015-08-08 05:00:00\n",
      "  - Train shape:   (4933, 2), Cal shape:   (328, 2)\n",
      "Fold 12:\n",
      "  - Train start: 2015-01-01 01:00:00, Train end: 2015-08-08 05:00:00\n",
      "  - Cal start:   2015-08-08 06:00:00, Cal end:   2015-08-21 21:00:00\n",
      "  - Train shape:   (5261, 2), Cal shape:   (328, 2)\n",
      "Fold 13:\n",
      "  - Train start: 2015-01-01 01:00:00, Train end: 2015-08-21 21:00:00\n",
      "  - Cal start:   2015-08-21 22:00:00, Cal end:   2015-09-04 13:00:00\n",
      "  - Train shape:   (5589, 2), Cal shape:   (328, 2)\n",
      "Fold 14:\n",
      "  - Train start: 2015-01-01 01:00:00, Train end: 2015-09-04 13:00:00\n",
      "  - Cal start:   2015-09-04 14:00:00, Cal end:   2015-09-18 05:00:00\n",
      "  - Train shape:   (5917, 2), Cal shape:   (328, 2)\n",
      "Fold 15:\n",
      "  - Train start: 2015-01-01 01:00:00, Train end: 2015-09-18 05:00:00\n",
      "  - Cal start:   2015-09-18 06:00:00, Cal end:   2015-10-01 21:00:00\n",
      "  - Train shape:   (6245, 2), Cal shape:   (328, 2)\n",
      "Fold 16:\n",
      "  - Train start: 2015-01-01 01:00:00, Train end: 2015-10-01 21:00:00\n",
      "  - Cal start:   2015-10-01 22:00:00, Cal end:   2015-10-15 13:00:00\n",
      "  - Train shape:   (6573, 2), Cal shape:   (328, 2)\n",
      "Fold 17:\n",
      "  - Train start: 2015-01-01 01:00:00, Train end: 2015-10-15 13:00:00\n",
      "  - Cal start:   2015-10-15 14:00:00, Cal end:   2015-10-29 05:00:00\n",
      "  - Train shape:   (6901, 2), Cal shape:   (328, 2)\n",
      "Fold 18:\n",
      "  - Train start: 2015-01-01 01:00:00, Train end: 2015-10-29 05:00:00\n",
      "  - Cal start:   2015-10-29 06:00:00, Cal end:   2015-11-11 21:00:00\n",
      "  - Train shape:   (7229, 2), Cal shape:   (328, 2)\n",
      "Fold 19:\n",
      "  - Train start: 2015-01-01 01:00:00, Train end: 2015-11-11 21:00:00\n",
      "  - Cal start:   2015-11-11 22:00:00, Cal end:   2015-11-25 13:00:00\n",
      "  - Train shape:   (7557, 2), Cal shape:   (328, 2)\n",
      "Fold 20:\n",
      "  - Train start: 2015-01-01 01:00:00, Train end: 2015-11-25 13:00:00\n",
      "  - Cal start:   2015-11-25 14:00:00, Cal end:   2015-12-09 05:00:00\n",
      "  - Train shape:   (7885, 2), Cal shape:   (328, 2)\n"
     ]
    }
   ],
   "source": [
    "for i, (train_fold_df, cal_fold_df) in enumerate(folds):\n",
    "    print(f\"Fold {i+1}:\")\n",
    "    if val_fold_size:\n",
    "        train_fold_len = int(len(cal_fold_df) * ((1-val_fold_size)/val_fold_size))\n",
    "        train_fold_df = train_fold_df[-train_fold_len: ]\n",
    "    print(f\"  - Train start: {train_fold_df.ds.min()}, Train end: {train_fold_df.ds.max()}\")\n",
    "    print(f\"  - Cal start:   {cal_fold_df.ds.min()}, Cal end:   {cal_fold_df.ds.max()}\")\n",
    "    print(f\"  - Train shape:   {train_fold_df.shape}, Cal shape:   {cal_fold_df.shape}\")"
   ]
  },
  {
   "cell_type": "markdown",
   "metadata": {},
   "source": [
    "### Aggregation of Calibration data without Prediction"
   ]
  },
  {
   "cell_type": "code",
   "execution_count": 11,
   "metadata": {},
   "outputs": [],
   "source": [
    "cal_agg_df = pd.DataFrame( )"
   ]
  },
  {
   "cell_type": "code",
   "execution_count": 12,
   "metadata": {},
   "outputs": [],
   "source": [
    "for _, cal_fold_df in folds:\n",
    "    cal_agg_df = pd.concat([cal_agg_df, cal_fold_df], ignore_index=True)"
   ]
  },
  {
   "cell_type": "code",
   "execution_count": 13,
   "metadata": {},
   "outputs": [
    {
     "data": {
      "text/html": [
       "<div>\n",
       "<style scoped>\n",
       "    .dataframe tbody tr th:only-of-type {\n",
       "        vertical-align: middle;\n",
       "    }\n",
       "\n",
       "    .dataframe tbody tr th {\n",
       "        vertical-align: top;\n",
       "    }\n",
       "\n",
       "    .dataframe thead th {\n",
       "        text-align: right;\n",
       "    }\n",
       "</style>\n",
       "<table border=\"1\" class=\"dataframe\">\n",
       "  <thead>\n",
       "    <tr style=\"text-align: right;\">\n",
       "      <th></th>\n",
       "      <th>ds</th>\n",
       "      <th>y</th>\n",
       "    </tr>\n",
       "  </thead>\n",
       "  <tbody>\n",
       "    <tr>\n",
       "      <th>0</th>\n",
       "      <td>2015-03-10 22:00:00</td>\n",
       "      <td>888.313222</td>\n",
       "    </tr>\n",
       "    <tr>\n",
       "      <th>1</th>\n",
       "      <td>2015-03-10 23:00:00</td>\n",
       "      <td>818.094553</td>\n",
       "    </tr>\n",
       "    <tr>\n",
       "      <th>2</th>\n",
       "      <td>2015-03-11 00:00:00</td>\n",
       "      <td>817.408975</td>\n",
       "    </tr>\n",
       "    <tr>\n",
       "      <th>3</th>\n",
       "      <td>2015-03-11 01:00:00</td>\n",
       "      <td>802.922206</td>\n",
       "    </tr>\n",
       "    <tr>\n",
       "      <th>4</th>\n",
       "      <td>2015-03-11 02:00:00</td>\n",
       "      <td>801.357990</td>\n",
       "    </tr>\n",
       "    <tr>\n",
       "      <th>...</th>\n",
       "      <td>...</td>\n",
       "      <td>...</td>\n",
       "    </tr>\n",
       "    <tr>\n",
       "      <th>6555</th>\n",
       "      <td>2015-12-09 01:00:00</td>\n",
       "      <td>795.054930</td>\n",
       "    </tr>\n",
       "    <tr>\n",
       "      <th>6556</th>\n",
       "      <td>2015-12-09 02:00:00</td>\n",
       "      <td>796.664865</td>\n",
       "    </tr>\n",
       "    <tr>\n",
       "      <th>6557</th>\n",
       "      <td>2015-12-09 03:00:00</td>\n",
       "      <td>795.577339</td>\n",
       "    </tr>\n",
       "    <tr>\n",
       "      <th>6558</th>\n",
       "      <td>2015-12-09 04:00:00</td>\n",
       "      <td>793.961047</td>\n",
       "    </tr>\n",
       "    <tr>\n",
       "      <th>6559</th>\n",
       "      <td>2015-12-09 05:00:00</td>\n",
       "      <td>803.827834</td>\n",
       "    </tr>\n",
       "  </tbody>\n",
       "</table>\n",
       "<p>6560 rows × 2 columns</p>\n",
       "</div>"
      ],
      "text/plain": [
       "                      ds           y\n",
       "0    2015-03-10 22:00:00  888.313222\n",
       "1    2015-03-10 23:00:00  818.094553\n",
       "2    2015-03-11 00:00:00  817.408975\n",
       "3    2015-03-11 01:00:00  802.922206\n",
       "4    2015-03-11 02:00:00  801.357990\n",
       "...                  ...         ...\n",
       "6555 2015-12-09 01:00:00  795.054930\n",
       "6556 2015-12-09 02:00:00  796.664865\n",
       "6557 2015-12-09 03:00:00  795.577339\n",
       "6558 2015-12-09 04:00:00  793.961047\n",
       "6559 2015-12-09 05:00:00  803.827834\n",
       "\n",
       "[6560 rows x 2 columns]"
      ]
     },
     "execution_count": 13,
     "metadata": {},
     "output_type": "execute_result"
    }
   ],
   "source": [
    "cal_agg_df"
   ]
  },
  {
   "cell_type": "code",
   "execution_count": 14,
   "metadata": {},
   "outputs": [],
   "source": [
    "# cal_agg_df.groupby('ds').count().reset_index().sort_values(by='y', ascending=False)"
   ]
  },
  {
   "cell_type": "code",
   "execution_count": 15,
   "metadata": {},
   "outputs": [],
   "source": [
    "cal_agg_df = cal_agg_df.groupby('ds').mean().reset_index()"
   ]
  },
  {
   "cell_type": "code",
   "execution_count": 16,
   "metadata": {},
   "outputs": [
    {
     "data": {
      "text/html": [
       "<div>\n",
       "<style scoped>\n",
       "    .dataframe tbody tr th:only-of-type {\n",
       "        vertical-align: middle;\n",
       "    }\n",
       "\n",
       "    .dataframe tbody tr th {\n",
       "        vertical-align: top;\n",
       "    }\n",
       "\n",
       "    .dataframe thead th {\n",
       "        text-align: right;\n",
       "    }\n",
       "</style>\n",
       "<table border=\"1\" class=\"dataframe\">\n",
       "  <thead>\n",
       "    <tr style=\"text-align: right;\">\n",
       "      <th></th>\n",
       "      <th>ds</th>\n",
       "      <th>y</th>\n",
       "    </tr>\n",
       "  </thead>\n",
       "  <tbody>\n",
       "    <tr>\n",
       "      <th>0</th>\n",
       "      <td>2015-03-10 22:00:00</td>\n",
       "      <td>888.313222</td>\n",
       "    </tr>\n",
       "    <tr>\n",
       "      <th>1</th>\n",
       "      <td>2015-03-10 23:00:00</td>\n",
       "      <td>818.094553</td>\n",
       "    </tr>\n",
       "    <tr>\n",
       "      <th>2</th>\n",
       "      <td>2015-03-11 00:00:00</td>\n",
       "      <td>817.408975</td>\n",
       "    </tr>\n",
       "    <tr>\n",
       "      <th>3</th>\n",
       "      <td>2015-03-11 01:00:00</td>\n",
       "      <td>802.922206</td>\n",
       "    </tr>\n",
       "    <tr>\n",
       "      <th>4</th>\n",
       "      <td>2015-03-11 02:00:00</td>\n",
       "      <td>801.357990</td>\n",
       "    </tr>\n",
       "    <tr>\n",
       "      <th>...</th>\n",
       "      <td>...</td>\n",
       "      <td>...</td>\n",
       "    </tr>\n",
       "    <tr>\n",
       "      <th>6555</th>\n",
       "      <td>2015-12-09 01:00:00</td>\n",
       "      <td>795.054930</td>\n",
       "    </tr>\n",
       "    <tr>\n",
       "      <th>6556</th>\n",
       "      <td>2015-12-09 02:00:00</td>\n",
       "      <td>796.664865</td>\n",
       "    </tr>\n",
       "    <tr>\n",
       "      <th>6557</th>\n",
       "      <td>2015-12-09 03:00:00</td>\n",
       "      <td>795.577339</td>\n",
       "    </tr>\n",
       "    <tr>\n",
       "      <th>6558</th>\n",
       "      <td>2015-12-09 04:00:00</td>\n",
       "      <td>793.961047</td>\n",
       "    </tr>\n",
       "    <tr>\n",
       "      <th>6559</th>\n",
       "      <td>2015-12-09 05:00:00</td>\n",
       "      <td>803.827834</td>\n",
       "    </tr>\n",
       "  </tbody>\n",
       "</table>\n",
       "<p>6560 rows × 2 columns</p>\n",
       "</div>"
      ],
      "text/plain": [
       "                      ds           y\n",
       "0    2015-03-10 22:00:00  888.313222\n",
       "1    2015-03-10 23:00:00  818.094553\n",
       "2    2015-03-11 00:00:00  817.408975\n",
       "3    2015-03-11 01:00:00  802.922206\n",
       "4    2015-03-11 02:00:00  801.357990\n",
       "...                  ...         ...\n",
       "6555 2015-12-09 01:00:00  795.054930\n",
       "6556 2015-12-09 02:00:00  796.664865\n",
       "6557 2015-12-09 03:00:00  795.577339\n",
       "6558 2015-12-09 04:00:00  793.961047\n",
       "6559 2015-12-09 05:00:00  803.827834\n",
       "\n",
       "[6560 rows x 2 columns]"
      ]
     },
     "execution_count": 16,
     "metadata": {},
     "output_type": "execute_result"
    }
   ],
   "source": [
    "cal_agg_df"
   ]
  },
  {
   "cell_type": "code",
   "execution_count": null,
   "metadata": {},
   "outputs": [],
   "source": []
  }
 ],
 "metadata": {
  "colab": {
   "collapsed_sections": [],
   "name": "energy_data_example.ipynb",
   "provenance": []
  },
  "kernelspec": {
   "display_name": "dev:Python",
   "language": "python",
   "name": "conda-env-dev-py"
  },
  "language_info": {
   "codemirror_mode": {
    "name": "ipython",
    "version": 3
   },
   "file_extension": ".py",
   "mimetype": "text/x-python",
   "name": "python",
   "nbconvert_exporter": "python",
   "pygments_lexer": "ipython3",
   "version": "3.9.12"
  },
  "vscode": {
   "interpreter": {
    "hash": "a9896633dd2687027a97d37c5dc67af73c090796eacc50847f77e025856fff9f"
   }
  },
  "widgets": {
   "application/vnd.jupyter.widget-state+json": {
    "24bf564f55644476911a6cf004a395e7": {
     "model_module": "@jupyter-widgets/controls",
     "model_name": "HTMLModel",
     "state": {
      "_dom_classes": [],
      "_model_module": "@jupyter-widgets/controls",
      "_model_module_version": "1.5.0",
      "_model_name": "HTMLModel",
      "_view_count": null,
      "_view_module": "@jupyter-widgets/controls",
      "_view_module_version": "1.5.0",
      "_view_name": "HTMLView",
      "description": "",
      "description_tooltip": null,
      "layout": "IPY_MODEL_aab682cd3df24821a80331720f7c24e5",
      "placeholder": "​",
      "style": "IPY_MODEL_f35fc9cbd82c4187a4cdc08c3ac26998",
      "value": " 264/297 [00:04&lt;00:00, 59.93it/s]"
     }
    },
    "2d8235496ec642af8192f52d9f2692b1": {
     "model_module": "@jupyter-widgets/controls",
     "model_name": "HTMLModel",
     "state": {
      "_dom_classes": [],
      "_model_module": "@jupyter-widgets/controls",
      "_model_module_version": "1.5.0",
      "_model_name": "HTMLModel",
      "_view_count": null,
      "_view_module": "@jupyter-widgets/controls",
      "_view_module_version": "1.5.0",
      "_view_name": "HTMLView",
      "description": "",
      "description_tooltip": null,
      "layout": "IPY_MODEL_8a192ccc35e94e9f8be85898ed583e2c",
      "placeholder": "​",
      "style": "IPY_MODEL_87c170d1e00742a29e7f797e98c49cc2",
      "value": " 89%"
     }
    },
    "4ac0917121f8498698e087259b787dcf": {
     "model_module": "@jupyter-widgets/controls",
     "model_name": "HBoxModel",
     "state": {
      "_dom_classes": [],
      "_model_module": "@jupyter-widgets/controls",
      "_model_module_version": "1.5.0",
      "_model_name": "HBoxModel",
      "_view_count": null,
      "_view_module": "@jupyter-widgets/controls",
      "_view_module_version": "1.5.0",
      "_view_name": "HBoxView",
      "box_style": "",
      "children": [
       "IPY_MODEL_2d8235496ec642af8192f52d9f2692b1",
       "IPY_MODEL_c94a8ae41b994c55a96ad44806b0f1c7",
       "IPY_MODEL_24bf564f55644476911a6cf004a395e7"
      ],
      "layout": "IPY_MODEL_94108fe9090f47c7ba2216479e0d3fac"
     }
    },
    "87c170d1e00742a29e7f797e98c49cc2": {
     "model_module": "@jupyter-widgets/controls",
     "model_name": "DescriptionStyleModel",
     "state": {
      "_model_module": "@jupyter-widgets/controls",
      "_model_module_version": "1.5.0",
      "_model_name": "DescriptionStyleModel",
      "_view_count": null,
      "_view_module": "@jupyter-widgets/base",
      "_view_module_version": "1.2.0",
      "_view_name": "StyleView",
      "description_width": ""
     }
    },
    "8a192ccc35e94e9f8be85898ed583e2c": {
     "model_module": "@jupyter-widgets/base",
     "model_name": "LayoutModel",
     "state": {
      "_model_module": "@jupyter-widgets/base",
      "_model_module_version": "1.2.0",
      "_model_name": "LayoutModel",
      "_view_count": null,
      "_view_module": "@jupyter-widgets/base",
      "_view_module_version": "1.2.0",
      "_view_name": "LayoutView",
      "align_content": null,
      "align_items": null,
      "align_self": null,
      "border": null,
      "bottom": null,
      "display": null,
      "flex": null,
      "flex_flow": null,
      "grid_area": null,
      "grid_auto_columns": null,
      "grid_auto_flow": null,
      "grid_auto_rows": null,
      "grid_column": null,
      "grid_gap": null,
      "grid_row": null,
      "grid_template_areas": null,
      "grid_template_columns": null,
      "grid_template_rows": null,
      "height": null,
      "justify_content": null,
      "justify_items": null,
      "left": null,
      "margin": null,
      "max_height": null,
      "max_width": null,
      "min_height": null,
      "min_width": null,
      "object_fit": null,
      "object_position": null,
      "order": null,
      "overflow": null,
      "overflow_x": null,
      "overflow_y": null,
      "padding": null,
      "right": null,
      "top": null,
      "visibility": null,
      "width": null
     }
    },
    "94108fe9090f47c7ba2216479e0d3fac": {
     "model_module": "@jupyter-widgets/base",
     "model_name": "LayoutModel",
     "state": {
      "_model_module": "@jupyter-widgets/base",
      "_model_module_version": "1.2.0",
      "_model_name": "LayoutModel",
      "_view_count": null,
      "_view_module": "@jupyter-widgets/base",
      "_view_module_version": "1.2.0",
      "_view_name": "LayoutView",
      "align_content": null,
      "align_items": null,
      "align_self": null,
      "border": null,
      "bottom": null,
      "display": null,
      "flex": null,
      "flex_flow": null,
      "grid_area": null,
      "grid_auto_columns": null,
      "grid_auto_flow": null,
      "grid_auto_rows": null,
      "grid_column": null,
      "grid_gap": null,
      "grid_row": null,
      "grid_template_areas": null,
      "grid_template_columns": null,
      "grid_template_rows": null,
      "height": null,
      "justify_content": null,
      "justify_items": null,
      "left": null,
      "margin": null,
      "max_height": null,
      "max_width": null,
      "min_height": null,
      "min_width": null,
      "object_fit": null,
      "object_position": null,
      "order": null,
      "overflow": null,
      "overflow_x": null,
      "overflow_y": null,
      "padding": null,
      "right": null,
      "top": null,
      "visibility": null,
      "width": null
     }
    },
    "9467345334da47a8beadc770feef952a": {
     "model_module": "@jupyter-widgets/controls",
     "model_name": "ProgressStyleModel",
     "state": {
      "_model_module": "@jupyter-widgets/controls",
      "_model_module_version": "1.5.0",
      "_model_name": "ProgressStyleModel",
      "_view_count": null,
      "_view_module": "@jupyter-widgets/base",
      "_view_module_version": "1.2.0",
      "_view_name": "StyleView",
      "bar_color": null,
      "description_width": ""
     }
    },
    "aab682cd3df24821a80331720f7c24e5": {
     "model_module": "@jupyter-widgets/base",
     "model_name": "LayoutModel",
     "state": {
      "_model_module": "@jupyter-widgets/base",
      "_model_module_version": "1.2.0",
      "_model_name": "LayoutModel",
      "_view_count": null,
      "_view_module": "@jupyter-widgets/base",
      "_view_module_version": "1.2.0",
      "_view_name": "LayoutView",
      "align_content": null,
      "align_items": null,
      "align_self": null,
      "border": null,
      "bottom": null,
      "display": null,
      "flex": null,
      "flex_flow": null,
      "grid_area": null,
      "grid_auto_columns": null,
      "grid_auto_flow": null,
      "grid_auto_rows": null,
      "grid_column": null,
      "grid_gap": null,
      "grid_row": null,
      "grid_template_areas": null,
      "grid_template_columns": null,
      "grid_template_rows": null,
      "height": null,
      "justify_content": null,
      "justify_items": null,
      "left": null,
      "margin": null,
      "max_height": null,
      "max_width": null,
      "min_height": null,
      "min_width": null,
      "object_fit": null,
      "object_position": null,
      "order": null,
      "overflow": null,
      "overflow_x": null,
      "overflow_y": null,
      "padding": null,
      "right": null,
      "top": null,
      "visibility": null,
      "width": null
     }
    },
    "c94a8ae41b994c55a96ad44806b0f1c7": {
     "model_module": "@jupyter-widgets/controls",
     "model_name": "FloatProgressModel",
     "state": {
      "_dom_classes": [],
      "_model_module": "@jupyter-widgets/controls",
      "_model_module_version": "1.5.0",
      "_model_name": "FloatProgressModel",
      "_view_count": null,
      "_view_module": "@jupyter-widgets/controls",
      "_view_module_version": "1.5.0",
      "_view_name": "ProgressView",
      "bar_style": "danger",
      "description": "",
      "description_tooltip": null,
      "layout": "IPY_MODEL_dc468cd35d2b4f0e8eb287689ac15412",
      "max": 297,
      "min": 0,
      "orientation": "horizontal",
      "style": "IPY_MODEL_9467345334da47a8beadc770feef952a",
      "value": 264
     }
    },
    "dc468cd35d2b4f0e8eb287689ac15412": {
     "model_module": "@jupyter-widgets/base",
     "model_name": "LayoutModel",
     "state": {
      "_model_module": "@jupyter-widgets/base",
      "_model_module_version": "1.2.0",
      "_model_name": "LayoutModel",
      "_view_count": null,
      "_view_module": "@jupyter-widgets/base",
      "_view_module_version": "1.2.0",
      "_view_name": "LayoutView",
      "align_content": null,
      "align_items": null,
      "align_self": null,
      "border": null,
      "bottom": null,
      "display": null,
      "flex": null,
      "flex_flow": null,
      "grid_area": null,
      "grid_auto_columns": null,
      "grid_auto_flow": null,
      "grid_auto_rows": null,
      "grid_column": null,
      "grid_gap": null,
      "grid_row": null,
      "grid_template_areas": null,
      "grid_template_columns": null,
      "grid_template_rows": null,
      "height": null,
      "justify_content": null,
      "justify_items": null,
      "left": null,
      "margin": null,
      "max_height": null,
      "max_width": null,
      "min_height": null,
      "min_width": null,
      "object_fit": null,
      "object_position": null,
      "order": null,
      "overflow": null,
      "overflow_x": null,
      "overflow_y": null,
      "padding": null,
      "right": null,
      "top": null,
      "visibility": null,
      "width": null
     }
    },
    "f35fc9cbd82c4187a4cdc08c3ac26998": {
     "model_module": "@jupyter-widgets/controls",
     "model_name": "DescriptionStyleModel",
     "state": {
      "_model_module": "@jupyter-widgets/controls",
      "_model_module_version": "1.5.0",
      "_model_name": "DescriptionStyleModel",
      "_view_count": null,
      "_view_module": "@jupyter-widgets/base",
      "_view_module_version": "1.2.0",
      "_view_name": "StyleView",
      "description_width": ""
     }
    }
   }
  }
 },
 "nbformat": 4,
 "nbformat_minor": 4
}
