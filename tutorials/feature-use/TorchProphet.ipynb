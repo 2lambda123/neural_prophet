{
 "cells": [
  {
   "cell_type": "code",
   "execution_count": 1,
   "metadata": {},
   "outputs": [],
   "source": [
    "# Libraries to install\n",
    "# pip install pystan==2.19.1.1\n",
    "# pip install prophet==1.0"
   ]
  },
  {
   "cell_type": "markdown",
   "metadata": {},
   "source": [
    "# From Prophet to TorchProphet - A guide\n",
    "\n",
    "Prophet is a popular human-in-the-loop forecasting framework build on Stan that allows to create forecasts and visualisations rapidly.\n",
    "\n",
    "NeuralProphet is an evolution of Prophet that builds on PyTorch and supports even more forecasting components.\n",
    "\n",
    "Since the interface of Prophet and NeuralProphet differ in various details, we build a wrapper for NeuralProphet, TorchProphet, that is 1:1 compatible with many Prophet applications.\n",
    "\n",
    "## Disclaimer\n",
    "Since TorchProphet is a wrapper for NeuralProphet, it should mainly be used for experiments and we do not encourage the use in production. It allows forecasting practitioners using Prophet to quickly evaluate the performance of both frameworks side by side.\n",
    "\n",
    "## Outline\n",
    "This tutorial will walk through building a simple forecasting model showing Prophet and TorchProphet code side-by-side. The code for Prophet comes from the official [Prophet quick-start tutorial](https://facebook.github.io/prophet/docs/quick_start.html#python-api).\n"
   ]
  },
  {
   "cell_type": "markdown",
   "metadata": {},
   "source": [
    "### Data Loading\n",
    "\n",
    "We will use the time series of the log daily page views for the Wikipedia page for Peyton Manning as example for this tutorial. "
   ]
  },
  {
   "cell_type": "code",
   "execution_count": 2,
   "metadata": {},
   "outputs": [],
   "source": [
    "import pandas as pd\n",
    "\n",
    "data_location = \"https://raw.githubusercontent.com/ourownstory/neuralprophet-data/main/datasets/\"\n",
    "df = pd.read_csv(data_location + \"wp_log_peyton_manning.csv\")"
   ]
  },
  {
   "cell_type": "markdown",
   "metadata": {},
   "source": [
    "### Model initialisation\n",
    "\n",
    "This is the only line of code for most applications that needs to be changed for the migration using the wrapper."
   ]
  },
  {
   "cell_type": "code",
   "execution_count": null,
   "metadata": {},
   "outputs": [],
   "source": [
    "from prophet import Prophet\n",
    "p = Prophet()\n",
    "\n",
    "from neuralprophet import TorchProphet\n",
    "np = TorchProphet()"
   ]
  },
  {
   "cell_type": "markdown",
   "metadata": {},
   "source": [
    "### Fit forecasting models"
   ]
  },
  {
   "cell_type": "code",
   "execution_count": null,
   "metadata": {},
   "outputs": [],
   "source": [
    "p.fit(df)"
   ]
  },
  {
   "cell_type": "code",
   "execution_count": null,
   "metadata": {},
   "outputs": [],
   "source": [
    "np.fit(df)"
   ]
  },
  {
   "cell_type": "markdown",
   "metadata": {},
   "source": [
    "### Expand the dataset into the future"
   ]
  },
  {
   "cell_type": "code",
   "execution_count": null,
   "metadata": {},
   "outputs": [],
   "source": [
    "future_p = p.make_future_dataframe(periods=365)\n",
    "future_p"
   ]
  },
  {
   "cell_type": "code",
   "execution_count": null,
   "metadata": {},
   "outputs": [],
   "source": [
    "future_np = np.make_future_dataframe(periods=365)\n",
    "future_np"
   ]
  },
  {
   "cell_type": "markdown",
   "metadata": {},
   "source": [
    "### Predict future values"
   ]
  },
  {
   "cell_type": "code",
   "execution_count": null,
   "metadata": {},
   "outputs": [],
   "source": [
    "forecast_p = p.predict(future_p)\n",
    "forecast_p"
   ]
  },
  {
   "cell_type": "code",
   "execution_count": null,
   "metadata": {},
   "outputs": [],
   "source": [
    "forecast_np = np.predict(future_np)\n",
    "forecast_np"
   ]
  },
  {
   "cell_type": "markdown",
   "metadata": {},
   "source": [
    "### Plot the forecasts"
   ]
  },
  {
   "cell_type": "code",
   "execution_count": null,
   "metadata": {},
   "outputs": [],
   "source": [
    "fig1_p = p.plot(forecast_p)"
   ]
  },
  {
   "cell_type": "code",
   "execution_count": null,
   "metadata": {},
   "outputs": [],
   "source": [
    "fig1_np = np.plot(forecast_np)"
   ]
  },
  {
   "cell_type": "markdown",
   "metadata": {},
   "source": [
    "### Plot the forecast components"
   ]
  },
  {
   "cell_type": "code",
   "execution_count": null,
   "metadata": {},
   "outputs": [],
   "source": [
    "fig2_p = p.plot_components(forecast_p)"
   ]
  },
  {
   "cell_type": "code",
   "execution_count": null,
   "metadata": {},
   "outputs": [],
   "source": [
    "fig2_np = np.plot_components(forecast_np)"
   ]
  },
  {
   "cell_type": "markdown",
   "metadata": {},
   "source": [
    "### Plot using Ploty"
   ]
  },
  {
   "cell_type": "code",
   "execution_count": null,
   "metadata": {},
   "outputs": [],
   "source": [
    "from prophet.plot import plot_plotly, plot_components_plotly\n",
    "\n",
    "plot_plotly(p, forecast_p)"
   ]
  },
  {
   "cell_type": "code",
   "execution_count": null,
   "metadata": {},
   "outputs": [],
   "source": [
    "np.plot(forecast_np, plotting_backend=\"plotly\")"
   ]
  },
  {
   "cell_type": "markdown",
   "metadata": {},
   "source": [
    "## What's different between Prophet and TorchProphet?\n",
    "Both the Prophet and the NeuralProphet model share the concept of decomposing a time series into it's components which allows a human to inspect and interprete the individual components of the forecast. Since NeuralProphet differs both in the functionality and the interface, the TorchProphet allows users to rapidly explore NeuralProphet's capabilities. In the following we will walk through the differences and similarities when working with TorchProphet instead of Prophet.\n",
    "\n",
    "### Identical behaviour\n",
    "- **Trend**  \n",
    "  Both Prophet and TorchProphet provide a trend component that can be predicted using `predict_trend(...)` and configured using the `changepoints` or `n_changepoints` argument during initialization.\n",
    "- **Seasonality**  \n",
    "  Both tools allow to model seasonality by using the `add_seasonality(...)` function or providing the `yearly_seasonality`, `weekly_seasonality`, `daily_seasonality` or `seasonality_mode` argument during initialization.\n",
    "- **Country holidays**  \n",
    "  Both tools allow to add country holidays as special events to the forecast. This is archieved by using the `add_country_holidays(...)` function.\n",
    "- **Future regressors**  \n",
    "  Regressors can be added using the `add_regressor(...)` function in both tools.\n",
    "  > **Info:** In TorchProphet, we differentiate between lagged and future regressors. The `add_regressor(...)` function of Prophet corresponds to the `add_future_regressor(...)` function of TorchProphet.\n",
    "- **Holidays**  \n",
    "  In Prophet, additional events to the country holidays can be added during initialization by passing an `holidays` argument. In TorchProphet, this can be archieved by passing the holidays to the `add_events(...)` function. TorchProphet supports both methods.\n",
    "\n",
    "### Different behaviour\n",
    "- **Regularization**  \n",
    "  In Prophet, the argument `prior_scale` can be used to configure regularization. In TorchProphet, regularization is controlled via the `regularization` argument. `prior_scale` and `regularization` have an inverse relationship but cannot directly be translated. Thus, TorchProphet does not support regularization via `prior_scale`. Regularization is archieved via the `_reg` argument.\n",
    "  ```python\n",
    "  # Prophet\n",
    "  from prophet import Prophet\n",
    "  m = Prophet(seasonality_prior_scale=0.5)\n",
    "  # Wrapper\n",
    "  from neuralprophet import TorchProphet as Prophet\n",
    "  m = Prophet(seasonality_reg=0.5)\n",
    "  ```\n",
    "- **Uncertainty**  \n",
    "  In Prophet, all forecasts are configured to use uncertainty intervals automatically. In NeuralProphet, the uncertaintly intervals need to be configured by the user. TorchProphet uses the default uncertainty intervals as defined in Prophet to mirror the behviour.\n",
    "\n",
    "  However, the uncertainty interval calculation differs between Prophet and NeuralProphet. Since Prophet uses a MAP estimate for uncertainty by default [Thread](https://github.com/facebook/prophet/issues/1124), NeuralProphet relies on quantile regression. Thus, the values are not directly comparable.\n",
    "  ```python\n",
    "  # Prophet\n",
    "  from prophet import Prophet\n",
    "  m = Prophet(interval_width=0.8)\n",
    "  # Wrapper\n",
    "  from neuralprophet import TorchProphet as Prophet\n",
    "  m = Prophet(interval_width=[0.1, 0.9])\n",
    "  ```\n",
    "\n",
    "\n",
    "### Unsupported features in TorchProphet\n",
    "- **Saturating forecasts**  \n",
    "  Saturating forecasts limit the predicted value to a certain limit called capacity. In Prophet, this is archieved by passing the `growth='logistic'` argument during initialization and providing a capacity limit. This functionality is currently not supported by NeuralProphet.\n",
    "- **Conditional seasonality**  \n",
    "  Conditional seasonality allows to model certain events as seasonal effects (eg. whether it's currently NFL season). This can be archieved in Prophet by passing the argument `condition_name` to `add_seasonality(...)`. This feature is currently also not supported in NeuralProphet.\n",
    "\n",
    "### Additional features of TorchProphet\n",
    "- **Autoregression**  \n",
    "  TorchProphet allows to model autoregression of arbitrary lag lengths by building on a Neural Network implementation of the autoregression algorithm (called AR-Net). More information can be found here [Autoregression](https://neuralprophet.com/html/autoregression_yosemite_temps.html).\n",
    "- **Lagged regressors**  \n",
    "  TorchProphet does not only support \"future\" regressors like in Prophet, but also lagged regressors that are simultaneous to the time series to predict. More information can be found here [Lagged covariates](https://neuralprophet.com/html/lagged_covariates_energy_ercot.html).\n",
    "- **Global model**  \n",
    "  TorchProphet supports hierachical forecasts by training a global model on many simultaneous time series that is used to improve the performance of predicting an individual time series. More infos can be found here [Global Model](https://neuralprophet.com/html/global_modeling.html).\n",
    "- **Neural Network architecture**  \n",
    "  TorchProphet models the forecast components using a Neural Network. By default, the network has only one hidden layer. However, for more complex time series, the depth of the network can be increased to learn more complex relations.\n",
    "- **PyTorch**  \n",
    "  TorchProphet is build on Pytorch (soon PyTorch Lightning) and thus provides interfaces for developers to extend the vanilla model for specific use cases."
   ]
  },
  {
   "cell_type": "markdown",
   "metadata": {},
   "source": [
    "### Prophet example notebook support\n",
    "The following table provides an overview on the notebooks by Prophet that can be run without any further changes than changing the import of the forecasting tool from `from prophet import Prophet` to `from neuralprophet import TorchProphet as Prophet`.\n",
    "\n",
    "| Prophet notebook  | Status  |  Comment  |\n",
    "| ------------- | ------------- | ------------- |\n",
    "| `additional_topics.ipynb`  | Not supported  | Additional features, specific to Prophet |\n",
    "| `diagnostics.ipynb`  | Not supported  | Exploration of model components, specific to Prophet |\n",
    "| `multiplicative_seasonality.ipynb`  | Supported  |  |\n",
    "| `non-daily_data.ipynb`  | Supported  | Only minor plots are not supported |\n",
    "| `outliers.ipynb`  | Supported  |  |\n",
    "| `quick_start.ipynb`  | Supported  |  |\n",
    "| `saturating_forecasts.ipynb`  | Not supported  | Saturating forecasts are not supported by NeuralProphet |\n",
    "| `seasonality,_holiday_effects,_and_regressors.ipynb`  | Partly supported  | Events and holidays supported, Conditional seasonality not supported  |\n",
    "| `trend_changepoints.ipynb`  | Supported  | Functionality supported, plots partly not supported |\n",
    "| `uncertainty_intervals.ipynb`  | Supported  | Uncertainty intervals are supported, Bayesian sampling not |"
   ]
  }
 ],
 "metadata": {
  "kernelspec": {
   "display_name": "Python 3.8.9 ('venv': venv)",
   "language": "python",
   "name": "python3"
  },
  "language_info": {
   "codemirror_mode": {
    "name": "ipython",
    "version": 3
   },
   "file_extension": ".py",
   "mimetype": "text/x-python",
   "name": "python",
   "nbconvert_exporter": "python",
   "pygments_lexer": "ipython3",
   "version": "3.8.9"
  },
  "orig_nbformat": 4,
  "vscode": {
   "interpreter": {
    "hash": "e488e6bd15b38f84fe669bfc536f96b6c5fb6be3ab1c1213873b81c0afcbd577"
   }
  }
 },
 "nbformat": 4,
 "nbformat_minor": 2
}
