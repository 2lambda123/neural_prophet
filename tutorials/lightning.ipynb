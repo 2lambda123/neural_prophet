{
 "cells": [
  {
   "cell_type": "code",
   "execution_count": 30,
   "metadata": {},
   "outputs": [],
   "source": [
    "import pytorch_lightning as pl"
   ]
  },
  {
   "cell_type": "code",
   "execution_count": 31,
   "metadata": {},
   "outputs": [],
   "source": [
    "import numpy as np\n",
    "import torch\n",
    "import torch.nn as nn"
   ]
  },
  {
   "cell_type": "code",
   "execution_count": 34,
   "metadata": {},
   "outputs": [
    {
     "data": {
      "text/plain": [
       "TimeNet()"
      ]
     },
     "execution_count": 34,
     "metadata": {},
     "output_type": "execute_result"
    }
   ],
   "source": [
    "class TimeNet(nn.Module):\n",
    "    def __init__(\n",
    "        self,\n",
    "        quantiles,\n",
    "        config_trend=None,\n",
    "        config_covar=None,\n",
    "        n_forecasts=1,\n",
    "        n_lags=0,\n",
    "        num_hidden_layers=0,\n",
    "        d_hidden=None,\n",
    "    ):\n",
    "        super(TimeNet, self).__init__()\n",
    "        self.n_forecasts = n_forecasts\n",
    "        self.quantiles = quantiles\n",
    "\n",
    "    def forward(self, inputs):\n",
    "        additive_components = torch.zeros(size=(inputs[\"time\"].shape[0], self.n_forecasts, len(self.quantiles)))\n",
    "\n",
    "        trend = self.trend(t=inputs[\"time\"])\n",
    "\n",
    "        if \"covariates\" in inputs:\n",
    "            additive_components += self.all_covariates(covariates=inputs[\"covariates\"])\n",
    "\n",
    "        out = self._compute_quantile_forecasts_from_diffs(out, True)\n",
    "        return out\n",
    "\n",
    "TimeNet(quantiles=0.5)"
   ]
  }
 ],
 "metadata": {
  "kernelspec": {
   "display_name": "Python 3.8.9 ('venv': venv)",
   "language": "python",
   "name": "python3"
  },
  "language_info": {
   "codemirror_mode": {
    "name": "ipython",
    "version": 3
   },
   "file_extension": ".py",
   "mimetype": "text/x-python",
   "name": "python",
   "nbconvert_exporter": "python",
   "pygments_lexer": "ipython3",
   "version": "3.8.9"
  },
  "orig_nbformat": 4,
  "vscode": {
   "interpreter": {
    "hash": "e488e6bd15b38f84fe669bfc536f96b6c5fb6be3ab1c1213873b81c0afcbd577"
   }
  }
 },
 "nbformat": 4,
 "nbformat_minor": 2
}
