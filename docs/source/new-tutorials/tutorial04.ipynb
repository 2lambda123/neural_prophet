{
 "cells": [
  {
   "cell_type": "markdown",
   "metadata": {},
   "source": [
    "# Tutorial 4: Auto regression"
   ]
  },
  {
   "attachments": {},
   "cell_type": "markdown",
   "metadata": {},
   "source": [
    "Autoregression is a time series model that uses observations from previous time steps as input to a regression equation to predict the value at the next time step.\n",
    "\n",
    "We start with the same model as in the previous tutorial."
   ]
  },
  {
   "cell_type": "code",
   "execution_count": 1,
   "metadata": {},
   "outputs": [
    {
     "data": {
      "application/vnd.jupyter.widget-view+json": {
       "model_id": "2d5af4e0489c4fe1a4f54cb5d3dea5c3",
       "version_major": 2,
       "version_minor": 0
      },
      "text/plain": [
       "Finding best initial lr:   0%|          | 0/229 [00:00<?, ?it/s]"
      ]
     },
     "metadata": {},
     "output_type": "display_data"
    },
    {
     "data": {
      "application/vnd.jupyter.widget-view+json": {
       "model_id": "5990e704bc6a40f2a9ae66371e0aed0b",
       "version_major": 2,
       "version_minor": 0
      },
      "text/plain": [
       "Training: 0it [00:00, ?it/s]"
      ]
     },
     "metadata": {},
     "output_type": "display_data"
    },
    {
     "data": {
      "application/vnd.jupyter.widget-view+json": {
       "model_id": "9bd0e51be6ae4442a6184eb24cf82779",
       "version_major": 2,
       "version_minor": 0
      },
      "text/plain": [
       "Predicting: 46it [00:00, ?it/s]"
      ]
     },
     "metadata": {},
     "output_type": "display_data"
    },
    {
     "data": {
      "application/vnd.jupyter.widget-view+json": {
       "model_id": "93c0ca92701b456792631cdf7770a87d",
       "version_major": 2,
       "version_minor": 0
      },
      "text/plain": [
       "FigureWidgetResampler({\n",
       "    'data': [{'fill': 'none',\n",
       "              'line': {'color': 'rgba(45, 146, 255, 1.0)', 'width': 2},\n",
       "              'mode': 'lines',\n",
       "              'name': '<b style=\"color:sandybrown\">[R]</b> yhat1 <i style=\"color:#fc9944\">~1D</i>',\n",
       "              'type': 'scatter',\n",
       "              'uid': 'dff7708e-0a79-406e-86e6-ae973464281a',\n",
       "              'x': array([datetime.datetime(2014, 12, 31, 0, 0),\n",
       "                          datetime.datetime(2015, 1, 1, 0, 0),\n",
       "                          datetime.datetime(2015, 1, 2, 0, 0), ...,\n",
       "                          datetime.datetime(2018, 12, 28, 0, 0),\n",
       "                          datetime.datetime(2018, 12, 30, 0, 0),\n",
       "                          datetime.datetime(2018, 12, 31, 0, 0)], dtype=object),\n",
       "              'y': array([65.82523346, 65.72242737, 65.17835999, ..., 71.51420593, 64.32253265,\n",
       "                          71.38196564])},\n",
       "             {'marker': {'color': 'black', 'size': 4},\n",
       "              'mode': 'markers',\n",
       "              'name': '<b style=\"color:sandybrown\">[R]</b> Actual <i style=\"color:#fc9944\">~1D</i>',\n",
       "              'type': 'scatter',\n",
       "              'uid': '87296f6a-7dfb-4966-9bc1-9f53248f8bd1',\n",
       "              'x': array([datetime.datetime(2014, 12, 31, 0, 0),\n",
       "                          datetime.datetime(2015, 1, 1, 0, 0),\n",
       "                          datetime.datetime(2015, 1, 2, 0, 0), ...,\n",
       "                          datetime.datetime(2018, 12, 28, 0, 0),\n",
       "                          datetime.datetime(2018, 12, 29, 0, 0),\n",
       "                          datetime.datetime(2018, 12, 31, 0, 0)], dtype=object),\n",
       "              'y': array([65.41, 62.09, 69.44, ..., 69.23, 62.62, 68.32])}],\n",
       "    'layout': {'autosize': True,\n",
       "               'font': {'size': 10},\n",
       "               'height': 420,\n",
       "               'hovermode': 'x unified',\n",
       "               'margin': {'b': 0, 'l': 0, 'pad': 0, 'r': 10, 't': 10},\n",
       "               'showlegend': True,\n",
       "               'template': '...',\n",
       "               'title': {'font': {'size': 12}},\n",
       "               'width': 700,\n",
       "               'xaxis': {'linewidth': 1.5,\n",
       "                         'mirror': True,\n",
       "                         'rangeselector': {'buttons': [{'count': 7, 'label': '1w', 'step': 'day', 'stepmode': 'backward'},\n",
       "                                                       {'count': 1,\n",
       "                                                        'label': '1m',\n",
       "                                                        'step': 'month',\n",
       "                                                        'stepmode': 'backward'},\n",
       "                                                       {'count': 6,\n",
       "                                                        'label': '6m',\n",
       "                                                        'step': 'month',\n",
       "                                                        'stepmode': 'backward'},\n",
       "                                                       {'count': 1, 'label': '1y', 'step': 'year', 'stepmode': 'backward'},\n",
       "                                                       {'step': 'all'}]},\n",
       "                         'rangeslider': {'visible': True},\n",
       "                         'showline': True,\n",
       "                         'title': {'text': 'ds'},\n",
       "                         'type': 'date'},\n",
       "               'yaxis': {'linewidth': 1.5, 'mirror': True, 'showline': True, 'title': {'text': 'y'}}}\n",
       "})"
      ]
     },
     "execution_count": 1,
     "metadata": {},
     "output_type": "execute_result"
    }
   ],
   "source": [
    "import pandas as pd\n",
    "from neuralprophet import NeuralProphet, set_log_level\n",
    "\n",
    "# Disable logging messages unless there is an error\n",
    "set_log_level(\"ERROR\")\n",
    "\n",
    "# Load the dataset from the CSV file using pandas\n",
    "df = pd.read_csv(\"https://github.com/ourownstory/neuralprophet-data/raw/main/kaggle-energy/datasets/tutorial01.csv\")\n",
    "\n",
    "# Reduce the number of epochs to 5 for faster training\n",
    "EPOCHS = 10\n",
    "\n",
    "# Model and prediction\n",
    "m = NeuralProphet(\n",
    "    epochs=EPOCHS,\n",
    "    # Disable trend changepoints\n",
    "    n_changepoints=10,\n",
    "    # Disable seasonality components\n",
    "    yearly_seasonality=True,\n",
    "    weekly_seasonality=True,\n",
    "    daily_seasonality=True,\n",
    ")\n",
    "metrics = m.fit(df)\n",
    "forecast = m.predict(df)\n",
    "m.plot(forecast)"
   ]
  },
  {
   "attachments": {},
   "cell_type": "markdown",
   "metadata": {},
   "source": [
    "To better understand what the remaining mismatch between our model and the real data is, we can look at the residuals. The residuals are the difference between the model's prediction and the real data. If the model is perfect, the residuals should be zero."
   ]
  },
  {
   "cell_type": "code",
   "execution_count": 2,
   "metadata": {},
   "outputs": [
    {
     "data": {
      "application/vnd.jupyter.widget-view+json": {
       "model_id": "350c1a6d001047fe916a0f55a190b223",
       "version_major": 2,
       "version_minor": 0
      },
      "text/plain": [
       "FigureWidgetResampler({\n",
       "    'data': [{'hovertemplate': 'ds=%{x}<br>residuals=%{y}<extra></extra>',\n",
       "              'legendgroup': '',\n",
       "              'line': {'color': '#636efa', 'dash': 'solid'},\n",
       "              'marker': {'symbol': 'circle'},\n",
       "              'mode': 'lines',\n",
       "              'name': '<b style=\"color:sandybrown\">[R]</b>  <i style=\"color:#fc9944\">~1D</i>',\n",
       "              'showlegend': False,\n",
       "              'type': 'scattergl',\n",
       "              'uid': '5b1b1922-f152-4244-ba7b-4b5fcd7b6c6f',\n",
       "              'x': array([datetime.datetime(2014, 12, 31, 0, 0),\n",
       "                          datetime.datetime(2015, 1, 1, 0, 0),\n",
       "                          datetime.datetime(2015, 1, 2, 0, 0), ...,\n",
       "                          datetime.datetime(2018, 12, 28, 0, 0),\n",
       "                          datetime.datetime(2018, 12, 30, 0, 0),\n",
       "                          datetime.datetime(2018, 12, 31, 0, 0)], dtype=object),\n",
       "              'xaxis': 'x',\n",
       "              'y': array([-0.41523346, -3.63242737,  4.26164001, ..., -2.28420593,  0.24746735,\n",
       "                          -3.06196564]),\n",
       "              'yaxis': 'y'}],\n",
       "    'layout': {'legend': {'tracegroupgap': 0},\n",
       "               'margin': {'t': 60},\n",
       "               'template': '...',\n",
       "               'xaxis': {'anchor': 'y', 'domain': [0.0, 1.0], 'title': {'text': 'ds'}},\n",
       "               'yaxis': {'anchor': 'x', 'domain': [0.0, 1.0], 'title': {'text': 'residuals'}}}\n",
       "})"
      ]
     },
     "execution_count": 2,
     "metadata": {},
     "output_type": "execute_result"
    }
   ],
   "source": [
    "df_residuals = pd.DataFrame({\n",
    "    \"ds\": df[\"ds\"],\n",
    "    \"residuals\": df[\"y\"] - forecast[\"yhat1\"]\n",
    "})\n",
    "df_residuals.plot(x=\"ds\", y=\"residuals\", backend=\"plotly\")"
   ]
  },
  {
   "attachments": {},
   "cell_type": "markdown",
   "metadata": {},
   "source": [
    "Let us explore what a good value for the autoregression would be. Create a autocorrelation chart."
   ]
  },
  {
   "cell_type": "code",
   "execution_count": null,
   "metadata": {},
   "outputs": [],
   "source": [
    "# TODO: Make sure statsmodels is installed"
   ]
  },
  {
   "cell_type": "code",
   "execution_count": 3,
   "metadata": {},
   "outputs": [
    {
     "data": {
      "image/png": "[encoded data removed]",
      "image/svg+xml": "<?xml version=\"1.0\" encoding=\"utf-8\" standalone=\"no\"?>\n<!DOCTYPE svg PUBLIC \"-//W3C//DTD SVG 1.1//EN\"\n  \"http://www.w3.org/Graphics/SVG/1.1/DTD/svg11.dtd\">\n<svg xmlns:xlink=\"http://www.w3.org/1999/xlink\" width=\"409.165312pt\" height=\"312.30825pt\" viewBox=\"0 0 409.165312 312.30825\" xmlns=\"http://www.w3.org/2000/svg\" version=\"1.1\">\n <metadata>\n  <rdf:RDF xmlns:dc=\"http://purl.org/dc/elements/1.1/\" xmlns:cc=\"http://creativecommons.org/ns#\" xmlns:rdf=\"http://www.w3.org/1999/02/22-rdf-syntax-ns#\">\n   <cc:Work>\n    <dc:type rdf:resource=\"http://purl.org/dc/dcmitype/StillImage\"/>\n    <dc:date>2023-03-01T23:43:44.426611</dc:date>\n    <dc:format>image/svg+xml</dc:format>\n    <dc:creator>\n     <cc:Agent>\n      <dc:title>Matplotlib v3.5.3, https://matplotlib.org/</dc:title>\n     </cc:Agent>\n    </dc:creator>\n   </cc:Work>\n  </rdf:RDF>\n </metadata>\n <defs>\n  <style type=\"text/css\">*{stroke-linejoin: round; stroke-linecap: butt}</style>\n </defs>\n <g id=\"figure_1\">\n  <g id=\"patch_1\">\n   <path d=\"M 0 312.30825 \nL 409.165312 312.30825 \nL 409.165312 0 \nL 0 0 \nz\n\" style=\"fill: #ffffff\"/>\n  </g>\n  <g id=\"axes_1\">\n   <g id=\"patch_2\">\n    <path d=\"M 44.845313 288.430125 \nL 401.965312 288.430125 \nL 401.965312 22.318125 \nL 44.845313 22.318125 \nz\n\" style=\"fill: #ffffff\"/>\n   </g>\n   <g id=\"PolyCollection_1\">\n    <path d=\"M 64.292441 148.55374 \nL 64.292441 162.19451 \nL 73.935646 165.736545 \nL 80.364448 167.534146 \nL 86.793251 168.933133 \nL 93.222054 170.130738 \nL 99.650857 171.124322 \nL 106.07966 171.956714 \nL 112.508463 172.67564 \nL 118.937266 173.261732 \nL 125.366069 173.757622 \nL 131.794871 174.160749 \nL 138.223674 174.486068 \nL 144.652477 174.790566 \nL 151.08128 175.090428 \nL 157.510083 175.373887 \nL 163.938886 175.639305 \nL 170.367689 175.874504 \nL 176.796492 176.106046 \nL 183.225294 176.3526 \nL 189.654097 176.606952 \nL 196.0829 176.848316 \nL 202.511703 177.080458 \nL 208.940506 177.280661 \nL 215.369309 177.469789 \nL 221.798112 177.664486 \nL 228.226915 177.837563 \nL 234.655718 177.996628 \nL 241.08452 178.155643 \nL 247.513323 178.328562 \nL 253.942126 178.484957 \nL 260.370929 178.63455 \nL 266.799732 178.789686 \nL 273.228535 178.93289 \nL 279.657338 179.059214 \nL 286.086141 179.175019 \nL 292.514943 179.298383 \nL 298.943746 179.42056 \nL 305.372549 179.532053 \nL 311.801352 179.644452 \nL 318.230155 179.753903 \nL 324.658958 179.856215 \nL 331.087761 179.965218 \nL 337.516564 180.077229 \nL 343.945367 180.17361 \nL 350.374169 180.265224 \nL 356.802972 180.356989 \nL 363.231775 180.441735 \nL 369.660578 180.52268 \nL 376.089381 180.603635 \nL 385.732585 180.685375 \nL 385.732585 130.062875 \nL 385.732585 130.062875 \nL 376.089381 130.144615 \nL 369.660578 130.22557 \nL 363.231775 130.306515 \nL 356.802972 130.391261 \nL 350.374169 130.483026 \nL 343.945367 130.57464 \nL 337.516564 130.671021 \nL 331.087761 130.783032 \nL 324.658958 130.892035 \nL 318.230155 130.994347 \nL 311.801352 131.103798 \nL 305.372549 131.216197 \nL 298.943746 131.32769 \nL 292.514943 131.449867 \nL 286.086141 131.573231 \nL 279.657338 131.689036 \nL 273.228535 131.81536 \nL 266.799732 131.958564 \nL 260.370929 132.1137 \nL 253.942126 132.263293 \nL 247.513323 132.419688 \nL 241.08452 132.592607 \nL 234.655718 132.751622 \nL 228.226915 132.910687 \nL 221.798112 133.083764 \nL 215.369309 133.278461 \nL 208.940506 133.467589 \nL 202.511703 133.667792 \nL 196.0829 133.899934 \nL 189.654097 134.141298 \nL 183.225294 134.39565 \nL 176.796492 134.642204 \nL 170.367689 134.873746 \nL 163.938886 135.108945 \nL 157.510083 135.374363 \nL 151.08128 135.657822 \nL 144.652477 135.957684 \nL 138.223674 136.262182 \nL 131.794871 136.587501 \nL 125.366069 136.990628 \nL 118.937266 137.486518 \nL 112.508463 138.07261 \nL 106.07966 138.791536 \nL 99.650857 139.623928 \nL 93.222054 140.617512 \nL 86.793251 141.815117 \nL 80.364448 143.214104 \nL 73.935646 145.011705 \nL 64.292441 148.55374 \nz\n\" clip-path=\"url(#p54a0434080)\" style=\"fill: #1f77b4; fill-opacity: 0.25\"/>\n   </g>\n   <g id=\"matplotlib.axis_1\">\n    <g id=\"xtick_1\">\n     <g id=\"line2d_1\">\n      <defs>\n       <path id=\"m1a822fedf6\" d=\"M 0 0 \nL 0 3.5 \n\" style=\"stroke: #000000; stroke-width: 0.8\"/>\n      </defs>\n      <g>\n       <use xlink:href=\"#m1a822fedf6\" x=\"61.07804\" y=\"288.430125\" style=\"stroke: #000000; stroke-width: 0.8\"/>\n      </g>\n     </g>\n     <g id=\"text_1\">\n      <!-- 0 -->\n      <g transform=\"translate(57.89679 303.028562)scale(0.1 -0.1)\">\n       <defs>\n        <path id=\"DejaVuSans-30\" d=\"M 2034 4250 \nQ 1547 4250 1301 3770 \nQ 1056 3291 1056 2328 \nQ 1056 1369 1301 889 \nQ 1547 409 2034 409 \nQ 2525 409 2770 889 \nQ 3016 1369 3016 2328 \nQ 3016 3291 2770 3770 \nQ 2525 4250 2034 4250 \nz\nM 2034 4750 \nQ 2819 4750 3233 4129 \nQ 3647 3509 3647 2328 \nQ 3647 1150 3233 529 \nQ 2819 -91 2034 -91 \nQ 1250 -91 836 529 \nQ 422 1150 422 2328 \nQ 422 3509 836 4129 \nQ 1250 4750 2034 4750 \nz\n\" transform=\"scale(0.015625)\"/>\n       </defs>\n       <use xlink:href=\"#DejaVuSans-30\"/>\n      </g>\n     </g>\n    </g>\n    <g id=\"xtick_2\">\n     <g id=\"line2d_2\">\n      <g>\n       <use xlink:href=\"#m1a822fedf6\" x=\"125.366069\" y=\"288.430125\" style=\"stroke: #000000; stroke-width: 0.8\"/>\n      </g>\n     </g>\n     <g id=\"text_2\">\n      <!-- 10 -->\n      <g transform=\"translate(119.003569 303.028562)scale(0.1 -0.1)\">\n       <defs>\n        <path id=\"DejaVuSans-31\" d=\"M 794 531 \nL 1825 531 \nL 1825 4091 \nL 703 3866 \nL 703 4441 \nL 1819 4666 \nL 2450 4666 \nL 2450 531 \nL 3481 531 \nL 3481 0 \nL 794 0 \nL 794 531 \nz\n\" transform=\"scale(0.015625)\"/>\n       </defs>\n       <use xlink:href=\"#DejaVuSans-31\"/>\n       <use xlink:href=\"#DejaVuSans-30\" x=\"63.623047\"/>\n      </g>\n     </g>\n    </g>\n    <g id=\"xtick_3\">\n     <g id=\"line2d_3\">\n      <g>\n       <use xlink:href=\"#m1a822fedf6\" x=\"189.654097\" y=\"288.430125\" style=\"stroke: #000000; stroke-width: 0.8\"/>\n      </g>\n     </g>\n     <g id=\"text_3\">\n      <!-- 20 -->\n      <g transform=\"translate(183.291597 303.028562)scale(0.1 -0.1)\">\n       <defs>\n        <path id=\"DejaVuSans-32\" d=\"M 1228 531 \nL 3431 531 \nL 3431 0 \nL 469 0 \nL 469 531 \nQ 828 903 1448 1529 \nQ 2069 2156 2228 2338 \nQ 2531 2678 2651 2914 \nQ 2772 3150 2772 3378 \nQ 2772 3750 2511 3984 \nQ 2250 4219 1831 4219 \nQ 1534 4219 1204 4116 \nQ 875 4013 500 3803 \nL 500 4441 \nQ 881 4594 1212 4672 \nQ 1544 4750 1819 4750 \nQ 2544 4750 2975 4387 \nQ 3406 4025 3406 3419 \nQ 3406 3131 3298 2873 \nQ 3191 2616 2906 2266 \nQ 2828 2175 2409 1742 \nQ 1991 1309 1228 531 \nz\n\" transform=\"scale(0.015625)\"/>\n       </defs>\n       <use xlink:href=\"#DejaVuSans-32\"/>\n       <use xlink:href=\"#DejaVuSans-30\" x=\"63.623047\"/>\n      </g>\n     </g>\n    </g>\n    <g id=\"xtick_4\">\n     <g id=\"line2d_4\">\n      <g>\n       <use xlink:href=\"#m1a822fedf6\" x=\"253.942126\" y=\"288.430125\" style=\"stroke: #000000; stroke-width: 0.8\"/>\n      </g>\n     </g>\n     <g id=\"text_4\">\n      <!-- 30 -->\n      <g transform=\"translate(247.579626 303.028562)scale(0.1 -0.1)\">\n       <defs>\n        <path id=\"DejaVuSans-33\" d=\"M 2597 2516 \nQ 3050 2419 3304 2112 \nQ 3559 1806 3559 1356 \nQ 3559 666 3084 287 \nQ 2609 -91 1734 -91 \nQ 1441 -91 1130 -33 \nQ 819 25 488 141 \nL 488 750 \nQ 750 597 1062 519 \nQ 1375 441 1716 441 \nQ 2309 441 2620 675 \nQ 2931 909 2931 1356 \nQ 2931 1769 2642 2001 \nQ 2353 2234 1838 2234 \nL 1294 2234 \nL 1294 2753 \nL 1863 2753 \nQ 2328 2753 2575 2939 \nQ 2822 3125 2822 3475 \nQ 2822 3834 2567 4026 \nQ 2313 4219 1838 4219 \nQ 1578 4219 1281 4162 \nQ 984 4106 628 3988 \nL 628 4550 \nQ 988 4650 1302 4700 \nQ 1616 4750 1894 4750 \nQ 2613 4750 3031 4423 \nQ 3450 4097 3450 3541 \nQ 3450 3153 3228 2886 \nQ 3006 2619 2597 2516 \nz\n\" transform=\"scale(0.015625)\"/>\n       </defs>\n       <use xlink:href=\"#DejaVuSans-33\"/>\n       <use xlink:href=\"#DejaVuSans-30\" x=\"63.623047\"/>\n      </g>\n     </g>\n    </g>\n    <g id=\"xtick_5\">\n     <g id=\"line2d_5\">\n      <g>\n       <use xlink:href=\"#m1a822fedf6\" x=\"318.230155\" y=\"288.430125\" style=\"stroke: #000000; stroke-width: 0.8\"/>\n      </g>\n     </g>\n     <g id=\"text_5\">\n      <!-- 40 -->\n      <g transform=\"translate(311.867655 303.028562)scale(0.1 -0.1)\">\n       <defs>\n        <path id=\"DejaVuSans-34\" d=\"M 2419 4116 \nL 825 1625 \nL 2419 1625 \nL 2419 4116 \nz\nM 2253 4666 \nL 3047 4666 \nL 3047 1625 \nL 3713 1625 \nL 3713 1100 \nL 3047 1100 \nL 3047 0 \nL 2419 0 \nL 2419 1100 \nL 313 1100 \nL 313 1709 \nL 2253 4666 \nz\n\" transform=\"scale(0.015625)\"/>\n       </defs>\n       <use xlink:href=\"#DejaVuSans-34\"/>\n       <use xlink:href=\"#DejaVuSans-30\" x=\"63.623047\"/>\n      </g>\n     </g>\n    </g>\n    <g id=\"xtick_6\">\n     <g id=\"line2d_6\">\n      <g>\n       <use xlink:href=\"#m1a822fedf6\" x=\"382.518184\" y=\"288.430125\" style=\"stroke: #000000; stroke-width: 0.8\"/>\n      </g>\n     </g>\n     <g id=\"text_6\">\n      <!-- 50 -->\n      <g transform=\"translate(376.155684 303.028562)scale(0.1 -0.1)\">\n       <defs>\n        <path id=\"DejaVuSans-35\" d=\"M 691 4666 \nL 3169 4666 \nL 3169 4134 \nL 1269 4134 \nL 1269 2991 \nQ 1406 3038 1543 3061 \nQ 1681 3084 1819 3084 \nQ 2600 3084 3056 2656 \nQ 3513 2228 3513 1497 \nQ 3513 744 3044 326 \nQ 2575 -91 1722 -91 \nQ 1428 -91 1123 -41 \nQ 819 9 494 109 \nL 494 744 \nQ 775 591 1075 516 \nQ 1375 441 1709 441 \nQ 2250 441 2565 725 \nQ 2881 1009 2881 1497 \nQ 2881 1984 2565 2268 \nQ 2250 2553 1709 2553 \nQ 1456 2553 1204 2497 \nQ 953 2441 691 2322 \nL 691 4666 \nz\n\" transform=\"scale(0.015625)\"/>\n       </defs>\n       <use xlink:href=\"#DejaVuSans-35\"/>\n       <use xlink:href=\"#DejaVuSans-30\" x=\"63.623047\"/>\n      </g>\n     </g>\n    </g>\n   </g>\n   <g id=\"matplotlib.axis_2\">\n    <g id=\"ytick_1\">\n     <g id=\"line2d_7\">\n      <defs>\n       <path id=\"m5382959fe0\" d=\"M 0 0 \nL -3.5 0 \n\" style=\"stroke: #000000; stroke-width: 0.8\"/>\n      </defs>\n      <g>\n       <use xlink:href=\"#m5382959fe0\" x=\"44.845313\" y=\"288.430125\" style=\"stroke: #000000; stroke-width: 0.8\"/>\n      </g>\n     </g>\n     <g id=\"text_7\">\n      <!-- −1.00 -->\n      <g transform=\"translate(7.2 292.229344)scale(0.1 -0.1)\">\n       <defs>\n        <path id=\"DejaVuSans-2212\" d=\"M 678 2272 \nL 4684 2272 \nL 4684 1741 \nL 678 1741 \nL 678 2272 \nz\n\" transform=\"scale(0.015625)\"/>\n        <path id=\"DejaVuSans-2e\" d=\"M 684 794 \nL 1344 794 \nL 1344 0 \nL 684 0 \nL 684 794 \nz\n\" transform=\"scale(0.015625)\"/>\n       </defs>\n       <use xlink:href=\"#DejaVuSans-2212\"/>\n       <use xlink:href=\"#DejaVuSans-31\" x=\"83.789062\"/>\n       <use xlink:href=\"#DejaVuSans-2e\" x=\"147.412109\"/>\n       <use xlink:href=\"#DejaVuSans-30\" x=\"179.199219\"/>\n       <use xlink:href=\"#DejaVuSans-30\" x=\"242.822266\"/>\n      </g>\n     </g>\n    </g>\n    <g id=\"ytick_2\">\n     <g id=\"line2d_8\">\n      <g>\n       <use xlink:href=\"#m5382959fe0\" x=\"44.845313\" y=\"255.166125\" style=\"stroke: #000000; stroke-width: 0.8\"/>\n      </g>\n     </g>\n     <g id=\"text_8\">\n      <!-- −0.75 -->\n      <g transform=\"translate(7.2 258.965344)scale(0.1 -0.1)\">\n       <defs>\n        <path id=\"DejaVuSans-37\" d=\"M 525 4666 \nL 3525 4666 \nL 3525 4397 \nL 1831 0 \nL 1172 0 \nL 2766 4134 \nL 525 4134 \nL 525 4666 \nz\n\" transform=\"scale(0.015625)\"/>\n       </defs>\n       <use xlink:href=\"#DejaVuSans-2212\"/>\n       <use xlink:href=\"#DejaVuSans-30\" x=\"83.789062\"/>\n       <use xlink:href=\"#DejaVuSans-2e\" x=\"147.412109\"/>\n       <use xlink:href=\"#DejaVuSans-37\" x=\"179.199219\"/>\n       <use xlink:href=\"#DejaVuSans-35\" x=\"242.822266\"/>\n      </g>\n     </g>\n    </g>\n    <g id=\"ytick_3\">\n     <g id=\"line2d_9\">\n      <g>\n       <use xlink:href=\"#m5382959fe0\" x=\"44.845313\" y=\"221.902125\" style=\"stroke: #000000; stroke-width: 0.8\"/>\n      </g>\n     </g>\n     <g id=\"text_9\">\n      <!-- −0.50 -->\n      <g transform=\"translate(7.2 225.701344)scale(0.1 -0.1)\">\n       <use xlink:href=\"#DejaVuSans-2212\"/>\n       <use xlink:href=\"#DejaVuSans-30\" x=\"83.789062\"/>\n       <use xlink:href=\"#DejaVuSans-2e\" x=\"147.412109\"/>\n       <use xlink:href=\"#DejaVuSans-35\" x=\"179.199219\"/>\n       <use xlink:href=\"#DejaVuSans-30\" x=\"242.822266\"/>\n      </g>\n     </g>\n    </g>\n    <g id=\"ytick_4\">\n     <g id=\"line2d_10\">\n      <g>\n       <use xlink:href=\"#m5382959fe0\" x=\"44.845313\" y=\"188.638125\" style=\"stroke: #000000; stroke-width: 0.8\"/>\n      </g>\n     </g>\n     <g id=\"text_10\">\n      <!-- −0.25 -->\n      <g transform=\"translate(7.2 192.437344)scale(0.1 -0.1)\">\n       <use xlink:href=\"#DejaVuSans-2212\"/>\n       <use xlink:href=\"#DejaVuSans-30\" x=\"83.789062\"/>\n       <use xlink:href=\"#DejaVuSans-2e\" x=\"147.412109\"/>\n       <use xlink:href=\"#DejaVuSans-32\" x=\"179.199219\"/>\n       <use xlink:href=\"#DejaVuSans-35\" x=\"242.822266\"/>\n      </g>\n     </g>\n    </g>\n    <g id=\"ytick_5\">\n     <g id=\"line2d_11\">\n      <g>\n       <use xlink:href=\"#m5382959fe0\" x=\"44.845313\" y=\"155.374125\" style=\"stroke: #000000; stroke-width: 0.8\"/>\n      </g>\n     </g>\n     <g id=\"text_11\">\n      <!-- 0.00 -->\n      <g transform=\"translate(15.579688 159.173344)scale(0.1 -0.1)\">\n       <use xlink:href=\"#DejaVuSans-30\"/>\n       <use xlink:href=\"#DejaVuSans-2e\" x=\"63.623047\"/>\n       <use xlink:href=\"#DejaVuSans-30\" x=\"95.410156\"/>\n       <use xlink:href=\"#DejaVuSans-30\" x=\"159.033203\"/>\n      </g>\n     </g>\n    </g>\n    <g id=\"ytick_6\">\n     <g id=\"line2d_12\">\n      <g>\n       <use xlink:href=\"#m5382959fe0\" x=\"44.845313\" y=\"122.110125\" style=\"stroke: #000000; stroke-width: 0.8\"/>\n      </g>\n     </g>\n     <g id=\"text_12\">\n      <!-- 0.25 -->\n      <g transform=\"translate(15.579688 125.909344)scale(0.1 -0.1)\">\n       <use xlink:href=\"#DejaVuSans-30\"/>\n       <use xlink:href=\"#DejaVuSans-2e\" x=\"63.623047\"/>\n       <use xlink:href=\"#DejaVuSans-32\" x=\"95.410156\"/>\n       <use xlink:href=\"#DejaVuSans-35\" x=\"159.033203\"/>\n      </g>\n     </g>\n    </g>\n    <g id=\"ytick_7\">\n     <g id=\"line2d_13\">\n      <g>\n       <use xlink:href=\"#m5382959fe0\" x=\"44.845313\" y=\"88.846125\" style=\"stroke: #000000; stroke-width: 0.8\"/>\n      </g>\n     </g>\n     <g id=\"text_13\">\n      <!-- 0.50 -->\n      <g transform=\"translate(15.579688 92.645344)scale(0.1 -0.1)\">\n       <use xlink:href=\"#DejaVuSans-30\"/>\n       <use xlink:href=\"#DejaVuSans-2e\" x=\"63.623047\"/>\n       <use xlink:href=\"#DejaVuSans-35\" x=\"95.410156\"/>\n       <use xlink:href=\"#DejaVuSans-30\" x=\"159.033203\"/>\n      </g>\n     </g>\n    </g>\n    <g id=\"ytick_8\">\n     <g id=\"line2d_14\">\n      <g>\n       <use xlink:href=\"#m5382959fe0\" x=\"44.845313\" y=\"55.582125\" style=\"stroke: #000000; stroke-width: 0.8\"/>\n      </g>\n     </g>\n     <g id=\"text_14\">\n      <!-- 0.75 -->\n      <g transform=\"translate(15.579688 59.381344)scale(0.1 -0.1)\">\n       <use xlink:href=\"#DejaVuSans-30\"/>\n       <use xlink:href=\"#DejaVuSans-2e\" x=\"63.623047\"/>\n       <use xlink:href=\"#DejaVuSans-37\" x=\"95.410156\"/>\n       <use xlink:href=\"#DejaVuSans-35\" x=\"159.033203\"/>\n      </g>\n     </g>\n    </g>\n    <g id=\"ytick_9\">\n     <g id=\"line2d_15\">\n      <g>\n       <use xlink:href=\"#m5382959fe0\" x=\"44.845313\" y=\"22.318125\" style=\"stroke: #000000; stroke-width: 0.8\"/>\n      </g>\n     </g>\n     <g id=\"text_15\">\n      <!-- 1.00 -->\n      <g transform=\"translate(15.579688 26.117344)scale(0.1 -0.1)\">\n       <use xlink:href=\"#DejaVuSans-31\"/>\n       <use xlink:href=\"#DejaVuSans-2e\" x=\"63.623047\"/>\n       <use xlink:href=\"#DejaVuSans-30\" x=\"95.410156\"/>\n       <use xlink:href=\"#DejaVuSans-30\" x=\"159.033203\"/>\n      </g>\n     </g>\n    </g>\n   </g>\n   <g id=\"LineCollection_1\">\n    <path d=\"M 61.07804 155.374125 \nL 61.07804 22.318125 \n\" clip-path=\"url(#p54a0434080)\" style=\"fill: none; stroke: #1f77b4; stroke-width: 1.5\"/>\n    <path d=\"M 67.506843 155.374125 \nL 67.506843 47.756341 \n\" clip-path=\"url(#p54a0434080)\" style=\"fill: none; stroke: #1f77b4; stroke-width: 1.5\"/>\n    <path d=\"M 73.935646 155.374125 \nL 73.935646 67.600302 \n\" clip-path=\"url(#p54a0434080)\" style=\"fill: none; stroke: #1f77b4; stroke-width: 1.5\"/>\n    <path d=\"M 80.364448 155.374125 \nL 80.364448 72.628553 \n\" clip-path=\"url(#p54a0434080)\" style=\"fill: none; stroke: #1f77b4; stroke-width: 1.5\"/>\n    <path d=\"M 86.793251 155.374125 \nL 86.793251 75.043648 \n\" clip-path=\"url(#p54a0434080)\" style=\"fill: none; stroke: #1f77b4; stroke-width: 1.5\"/>\n    <path d=\"M 93.222054 155.374125 \nL 93.222054 79.427009 \n\" clip-path=\"url(#p54a0434080)\" style=\"fill: none; stroke: #1f77b4; stroke-width: 1.5\"/>\n    <path d=\"M 99.650857 155.374125 \nL 99.650857 83.809882 \n\" clip-path=\"url(#p54a0434080)\" style=\"fill: none; stroke: #1f77b4; stroke-width: 1.5\"/>\n    <path d=\"M 106.07966 155.374125 \nL 106.07966 87.289211 \n\" clip-path=\"url(#p54a0434080)\" style=\"fill: none; stroke: #1f77b4; stroke-width: 1.5\"/>\n    <path d=\"M 112.508463 155.374125 \nL 112.508463 92.727515 \n\" clip-path=\"url(#p54a0434080)\" style=\"fill: none; stroke: #1f77b4; stroke-width: 1.5\"/>\n    <path d=\"M 118.937266 155.374125 \nL 118.937266 96.87037 \n\" clip-path=\"url(#p54a0434080)\" style=\"fill: none; stroke: #1f77b4; stroke-width: 1.5\"/>\n    <path d=\"M 125.366069 155.374125 \nL 125.366069 101.975669 \n\" clip-path=\"url(#p54a0434080)\" style=\"fill: none; stroke: #1f77b4; stroke-width: 1.5\"/>\n    <path d=\"M 131.794871 155.374125 \nL 131.794871 106.937227 \n\" clip-path=\"url(#p54a0434080)\" style=\"fill: none; stroke: #1f77b4; stroke-width: 1.5\"/>\n    <path d=\"M 138.223674 155.374125 \nL 138.223674 108.125075 \n\" clip-path=\"url(#p54a0434080)\" style=\"fill: none; stroke: #1f77b4; stroke-width: 1.5\"/>\n    <path d=\"M 144.652477 155.374125 \nL 144.652477 108.119783 \n\" clip-path=\"url(#p54a0434080)\" style=\"fill: none; stroke: #1f77b4; stroke-width: 1.5\"/>\n    <path d=\"M 151.08128 155.374125 \nL 151.08128 109.089306 \n\" clip-path=\"url(#p54a0434080)\" style=\"fill: none; stroke: #1f77b4; stroke-width: 1.5\"/>\n    <path d=\"M 157.510083 155.374125 \nL 157.510083 110.27797 \n\" clip-path=\"url(#p54a0434080)\" style=\"fill: none; stroke: #1f77b4; stroke-width: 1.5\"/>\n    <path d=\"M 163.938886 155.374125 \nL 163.938886 112.659671 \n\" clip-path=\"url(#p54a0434080)\" style=\"fill: none; stroke: #1f77b4; stroke-width: 1.5\"/>\n    <path d=\"M 170.367689 155.374125 \nL 170.367689 112.751035 \n\" clip-path=\"url(#p54a0434080)\" style=\"fill: none; stroke: #1f77b4; stroke-width: 1.5\"/>\n    <path d=\"M 176.796492 155.374125 \nL 176.796492 111.136874 \n\" clip-path=\"url(#p54a0434080)\" style=\"fill: none; stroke: #1f77b4; stroke-width: 1.5\"/>\n    <path d=\"M 183.225294 155.374125 \nL 183.225294 110.173678 \n\" clip-path=\"url(#p54a0434080)\" style=\"fill: none; stroke: #1f77b4; stroke-width: 1.5\"/>\n    <path d=\"M 189.654097 155.374125 \nL 189.654097 111.085065 \n\" clip-path=\"url(#p54a0434080)\" style=\"fill: none; stroke: #1f77b4; stroke-width: 1.5\"/>\n    <path d=\"M 196.0829 155.374125 \nL 196.0829 111.699239 \n\" clip-path=\"url(#p54a0434080)\" style=\"fill: none; stroke: #1f77b4; stroke-width: 1.5\"/>\n    <path d=\"M 202.511703 155.374125 \nL 202.511703 114.612365 \n\" clip-path=\"url(#p54a0434080)\" style=\"fill: none; stroke: #1f77b4; stroke-width: 1.5\"/>\n    <path d=\"M 208.940506 155.374125 \nL 208.940506 115.579364 \n\" clip-path=\"url(#p54a0434080)\" style=\"fill: none; stroke: #1f77b4; stroke-width: 1.5\"/>\n    <path d=\"M 215.369309 155.374125 \nL 215.369309 114.822023 \n\" clip-path=\"url(#p54a0434080)\" style=\"fill: none; stroke: #1f77b4; stroke-width: 1.5\"/>\n    <path d=\"M 221.798112 155.374125 \nL 221.798112 116.981728 \n\" clip-path=\"url(#p54a0434080)\" style=\"fill: none; stroke: #1f77b4; stroke-width: 1.5\"/>\n    <path d=\"M 228.226915 155.374125 \nL 228.226915 118.432356 \n\" clip-path=\"url(#p54a0434080)\" style=\"fill: none; stroke: #1f77b4; stroke-width: 1.5\"/>\n    <path d=\"M 234.655718 155.374125 \nL 234.655718 118.307974 \n\" clip-path=\"url(#p54a0434080)\" style=\"fill: none; stroke: #1f77b4; stroke-width: 1.5\"/>\n    <path d=\"M 241.08452 155.374125 \nL 241.08452 116.580488 \n\" clip-path=\"url(#p54a0434080)\" style=\"fill: none; stroke: #1f77b4; stroke-width: 1.5\"/>\n    <path d=\"M 247.513323 155.374125 \nL 247.513323 118.347977 \n\" clip-path=\"url(#p54a0434080)\" style=\"fill: none; stroke: #1f77b4; stroke-width: 1.5\"/>\n    <path d=\"M 253.942126 155.374125 \nL 253.942126 119.042 \n\" clip-path=\"url(#p54a0434080)\" style=\"fill: none; stroke: #1f77b4; stroke-width: 1.5\"/>\n    <path d=\"M 260.370929 155.374125 \nL 260.370929 118.25359 \n\" clip-path=\"url(#p54a0434080)\" style=\"fill: none; stroke: #1f77b4; stroke-width: 1.5\"/>\n    <path d=\"M 266.799732 155.374125 \nL 266.799732 119.59593 \n\" clip-path=\"url(#p54a0434080)\" style=\"fill: none; stroke: #1f77b4; stroke-width: 1.5\"/>\n    <path d=\"M 273.228535 155.374125 \nL 273.228535 121.674459 \n\" clip-path=\"url(#p54a0434080)\" style=\"fill: none; stroke: #1f77b4; stroke-width: 1.5\"/>\n    <path d=\"M 279.657338 155.374125 \nL 279.657338 123.025413 \n\" clip-path=\"url(#p54a0434080)\" style=\"fill: none; stroke: #1f77b4; stroke-width: 1.5\"/>\n    <path d=\"M 286.086141 155.374125 \nL 286.086141 121.902375 \n\" clip-path=\"url(#p54a0434080)\" style=\"fill: none; stroke: #1f77b4; stroke-width: 1.5\"/>\n    <path d=\"M 292.514943 155.374125 \nL 292.514943 121.978171 \n\" clip-path=\"url(#p54a0434080)\" style=\"fill: none; stroke: #1f77b4; stroke-width: 1.5\"/>\n    <path d=\"M 298.943746 155.374125 \nL 298.943746 123.394194 \n\" clip-path=\"url(#p54a0434080)\" style=\"fill: none; stroke: #1f77b4; stroke-width: 1.5\"/>\n    <path d=\"M 305.372549 155.374125 \nL 305.372549 123.190008 \n\" clip-path=\"url(#p54a0434080)\" style=\"fill: none; stroke: #1f77b4; stroke-width: 1.5\"/>\n    <path d=\"M 311.801352 155.374125 \nL 311.801352 123.54227 \n\" clip-path=\"url(#p54a0434080)\" style=\"fill: none; stroke: #1f77b4; stroke-width: 1.5\"/>\n    <path d=\"M 318.230155 155.374125 \nL 318.230155 124.530996 \n\" clip-path=\"url(#p54a0434080)\" style=\"fill: none; stroke: #1f77b4; stroke-width: 1.5\"/>\n    <path d=\"M 324.658958 155.374125 \nL 324.658958 123.469566 \n\" clip-path=\"url(#p54a0434080)\" style=\"fill: none; stroke: #1f77b4; stroke-width: 1.5\"/>\n    <path d=\"M 331.087761 155.374125 \nL 331.087761 122.959662 \n\" clip-path=\"url(#p54a0434080)\" style=\"fill: none; stroke: #1f77b4; stroke-width: 1.5\"/>\n    <path d=\"M 337.516564 155.374125 \nL 337.516564 125.242632 \n\" clip-path=\"url(#p54a0434080)\" style=\"fill: none; stroke: #1f77b4; stroke-width: 1.5\"/>\n    <path d=\"M 343.945367 155.374125 \nL 343.945367 125.941635 \n\" clip-path=\"url(#p54a0434080)\" style=\"fill: none; stroke: #1f77b4; stroke-width: 1.5\"/>\n    <path d=\"M 350.374169 155.374125 \nL 350.374169 125.862968 \n\" clip-path=\"url(#p54a0434080)\" style=\"fill: none; stroke: #1f77b4; stroke-width: 1.5\"/>\n    <path d=\"M 356.802972 155.374125 \nL 356.802972 126.963901 \n\" clip-path=\"url(#p54a0434080)\" style=\"fill: none; stroke: #1f77b4; stroke-width: 1.5\"/>\n    <path d=\"M 363.231775 155.374125 \nL 363.231775 127.562505 \n\" clip-path=\"url(#p54a0434080)\" style=\"fill: none; stroke: #1f77b4; stroke-width: 1.5\"/>\n    <path d=\"M 369.660578 155.374125 \nL 369.660578 127.515823 \n\" clip-path=\"url(#p54a0434080)\" style=\"fill: none; stroke: #1f77b4; stroke-width: 1.5\"/>\n    <path d=\"M 376.089381 155.374125 \nL 376.089381 127.336069 \n\" clip-path=\"url(#p54a0434080)\" style=\"fill: none; stroke: #1f77b4; stroke-width: 1.5\"/>\n    <path d=\"M 382.518184 155.374125 \nL 382.518184 131.40735 \n\" clip-path=\"url(#p54a0434080)\" style=\"fill: none; stroke: #1f77b4; stroke-width: 1.5\"/>\n   </g>\n   <g id=\"line2d_16\">\n    <path d=\"M 44.845313 155.374125 \nL 401.965312 155.374125 \n\" clip-path=\"url(#p54a0434080)\" style=\"fill: none; stroke: #1f77b4; stroke-width: 1.5; stroke-linecap: square\"/>\n   </g>\n   <g id=\"line2d_17\">\n    <defs>\n     <path id=\"mec960cb4c0\" d=\"M 0 2.5 \nC 0.663008 2.5 1.29895 2.236584 1.767767 1.767767 \nC 2.236584 1.29895 2.5 0.663008 2.5 0 \nC 2.5 -0.663008 2.236584 -1.29895 1.767767 -1.767767 \nC 1.29895 -2.236584 0.663008 -2.5 0 -2.5 \nC -0.663008 -2.5 -1.29895 -2.236584 -1.767767 -1.767767 \nC -2.236584 -1.29895 -2.5 -0.663008 -2.5 0 \nC -2.5 0.663008 -2.236584 1.29895 -1.767767 1.767767 \nC -1.29895 2.236584 -0.663008 2.5 0 2.5 \nz\n\" style=\"stroke: #1f77b4\"/>\n    </defs>\n    <g clip-path=\"url(#p54a0434080)\">\n     <use xlink:href=\"#mec960cb4c0\" x=\"61.07804\" y=\"22.318125\" style=\"fill: #1f77b4; stroke: #1f77b4\"/>\n     <use xlink:href=\"#mec960cb4c0\" x=\"67.506843\" y=\"47.756341\" style=\"fill: #1f77b4; stroke: #1f77b4\"/>\n     <use xlink:href=\"#mec960cb4c0\" x=\"73.935646\" y=\"67.600302\" style=\"fill: #1f77b4; stroke: #1f77b4\"/>\n     <use xlink:href=\"#mec960cb4c0\" x=\"80.364448\" y=\"72.628553\" style=\"fill: #1f77b4; stroke: #1f77b4\"/>\n     <use xlink:href=\"#mec960cb4c0\" x=\"86.793251\" y=\"75.043648\" style=\"fill: #1f77b4; stroke: #1f77b4\"/>\n     <use xlink:href=\"#mec960cb4c0\" x=\"93.222054\" y=\"79.427009\" style=\"fill: #1f77b4; stroke: #1f77b4\"/>\n     <use xlink:href=\"#mec960cb4c0\" x=\"99.650857\" y=\"83.809882\" style=\"fill: #1f77b4; stroke: #1f77b4\"/>\n     <use xlink:href=\"#mec960cb4c0\" x=\"106.07966\" y=\"87.289211\" style=\"fill: #1f77b4; stroke: #1f77b4\"/>\n     <use xlink:href=\"#mec960cb4c0\" x=\"112.508463\" y=\"92.727515\" style=\"fill: #1f77b4; stroke: #1f77b4\"/>\n     <use xlink:href=\"#mec960cb4c0\" x=\"118.937266\" y=\"96.87037\" style=\"fill: #1f77b4; stroke: #1f77b4\"/>\n     <use xlink:href=\"#mec960cb4c0\" x=\"125.366069\" y=\"101.975669\" style=\"fill: #1f77b4; stroke: #1f77b4\"/>\n     <use xlink:href=\"#mec960cb4c0\" x=\"131.794871\" y=\"106.937227\" style=\"fill: #1f77b4; stroke: #1f77b4\"/>\n     <use xlink:href=\"#mec960cb4c0\" x=\"138.223674\" y=\"108.125075\" style=\"fill: #1f77b4; stroke: #1f77b4\"/>\n     <use xlink:href=\"#mec960cb4c0\" x=\"144.652477\" y=\"108.119783\" style=\"fill: #1f77b4; stroke: #1f77b4\"/>\n     <use xlink:href=\"#mec960cb4c0\" x=\"151.08128\" y=\"109.089306\" style=\"fill: #1f77b4; stroke: #1f77b4\"/>\n     <use xlink:href=\"#mec960cb4c0\" x=\"157.510083\" y=\"110.27797\" style=\"fill: #1f77b4; stroke: #1f77b4\"/>\n     <use xlink:href=\"#mec960cb4c0\" x=\"163.938886\" y=\"112.659671\" style=\"fill: #1f77b4; stroke: #1f77b4\"/>\n     <use xlink:href=\"#mec960cb4c0\" x=\"170.367689\" y=\"112.751035\" style=\"fill: #1f77b4; stroke: #1f77b4\"/>\n     <use xlink:href=\"#mec960cb4c0\" x=\"176.796492\" y=\"111.136874\" style=\"fill: #1f77b4; stroke: #1f77b4\"/>\n     <use xlink:href=\"#mec960cb4c0\" x=\"183.225294\" y=\"110.173678\" style=\"fill: #1f77b4; stroke: #1f77b4\"/>\n     <use xlink:href=\"#mec960cb4c0\" x=\"189.654097\" y=\"111.085065\" style=\"fill: #1f77b4; stroke: #1f77b4\"/>\n     <use xlink:href=\"#mec960cb4c0\" x=\"196.0829\" y=\"111.699239\" style=\"fill: #1f77b4; stroke: #1f77b4\"/>\n     <use xlink:href=\"#mec960cb4c0\" x=\"202.511703\" y=\"114.612365\" style=\"fill: #1f77b4; stroke: #1f77b4\"/>\n     <use xlink:href=\"#mec960cb4c0\" x=\"208.940506\" y=\"115.579364\" style=\"fill: #1f77b4; stroke: #1f77b4\"/>\n     <use xlink:href=\"#mec960cb4c0\" x=\"215.369309\" y=\"114.822023\" style=\"fill: #1f77b4; stroke: #1f77b4\"/>\n     <use xlink:href=\"#mec960cb4c0\" x=\"221.798112\" y=\"116.981728\" style=\"fill: #1f77b4; stroke: #1f77b4\"/>\n     <use xlink:href=\"#mec960cb4c0\" x=\"228.226915\" y=\"118.432356\" style=\"fill: #1f77b4; stroke: #1f77b4\"/>\n     <use xlink:href=\"#mec960cb4c0\" x=\"234.655718\" y=\"118.307974\" style=\"fill: #1f77b4; stroke: #1f77b4\"/>\n     <use xlink:href=\"#mec960cb4c0\" x=\"241.08452\" y=\"116.580488\" style=\"fill: #1f77b4; stroke: #1f77b4\"/>\n     <use xlink:href=\"#mec960cb4c0\" x=\"247.513323\" y=\"118.347977\" style=\"fill: #1f77b4; stroke: #1f77b4\"/>\n     <use xlink:href=\"#mec960cb4c0\" x=\"253.942126\" y=\"119.042\" style=\"fill: #1f77b4; stroke: #1f77b4\"/>\n     <use xlink:href=\"#mec960cb4c0\" x=\"260.370929\" y=\"118.25359\" style=\"fill: #1f77b4; stroke: #1f77b4\"/>\n     <use xlink:href=\"#mec960cb4c0\" x=\"266.799732\" y=\"119.59593\" style=\"fill: #1f77b4; stroke: #1f77b4\"/>\n     <use xlink:href=\"#mec960cb4c0\" x=\"273.228535\" y=\"121.674459\" style=\"fill: #1f77b4; stroke: #1f77b4\"/>\n     <use xlink:href=\"#mec960cb4c0\" x=\"279.657338\" y=\"123.025413\" style=\"fill: #1f77b4; stroke: #1f77b4\"/>\n     <use xlink:href=\"#mec960cb4c0\" x=\"286.086141\" y=\"121.902375\" style=\"fill: #1f77b4; stroke: #1f77b4\"/>\n     <use xlink:href=\"#mec960cb4c0\" x=\"292.514943\" y=\"121.978171\" style=\"fill: #1f77b4; stroke: #1f77b4\"/>\n     <use xlink:href=\"#mec960cb4c0\" x=\"298.943746\" y=\"123.394194\" style=\"fill: #1f77b4; stroke: #1f77b4\"/>\n     <use xlink:href=\"#mec960cb4c0\" x=\"305.372549\" y=\"123.190008\" style=\"fill: #1f77b4; stroke: #1f77b4\"/>\n     <use xlink:href=\"#mec960cb4c0\" x=\"311.801352\" y=\"123.54227\" style=\"fill: #1f77b4; stroke: #1f77b4\"/>\n     <use xlink:href=\"#mec960cb4c0\" x=\"318.230155\" y=\"124.530996\" style=\"fill: #1f77b4; stroke: #1f77b4\"/>\n     <use xlink:href=\"#mec960cb4c0\" x=\"324.658958\" y=\"123.469566\" style=\"fill: #1f77b4; stroke: #1f77b4\"/>\n     <use xlink:href=\"#mec960cb4c0\" x=\"331.087761\" y=\"122.959662\" style=\"fill: #1f77b4; stroke: #1f77b4\"/>\n     <use xlink:href=\"#mec960cb4c0\" x=\"337.516564\" y=\"125.242632\" style=\"fill: #1f77b4; stroke: #1f77b4\"/>\n     <use xlink:href=\"#mec960cb4c0\" x=\"343.945367\" y=\"125.941635\" style=\"fill: #1f77b4; stroke: #1f77b4\"/>\n     <use xlink:href=\"#mec960cb4c0\" x=\"350.374169\" y=\"125.862968\" style=\"fill: #1f77b4; stroke: #1f77b4\"/>\n     <use xlink:href=\"#mec960cb4c0\" x=\"356.802972\" y=\"126.963901\" style=\"fill: #1f77b4; stroke: #1f77b4\"/>\n     <use xlink:href=\"#mec960cb4c0\" x=\"363.231775\" y=\"127.562505\" style=\"fill: #1f77b4; stroke: #1f77b4\"/>\n     <use xlink:href=\"#mec960cb4c0\" x=\"369.660578\" y=\"127.515823\" style=\"fill: #1f77b4; stroke: #1f77b4\"/>\n     <use xlink:href=\"#mec960cb4c0\" x=\"376.089381\" y=\"127.336069\" style=\"fill: #1f77b4; stroke: #1f77b4\"/>\n     <use xlink:href=\"#mec960cb4c0\" x=\"382.518184\" y=\"131.40735\" style=\"fill: #1f77b4; stroke: #1f77b4\"/>\n    </g>\n   </g>\n   <g id=\"patch_3\">\n    <path d=\"M 44.845313 288.430125 \nL 44.845313 22.318125 \n\" style=\"fill: none; stroke: #000000; stroke-width: 0.8; stroke-linejoin: miter; stroke-linecap: square\"/>\n   </g>\n   <g id=\"patch_4\">\n    <path d=\"M 401.965312 288.430125 \nL 401.965312 22.318125 \n\" style=\"fill: none; stroke: #000000; stroke-width: 0.8; stroke-linejoin: miter; stroke-linecap: square\"/>\n   </g>\n   <g id=\"patch_5\">\n    <path d=\"M 44.845313 288.430125 \nL 401.965312 288.430125 \n\" style=\"fill: none; stroke: #000000; stroke-width: 0.8; stroke-linejoin: miter; stroke-linecap: square\"/>\n   </g>\n   <g id=\"patch_6\">\n    <path d=\"M 44.845313 22.318125 \nL 401.965312 22.318125 \n\" style=\"fill: none; stroke: #000000; stroke-width: 0.8; stroke-linejoin: miter; stroke-linecap: square\"/>\n   </g>\n   <g id=\"text_16\">\n    <!-- Autocorrelation -->\n    <g transform=\"translate(177.283125 16.318125)scale(0.12 -0.12)\">\n     <defs>\n      <path id=\"DejaVuSans-41\" d=\"M 2188 4044 \nL 1331 1722 \nL 3047 1722 \nL 2188 4044 \nz\nM 1831 4666 \nL 2547 4666 \nL 4325 0 \nL 3669 0 \nL 3244 1197 \nL 1141 1197 \nL 716 0 \nL 50 0 \nL 1831 4666 \nz\n\" transform=\"scale(0.015625)\"/>\n      <path id=\"DejaVuSans-75\" d=\"M 544 1381 \nL 544 3500 \nL 1119 3500 \nL 1119 1403 \nQ 1119 906 1312 657 \nQ 1506 409 1894 409 \nQ 2359 409 2629 706 \nQ 2900 1003 2900 1516 \nL 2900 3500 \nL 3475 3500 \nL 3475 0 \nL 2900 0 \nL 2900 538 \nQ 2691 219 2414 64 \nQ 2138 -91 1772 -91 \nQ 1169 -91 856 284 \nQ 544 659 544 1381 \nz\nM 1991 3584 \nL 1991 3584 \nz\n\" transform=\"scale(0.015625)\"/>\n      <path id=\"DejaVuSans-74\" d=\"M 1172 4494 \nL 1172 3500 \nL 2356 3500 \nL 2356 3053 \nL 1172 3053 \nL 1172 1153 \nQ 1172 725 1289 603 \nQ 1406 481 1766 481 \nL 2356 481 \nL 2356 0 \nL 1766 0 \nQ 1100 0 847 248 \nQ 594 497 594 1153 \nL 594 3053 \nL 172 3053 \nL 172 3500 \nL 594 3500 \nL 594 4494 \nL 1172 4494 \nz\n\" transform=\"scale(0.015625)\"/>\n      <path id=\"DejaVuSans-6f\" d=\"M 1959 3097 \nQ 1497 3097 1228 2736 \nQ 959 2375 959 1747 \nQ 959 1119 1226 758 \nQ 1494 397 1959 397 \nQ 2419 397 2687 759 \nQ 2956 1122 2956 1747 \nQ 2956 2369 2687 2733 \nQ 2419 3097 1959 3097 \nz\nM 1959 3584 \nQ 2709 3584 3137 3096 \nQ 3566 2609 3566 1747 \nQ 3566 888 3137 398 \nQ 2709 -91 1959 -91 \nQ 1206 -91 779 398 \nQ 353 888 353 1747 \nQ 353 2609 779 3096 \nQ 1206 3584 1959 3584 \nz\n\" transform=\"scale(0.015625)\"/>\n      <path id=\"DejaVuSans-63\" d=\"M 3122 3366 \nL 3122 2828 \nQ 2878 2963 2633 3030 \nQ 2388 3097 2138 3097 \nQ 1578 3097 1268 2742 \nQ 959 2388 959 1747 \nQ 959 1106 1268 751 \nQ 1578 397 2138 397 \nQ 2388 397 2633 464 \nQ 2878 531 3122 666 \nL 3122 134 \nQ 2881 22 2623 -34 \nQ 2366 -91 2075 -91 \nQ 1284 -91 818 406 \nQ 353 903 353 1747 \nQ 353 2603 823 3093 \nQ 1294 3584 2113 3584 \nQ 2378 3584 2631 3529 \nQ 2884 3475 3122 3366 \nz\n\" transform=\"scale(0.015625)\"/>\n      <path id=\"DejaVuSans-72\" d=\"M 2631 2963 \nQ 2534 3019 2420 3045 \nQ 2306 3072 2169 3072 \nQ 1681 3072 1420 2755 \nQ 1159 2438 1159 1844 \nL 1159 0 \nL 581 0 \nL 581 3500 \nL 1159 3500 \nL 1159 2956 \nQ 1341 3275 1631 3429 \nQ 1922 3584 2338 3584 \nQ 2397 3584 2469 3576 \nQ 2541 3569 2628 3553 \nL 2631 2963 \nz\n\" transform=\"scale(0.015625)\"/>\n      <path id=\"DejaVuSans-65\" d=\"M 3597 1894 \nL 3597 1613 \nL 953 1613 \nQ 991 1019 1311 708 \nQ 1631 397 2203 397 \nQ 2534 397 2845 478 \nQ 3156 559 3463 722 \nL 3463 178 \nQ 3153 47 2828 -22 \nQ 2503 -91 2169 -91 \nQ 1331 -91 842 396 \nQ 353 884 353 1716 \nQ 353 2575 817 3079 \nQ 1281 3584 2069 3584 \nQ 2775 3584 3186 3129 \nQ 3597 2675 3597 1894 \nz\nM 3022 2063 \nQ 3016 2534 2758 2815 \nQ 2500 3097 2075 3097 \nQ 1594 3097 1305 2825 \nQ 1016 2553 972 2059 \nL 3022 2063 \nz\n\" transform=\"scale(0.015625)\"/>\n      <path id=\"DejaVuSans-6c\" d=\"M 603 4863 \nL 1178 4863 \nL 1178 0 \nL 603 0 \nL 603 4863 \nz\n\" transform=\"scale(0.015625)\"/>\n      <path id=\"DejaVuSans-61\" d=\"M 2194 1759 \nQ 1497 1759 1228 1600 \nQ 959 1441 959 1056 \nQ 959 750 1161 570 \nQ 1363 391 1709 391 \nQ 2188 391 2477 730 \nQ 2766 1069 2766 1631 \nL 2766 1759 \nL 2194 1759 \nz\nM 3341 1997 \nL 3341 0 \nL 2766 0 \nL 2766 531 \nQ 2569 213 2275 61 \nQ 1981 -91 1556 -91 \nQ 1019 -91 701 211 \nQ 384 513 384 1019 \nQ 384 1609 779 1909 \nQ 1175 2209 1959 2209 \nL 2766 2209 \nL 2766 2266 \nQ 2766 2663 2505 2880 \nQ 2244 3097 1772 3097 \nQ 1472 3097 1187 3025 \nQ 903 2953 641 2809 \nL 641 3341 \nQ 956 3463 1253 3523 \nQ 1550 3584 1831 3584 \nQ 2591 3584 2966 3190 \nQ 3341 2797 3341 1997 \nz\n\" transform=\"scale(0.015625)\"/>\n      <path id=\"DejaVuSans-69\" d=\"M 603 3500 \nL 1178 3500 \nL 1178 0 \nL 603 0 \nL 603 3500 \nz\nM 603 4863 \nL 1178 4863 \nL 1178 4134 \nL 603 4134 \nL 603 4863 \nz\n\" transform=\"scale(0.015625)\"/>\n      <path id=\"DejaVuSans-6e\" d=\"M 3513 2113 \nL 3513 0 \nL 2938 0 \nL 2938 2094 \nQ 2938 2591 2744 2837 \nQ 2550 3084 2163 3084 \nQ 1697 3084 1428 2787 \nQ 1159 2491 1159 1978 \nL 1159 0 \nL 581 0 \nL 581 3500 \nL 1159 3500 \nL 1159 2956 \nQ 1366 3272 1645 3428 \nQ 1925 3584 2291 3584 \nQ 2894 3584 3203 3211 \nQ 3513 2838 3513 2113 \nz\n\" transform=\"scale(0.015625)\"/>\n     </defs>\n     <use xlink:href=\"#DejaVuSans-41\"/>\n     <use xlink:href=\"#DejaVuSans-75\" x=\"68.408203\"/>\n     <use xlink:href=\"#DejaVuSans-74\" x=\"131.787109\"/>\n     <use xlink:href=\"#DejaVuSans-6f\" x=\"170.996094\"/>\n     <use xlink:href=\"#DejaVuSans-63\" x=\"232.177734\"/>\n     <use xlink:href=\"#DejaVuSans-6f\" x=\"287.158203\"/>\n     <use xlink:href=\"#DejaVuSans-72\" x=\"348.339844\"/>\n     <use xlink:href=\"#DejaVuSans-72\" x=\"387.703125\"/>\n     <use xlink:href=\"#DejaVuSans-65\" x=\"426.566406\"/>\n     <use xlink:href=\"#DejaVuSans-6c\" x=\"488.089844\"/>\n     <use xlink:href=\"#DejaVuSans-61\" x=\"515.873047\"/>\n     <use xlink:href=\"#DejaVuSans-74\" x=\"577.152344\"/>\n     <use xlink:href=\"#DejaVuSans-69\" x=\"616.361328\"/>\n     <use xlink:href=\"#DejaVuSans-6f\" x=\"644.144531\"/>\n     <use xlink:href=\"#DejaVuSans-6e\" x=\"705.326172\"/>\n    </g>\n   </g>\n  </g>\n </g>\n <defs>\n  <clipPath id=\"p54a0434080\">\n   <rect x=\"44.845313\" y=\"22.318125\" width=\"357.12\" height=\"266.112\"/>\n  </clipPath>\n </defs>\n</svg>\n",
      "text/plain": [
       "<Figure size 640x480 with 1 Axes>"
      ]
     },
     "metadata": {},
     "output_type": "display_data"
    }
   ],
   "source": [
    "from statsmodels.graphics.tsaplots import plot_acf\n",
    "\n",
    "plt = plot_acf(df_residuals[\"residuals\"], lags=50)"
   ]
  },
  {
   "attachments": {},
   "cell_type": "markdown",
   "metadata": {},
   "source": [
    "Now we add autoregression to our model with the `n_lags` parameter."
   ]
  },
  {
   "cell_type": "code",
   "execution_count": 4,
   "metadata": {},
   "outputs": [
    {
     "data": {
      "application/vnd.jupyter.widget-view+json": {
       "model_id": "ccc22b63ed574bbdb715f2b82eb9db96",
       "version_major": 2,
       "version_minor": 0
      },
      "text/plain": [
       "Finding best initial lr:   0%|          | 0/229 [00:00<?, ?it/s]"
      ]
     },
     "metadata": {},
     "output_type": "display_data"
    },
    {
     "data": {
      "application/vnd.jupyter.widget-view+json": {
       "model_id": "6dc0d84e8da243c09025d2db4d21af26",
       "version_major": 2,
       "version_minor": 0
      },
      "text/plain": [
       "Training: 0it [00:00, ?it/s]"
      ]
     },
     "metadata": {},
     "output_type": "display_data"
    },
    {
     "data": {
      "application/vnd.jupyter.widget-view+json": {
       "model_id": "56ff1a807cc54a43a349a3aeaad20050",
       "version_major": 2,
       "version_minor": 0
      },
      "text/plain": [
       "Predicting: 46it [00:00, ?it/s]"
      ]
     },
     "metadata": {},
     "output_type": "display_data"
    },
    {
     "data": {
      "application/vnd.jupyter.widget-view+json": {
       "model_id": "94751b7ea9a044be978f91abbc6d4732",
       "version_major": 2,
       "version_minor": 0
      },
      "text/plain": [
       "FigureWidgetResampler({\n",
       "    'data': [{'fill': 'none',\n",
       "              'line': {'color': 'rgba(45, 146, 255, 1.0)', 'width': 2},\n",
       "              'mode': 'lines',\n",
       "              'name': '<b style=\"color:sandybrown\">[R]</b> yhat1 <i style=\"color:#fc9944\">~1D</i>',\n",
       "              'type': 'scatter',\n",
       "              'uid': '14d7cf8e-865a-40e7-944d-6c2385591848',\n",
       "              'x': array([datetime.datetime(2015, 1, 10, 0, 0),\n",
       "                          datetime.datetime(2015, 1, 11, 0, 0),\n",
       "                          datetime.datetime(2015, 1, 12, 0, 0), ...,\n",
       "                          datetime.datetime(2018, 12, 28, 0, 0),\n",
       "                          datetime.datetime(2018, 12, 30, 0, 0),\n",
       "                          datetime.datetime(2018, 12, 31, 0, 0)], dtype=object),\n",
       "              'y': array([68.40003204, 68.45270538, 68.70133972, ..., 69.25930023, 60.60276794,\n",
       "                          72.57454681])},\n",
       "             {'marker': {'color': 'black', 'size': 4},\n",
       "              'mode': 'markers',\n",
       "              'name': '<b style=\"color:sandybrown\">[R]</b> Actual <i style=\"color:#fc9944\">~1D</i>',\n",
       "              'type': 'scatter',\n",
       "              'uid': 'c9f1d8c8-54ae-4e96-8c5d-570c3b1f7ee2',\n",
       "              'x': array([datetime.datetime(2014, 12, 31, 0, 0),\n",
       "                          datetime.datetime(2015, 1, 1, 0, 0),\n",
       "                          datetime.datetime(2015, 1, 2, 0, 0), ...,\n",
       "                          datetime.datetime(2018, 12, 28, 0, 0),\n",
       "                          datetime.datetime(2018, 12, 29, 0, 0),\n",
       "                          datetime.datetime(2018, 12, 31, 0, 0)], dtype=object),\n",
       "              'y': array([65.41, 62.09, 69.44, ..., 69.23, 62.62, 68.32])}],\n",
       "    'layout': {'autosize': True,\n",
       "               'font': {'size': 10},\n",
       "               'height': 420,\n",
       "               'hovermode': 'x unified',\n",
       "               'margin': {'b': 0, 'l': 0, 'pad': 0, 'r': 10, 't': 10},\n",
       "               'showlegend': True,\n",
       "               'template': '...',\n",
       "               'title': {'font': {'size': 12}},\n",
       "               'width': 700,\n",
       "               'xaxis': {'linewidth': 1.5,\n",
       "                         'mirror': True,\n",
       "                         'rangeselector': {'buttons': [{'count': 7, 'label': '1w', 'step': 'day', 'stepmode': 'backward'},\n",
       "                                                       {'count': 1,\n",
       "                                                        'label': '1m',\n",
       "                                                        'step': 'month',\n",
       "                                                        'stepmode': 'backward'},\n",
       "                                                       {'count': 6,\n",
       "                                                        'label': '6m',\n",
       "                                                        'step': 'month',\n",
       "                                                        'stepmode': 'backward'},\n",
       "                                                       {'count': 1, 'label': '1y', 'step': 'year', 'stepmode': 'backward'},\n",
       "                                                       {'step': 'all'}]},\n",
       "                         'rangeslider': {'visible': True},\n",
       "                         'showline': True,\n",
       "                         'title': {'text': 'ds'},\n",
       "                         'type': 'date'},\n",
       "               'yaxis': {'linewidth': 1.5, 'mirror': True, 'showline': True, 'title': {'text': 'y'}}}\n",
       "})"
      ]
     },
     "execution_count": 4,
     "metadata": {},
     "output_type": "execute_result"
    }
   ],
   "source": [
    "\n",
    "# Model and prediction\n",
    "m = NeuralProphet(\n",
    "    epochs=EPOCHS,\n",
    "    # Disable trend changepoints\n",
    "    n_changepoints=10,\n",
    "    # Disable seasonality components\n",
    "    yearly_seasonality=True,\n",
    "    weekly_seasonality=True,\n",
    "    daily_seasonality=True,\n",
    "    # Add the autogression\n",
    "    n_lags=10,\n",
    ")\n",
    "metrics = m.fit(df)\n",
    "forecast = m.predict(df)\n",
    "m.plot(forecast)"
   ]
  },
  {
   "attachments": {},
   "cell_type": "markdown",
   "metadata": {},
   "source": [
    "As we can see the forecasting model does not fit the data very well. Feel free to explore how different numbers of lags `n_lags` affect the model."
   ]
  },
  {
   "cell_type": "code",
   "execution_count": 5,
   "metadata": {},
   "outputs": [
    {
     "data": {
      "application/vnd.jupyter.widget-view+json": {
       "model_id": "b5cc7e8d4aae4318b8b27fa33d1be149",
       "version_major": 2,
       "version_minor": 0
      },
      "text/plain": [
       "FigureWidgetResampler({\n",
       "    'data': [{'marker': {'color': '#2d92ff'},\n",
       "              'name': 'AR',\n",
       "              'type': 'bar',\n",
       "              'uid': 'a1a6be9f-91d7-4b35-8a10-2ae066b6cc6b',\n",
       "              'x': array([10,  9,  8,  7,  6,  5,  4,  3,  2,  1]),\n",
       "              'xaxis': 'x',\n",
       "              'y': array([0.03595659, 0.05248326, 0.01571109, 0.0761302 , 0.04128862, 0.1587195 ,\n",
       "                          0.12792692, 0.01940623, 0.03242379, 0.4399538 ], dtype=float32),\n",
       "              'yaxis': 'y'}],\n",
       "    'layout': {'autosize': True,\n",
       "               'font': {'size': 10},\n",
       "               'height': 210,\n",
       "               'hovermode': 'x unified',\n",
       "               'margin': {'b': 0, 'l': 0, 'pad': 0, 'r': 10, 't': 10},\n",
       "               'showlegend': False,\n",
       "               'template': '...',\n",
       "               'title': {'font': {'size': 12}},\n",
       "               'width': 700,\n",
       "               'xaxis': {'anchor': 'y',\n",
       "                         'domain': [0.0, 1.0],\n",
       "                         'linewidth': 1.5,\n",
       "                         'mirror': True,\n",
       "                         'range': [0, 11],\n",
       "                         'showline': True,\n",
       "                         'title': {'text': 'AR lag number'}},\n",
       "               'yaxis': {'anchor': 'x',\n",
       "                         'domain': [0.0, 1.0],\n",
       "                         'linewidth': 1.5,\n",
       "                         'mirror': True,\n",
       "                         'rangemode': 'normal',\n",
       "                         'showline': True,\n",
       "                         'tickformat': ',.0%',\n",
       "                         'title': {'text': 'AR relevance'}}}\n",
       "})"
      ]
     },
     "execution_count": 5,
     "metadata": {},
     "output_type": "execute_result"
    }
   ],
   "source": [
    "m.plot_parameters(components=[\"autoregression\"])"
   ]
  },
  {
   "cell_type": "code",
   "execution_count": 6,
   "metadata": {},
   "outputs": [
    {
     "data": {
      "application/vnd.jupyter.widget-view+json": {
       "model_id": "793cb5defdc84c4f9ca2c683b134b401",
       "version_major": 2,
       "version_minor": 0
      },
      "text/plain": [
       "FigureWidgetResampler({\n",
       "    'data': [{'marker': {'color': '#2d92ff'},\n",
       "              'name': 'Auto-Regression',\n",
       "              'opacity': 1.0,\n",
       "              'showlegend': False,\n",
       "              'type': 'bar',\n",
       "              'uid': '647e0a5e-0046-4bd1-a592-0ee0ffac6374',\n",
       "              'x': array([datetime.datetime(2015, 1, 10, 0, 0),\n",
       "                          datetime.datetime(2015, 1, 11, 0, 0),\n",
       "                          datetime.datetime(2015, 1, 12, 0, 0), ...,\n",
       "                          datetime.datetime(2018, 12, 29, 0, 0),\n",
       "                          datetime.datetime(2018, 12, 30, 0, 0),\n",
       "                          datetime.datetime(2018, 12, 31, 0, 0)], dtype=object),\n",
       "              'xaxis': 'x',\n",
       "              'y': array([50.86824799, 49.74787521, 41.07971191, ..., 48.50086975, 44.07468033,\n",
       "                           0.        ]),\n",
       "              'yaxis': 'y'}],\n",
       "    'layout': {'autosize': True,\n",
       "               'barmode': 'overlay',\n",
       "               'font': {'size': 10},\n",
       "               'height': 210,\n",
       "               'hovermode': 'x unified',\n",
       "               'legend': {'traceorder': 'reversed', 'y': 0.1},\n",
       "               'margin': {'b': 0, 'l': 0, 'pad': 0, 'r': 10, 't': 10},\n",
       "               'template': '...',\n",
       "               'title': {'font': {'size': 12}},\n",
       "               'width': 700,\n",
       "               'xaxis': {'anchor': 'y',\n",
       "                         'domain': [0.0, 1.0],\n",
       "                         'linewidth': 1.5,\n",
       "                         'mirror': True,\n",
       "                         'range': [2014-10-29 00:00:00, 2019-03-14 00:00:00],\n",
       "                         'showline': True,\n",
       "                         'title': {'text': 'ds'},\n",
       "                         'type': 'date'},\n",
       "               'yaxis': {'anchor': 'x',\n",
       "                         'domain': [0.0, 1.0],\n",
       "                         'linewidth': 1.5,\n",
       "                         'mirror': True,\n",
       "                         'rangemode': 'tozero',\n",
       "                         'showline': True,\n",
       "                         'title': {'text': 'Auto-Regression'}}}\n",
       "})"
      ]
     },
     "execution_count": 6,
     "metadata": {},
     "output_type": "execute_result"
    }
   ],
   "source": [
    "m.plot_components(forecast, components=[\"autoregression\"])"
   ]
  }
 ],
 "metadata": {
  "kernelspec": {
   "display_name": "Python 3.10.7 ('.venv': venv)",
   "language": "python",
   "name": "python3"
  },
  "language_info": {
   "codemirror_mode": {
    "name": "ipython",
    "version": 3
   },
   "file_extension": ".py",
   "mimetype": "text/x-python",
   "name": "python",
   "nbconvert_exporter": "python",
   "pygments_lexer": "ipython3",
   "version": "3.7.16"
  },
  "orig_nbformat": 4,
  "vscode": {
   "interpreter": {
    "hash": "92c9cff0281419e73896333b85e681aea9374fd743c51074843eeada7c3f6baf"
   }
  }
 },
 "nbformat": 4,
 "nbformat_minor": 2
}
