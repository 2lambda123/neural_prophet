{
 "cells": [
  {
   "cell_type": "markdown",
   "metadata": {},
   "source": [
    "# Tutorial 4: Auto regression"
   ]
  },
  {
   "attachments": {},
   "cell_type": "markdown",
   "metadata": {},
   "source": [
    "Autoregression is a time series model that uses observations from previous time steps as input to a regression equation to predict the value at the next time step.\n",
    "\n",
    "We start with the same model as in the previous tutorial."
   ]
  },
  {
   "cell_type": "code",
   "execution_count": 1,
   "metadata": {},
   "outputs": [
    {
     "data": {
      "application/vnd.jupyter.widget-view+json": {
       "model_id": "323b8b5ffc5d4b019d6572424db25b2b",
       "version_major": 2,
       "version_minor": 0
      },
      "text/plain": [
       "Finding best initial lr:   0%|          | 0/229 [00:00<?, ?it/s]"
      ]
     },
     "metadata": {},
     "output_type": "display_data"
    },
    {
     "data": {
      "application/vnd.jupyter.widget-view+json": {
       "model_id": "2c322c1b570245e997b0a5b23d99bccd",
       "version_major": 2,
       "version_minor": 0
      },
      "text/plain": [
       "Training: 0it [00:00, ?it/s]"
      ]
     },
     "metadata": {},
     "output_type": "display_data"
    },
    {
     "data": {
      "application/vnd.jupyter.widget-view+json": {
       "model_id": "b6d3d76bffca48b9a1adeb8bbede3073",
       "version_major": 2,
       "version_minor": 0
      },
      "text/plain": [
       "Predicting: 46it [00:00, ?it/s]"
      ]
     },
     "metadata": {},
     "output_type": "display_data"
    },
    {
     "data": {
      "application/vnd.jupyter.widget-view+json": {
       "model_id": "d6f0ff610a914bb19d3718db5e63373a",
       "version_major": 2,
       "version_minor": 0
      },
      "text/plain": [
       "FigureWidgetResampler({\n",
       "    'data': [{'fill': 'none',\n",
       "              'line': {'color': 'rgba(45, 146, 255, 1.0)', 'width': 2},\n",
       "              'mode': 'lines',\n",
       "              'name': '<b style=\"color:sandybrown\">[R]</b> yhat1 <i style=\"color:#fc9944\">~1D</i>',\n",
       "              'type': 'scatter',\n",
       "              'uid': 'b68a6bd1-fb95-4c36-a90a-7338497d1eb5',\n",
       "              'x': array([datetime.datetime(2014, 12, 31, 0, 0),\n",
       "                          datetime.datetime(2015, 1, 1, 0, 0),\n",
       "                          datetime.datetime(2015, 1, 2, 0, 0), ...,\n",
       "                          datetime.datetime(2018, 12, 28, 0, 0),\n",
       "                          datetime.datetime(2018, 12, 30, 0, 0),\n",
       "                          datetime.datetime(2018, 12, 31, 0, 0)], dtype=object),\n",
       "              'y': array([62.5401001 , 62.63336945, 62.25947571, ..., 72.98867035, 65.16283417,\n",
       "                          72.51755524])},\n",
       "             {'marker': {'color': 'black', 'size': 4},\n",
       "              'mode': 'markers',\n",
       "              'name': '<b style=\"color:sandybrown\">[R]</b> Actual <i style=\"color:#fc9944\">~1D</i>',\n",
       "              'type': 'scatter',\n",
       "              'uid': 'dd19d110-fd34-4f92-a028-de4eff434cc0',\n",
       "              'x': array([datetime.datetime(2014, 12, 31, 0, 0),\n",
       "                          datetime.datetime(2015, 1, 1, 0, 0),\n",
       "                          datetime.datetime(2015, 1, 2, 0, 0), ...,\n",
       "                          datetime.datetime(2018, 12, 28, 0, 0),\n",
       "                          datetime.datetime(2018, 12, 29, 0, 0),\n",
       "                          datetime.datetime(2018, 12, 31, 0, 0)], dtype=object),\n",
       "              'y': array([65.41, 62.09, 69.44, ..., 69.23, 62.62, 68.32])}],\n",
       "    'layout': {'autosize': True,\n",
       "               'font': {'size': 10},\n",
       "               'height': 420,\n",
       "               'hovermode': 'x unified',\n",
       "               'margin': {'b': 0, 'l': 0, 'pad': 0, 'r': 10, 't': 10},\n",
       "               'showlegend': True,\n",
       "               'template': '...',\n",
       "               'title': {'font': {'size': 12}},\n",
       "               'width': 700,\n",
       "               'xaxis': {'linewidth': 1.5,\n",
       "                         'mirror': True,\n",
       "                         'rangeselector': {'buttons': [{'count': 7, 'label': '1w', 'step': 'day', 'stepmode': 'backward'},\n",
       "                                                       {'count': 1,\n",
       "                                                        'label': '1m',\n",
       "                                                        'step': 'month',\n",
       "                                                        'stepmode': 'backward'},\n",
       "                                                       {'count': 6,\n",
       "                                                        'label': '6m',\n",
       "                                                        'step': 'month',\n",
       "                                                        'stepmode': 'backward'},\n",
       "                                                       {'count': 1, 'label': '1y', 'step': 'year', 'stepmode': 'backward'},\n",
       "                                                       {'step': 'all'}]},\n",
       "                         'rangeslider': {'visible': True},\n",
       "                         'showline': True,\n",
       "                         'title': {'text': 'ds'},\n",
       "                         'type': 'date'},\n",
       "               'yaxis': {'linewidth': 1.5, 'mirror': True, 'showline': True, 'title': {'text': 'y'}}}\n",
       "})"
      ]
     },
     "execution_count": 1,
     "metadata": {},
     "output_type": "execute_result"
    }
   ],
   "source": [
    "import pandas as pd\n",
    "from neuralprophet import NeuralProphet, set_log_level\n",
    "\n",
    "# Disable logging messages unless there is an error\n",
    "set_log_level(\"ERROR\")\n",
    "\n",
    "# Load the dataset from the CSV file using pandas\n",
    "df = pd.read_csv(\"https://github.com/ourownstory/neuralprophet-data/raw/main/kaggle-energy/datasets/tutorial01.csv\")\n",
    "\n",
    "# Reduce the number of epochs to 5 for faster training\n",
    "EPOCHS = 10\n",
    "\n",
    "# Model and prediction\n",
    "m = NeuralProphet(\n",
    "    epochs=EPOCHS,\n",
    "    # Disable trend changepoints\n",
    "    n_changepoints=10,\n",
    "    # Disable seasonality components\n",
    "    yearly_seasonality=True,\n",
    "    weekly_seasonality=True,\n",
    "    daily_seasonality=True,\n",
    ")\n",
    "metrics = m.fit(df)\n",
    "forecast = m.predict(df)\n",
    "m.plot(forecast)"
   ]
  },
  {
   "attachments": {},
   "cell_type": "markdown",
   "metadata": {},
   "source": [
    "To better understand what the remaining mismatch between our model and the real data is, we can look at the residuals. The residuals are the difference between the model's prediction and the real data. If the model is perfect, the residuals should be zero."
   ]
  },
  {
   "cell_type": "code",
   "execution_count": 2,
   "metadata": {},
   "outputs": [
    {
     "data": {
      "application/vnd.jupyter.widget-view+json": {
       "model_id": "0f2775b5610b4922a33258a809cd77a3",
       "version_major": 2,
       "version_minor": 0
      },
      "text/plain": [
       "FigureWidgetResampler({\n",
       "    'data': [{'hovertemplate': 'ds=%{x}<br>residuals=%{y}<extra></extra>',\n",
       "              'legendgroup': '',\n",
       "              'line': {'color': '#636efa', 'dash': 'solid'},\n",
       "              'marker': {'symbol': 'circle'},\n",
       "              'mode': 'lines',\n",
       "              'name': '<b style=\"color:sandybrown\">[R]</b>  <i style=\"color:#fc9944\">~1D</i>',\n",
       "              'showlegend': False,\n",
       "              'type': 'scattergl',\n",
       "              'uid': 'de7c8076-4478-4af0-aa20-5a9b06bd8612',\n",
       "              'x': array([datetime.datetime(2014, 12, 31, 0, 0),\n",
       "                          datetime.datetime(2015, 1, 1, 0, 0),\n",
       "                          datetime.datetime(2015, 1, 2, 0, 0), ...,\n",
       "                          datetime.datetime(2018, 12, 28, 0, 0),\n",
       "                          datetime.datetime(2018, 12, 30, 0, 0),\n",
       "                          datetime.datetime(2018, 12, 31, 0, 0)], dtype=object),\n",
       "              'xaxis': 'x',\n",
       "              'y': array([ 2.8698999 , -0.54336945,  7.18052429, ..., -3.75867035, -0.59283417,\n",
       "                          -4.19755524]),\n",
       "              'yaxis': 'y'}],\n",
       "    'layout': {'legend': {'tracegroupgap': 0},\n",
       "               'margin': {'t': 60},\n",
       "               'template': '...',\n",
       "               'xaxis': {'anchor': 'y', 'domain': [0.0, 1.0], 'title': {'text': 'ds'}},\n",
       "               'yaxis': {'anchor': 'x', 'domain': [0.0, 1.0], 'title': {'text': 'residuals'}}}\n",
       "})"
      ]
     },
     "execution_count": 2,
     "metadata": {},
     "output_type": "execute_result"
    }
   ],
   "source": [
    "df_residuals = pd.DataFrame({\n",
    "    \"ds\": df[\"ds\"],\n",
    "    \"residuals\": df[\"y\"] - forecast[\"yhat1\"]\n",
    "})\n",
    "df_residuals.plot(x=\"ds\", y=\"residuals\", backend=\"plotly\")"
   ]
  },
  {
   "attachments": {},
   "cell_type": "markdown",
   "metadata": {},
   "source": [
    "Let us explore what a good value for the autoregression would be. Create a autocorrelation chart."
   ]
  },
  {
   "cell_type": "code",
   "execution_count": 3,
   "metadata": {},
   "outputs": [],
   "source": [
    "# TODO: Make sure statsmodels is installed"
   ]
  },
  {
   "cell_type": "code",
   "execution_count": 4,
   "metadata": {},
   "outputs": [
    {
     "data": {
      "image/png": "[encoded data removed]",
      "image/svg+xml": "<?xml version=\"1.0\" encoding=\"utf-8\" standalone=\"no\"?>\n<!DOCTYPE svg PUBLIC \"-//W3C//DTD SVG 1.1//EN\"\n  \"http://www.w3.org/Graphics/SVG/1.1/DTD/svg11.dtd\">\n<svg xmlns:xlink=\"http://www.w3.org/1999/xlink\" width=\"409.165312pt\" height=\"312.30825pt\" viewBox=\"0 0 409.165312 312.30825\" xmlns=\"http://www.w3.org/2000/svg\" version=\"1.1\">\n <metadata>\n  <rdf:RDF xmlns:dc=\"http://purl.org/dc/elements/1.1/\" xmlns:cc=\"http://creativecommons.org/ns#\" xmlns:rdf=\"http://www.w3.org/1999/02/22-rdf-syntax-ns#\">\n   <cc:Work>\n    <dc:type rdf:resource=\"http://purl.org/dc/dcmitype/StillImage\"/>\n    <dc:date>2023-03-05T13:46:28.265203</dc:date>\n    <dc:format>image/svg+xml</dc:format>\n    <dc:creator>\n     <cc:Agent>\n      <dc:title>Matplotlib v3.5.3, https://matplotlib.org/</dc:title>\n     </cc:Agent>\n    </dc:creator>\n   </cc:Work>\n  </rdf:RDF>\n </metadata>\n <defs>\n  <style type=\"text/css\">*{stroke-linejoin: round; stroke-linecap: butt}</style>\n </defs>\n <g id=\"figure_1\">\n  <g id=\"patch_1\">\n   <path d=\"M 0 312.30825 \nL 409.165312 312.30825 \nL 409.165312 0 \nL 0 0 \nz\n\" style=\"fill: #ffffff\"/>\n  </g>\n  <g id=\"axes_1\">\n   <g id=\"patch_2\">\n    <path d=\"M 44.845313 288.430125 \nL 401.965312 288.430125 \nL 401.965312 22.318125 \nL 44.845313 22.318125 \nz\n\" style=\"fill: #ffffff\"/>\n   </g>\n   <g id=\"PolyCollection_1\">\n    <path d=\"M 64.292441 148.55374 \nL 64.292441 162.19451 \nL 73.935646 165.892418 \nL 80.364448 167.857555 \nL 86.793251 169.39771 \nL 93.222054 170.719271 \nL 99.650857 171.831958 \nL 106.07966 172.777037 \nL 112.508463 173.600332 \nL 118.937266 174.292184 \nL 125.366069 174.890938 \nL 131.794871 175.392936 \nL 138.223674 175.814082 \nL 144.652477 176.211804 \nL 151.08128 176.600498 \nL 157.510083 176.967274 \nL 163.938886 177.315132 \nL 170.367689 177.631151 \nL 176.796492 177.940166 \nL 183.225294 178.261789 \nL 189.654097 178.589343 \nL 196.0829 178.901307 \nL 202.511703 179.19966 \nL 208.940506 179.466665 \nL 215.369309 179.721387 \nL 221.798112 179.97904 \nL 228.226915 180.213947 \nL 234.655718 180.434067 \nL 241.08452 180.651905 \nL 247.513323 180.880191 \nL 253.942126 181.09214 \nL 260.370929 181.296697 \nL 266.799732 181.505506 \nL 273.228535 181.702479 \nL 279.657338 181.882659 \nL 286.086141 182.050565 \nL 292.514943 182.22367 \nL 298.943746 182.395962 \nL 305.372549 182.556977 \nL 311.801352 182.717502 \nL 318.230155 182.873946 \nL 324.658958 183.022701 \nL 331.087761 183.176621 \nL 337.516564 183.330718 \nL 343.945367 183.46891 \nL 350.374169 183.601152 \nL 356.802972 183.732219 \nL 363.231775 183.855683 \nL 369.660578 183.975135 \nL 376.089381 184.093158 \nL 385.732585 184.210096 \nL 385.732585 126.538154 \nL 385.732585 126.538154 \nL 376.089381 126.655092 \nL 369.660578 126.773115 \nL 363.231775 126.892567 \nL 356.802972 127.016031 \nL 350.374169 127.147098 \nL 343.945367 127.27934 \nL 337.516564 127.417532 \nL 331.087761 127.571629 \nL 324.658958 127.725549 \nL 318.230155 127.874304 \nL 311.801352 128.030748 \nL 305.372549 128.191273 \nL 298.943746 128.352288 \nL 292.514943 128.52458 \nL 286.086141 128.697685 \nL 279.657338 128.865591 \nL 273.228535 129.045771 \nL 266.799732 129.242744 \nL 260.370929 129.451553 \nL 253.942126 129.65611 \nL 247.513323 129.868059 \nL 241.08452 130.096345 \nL 234.655718 130.314183 \nL 228.226915 130.534303 \nL 221.798112 130.76921 \nL 215.369309 131.026863 \nL 208.940506 131.281585 \nL 202.511703 131.54859 \nL 196.0829 131.846943 \nL 189.654097 132.158907 \nL 183.225294 132.486461 \nL 176.796492 132.808084 \nL 170.367689 133.117099 \nL 163.938886 133.433118 \nL 157.510083 133.780976 \nL 151.08128 134.147752 \nL 144.652477 134.536446 \nL 138.223674 134.934168 \nL 131.794871 135.355314 \nL 125.366069 135.857312 \nL 118.937266 136.456066 \nL 112.508463 137.147918 \nL 106.07966 137.971213 \nL 99.650857 138.916292 \nL 93.222054 140.028979 \nL 86.793251 141.35054 \nL 80.364448 142.890695 \nL 73.935646 144.855832 \nL 64.292441 148.55374 \nz\n\" clip-path=\"url(#pcb261d5081)\" style=\"fill: #1f77b4; fill-opacity: 0.25\"/>\n   </g>\n   <g id=\"matplotlib.axis_1\">\n    <g id=\"xtick_1\">\n     <g id=\"line2d_1\">\n      <defs>\n       <path id=\"mc074c26eb1\" d=\"M 0 0 \nL 0 3.5 \n\" style=\"stroke: #000000; stroke-width: 0.8\"/>\n      </defs>\n      <g>\n       <use xlink:href=\"#mc074c26eb1\" x=\"61.07804\" y=\"288.430125\" style=\"stroke: #000000; stroke-width: 0.8\"/>\n      </g>\n     </g>\n     <g id=\"text_1\">\n      <!-- 0 -->\n      <g transform=\"translate(57.89679 303.028562)scale(0.1 -0.1)\">\n       <defs>\n        <path id=\"DejaVuSans-30\" d=\"M 2034 4250 \nQ 1547 4250 1301 3770 \nQ 1056 3291 1056 2328 \nQ 1056 1369 1301 889 \nQ 1547 409 2034 409 \nQ 2525 409 2770 889 \nQ 3016 1369 3016 2328 \nQ 3016 3291 2770 3770 \nQ 2525 4250 2034 4250 \nz\nM 2034 4750 \nQ 2819 4750 3233 4129 \nQ 3647 3509 3647 2328 \nQ 3647 1150 3233 529 \nQ 2819 -91 2034 -91 \nQ 1250 -91 836 529 \nQ 422 1150 422 2328 \nQ 422 3509 836 4129 \nQ 1250 4750 2034 4750 \nz\n\" transform=\"scale(0.015625)\"/>\n       </defs>\n       <use xlink:href=\"#DejaVuSans-30\"/>\n      </g>\n     </g>\n    </g>\n    <g id=\"xtick_2\">\n     <g id=\"line2d_2\">\n      <g>\n       <use xlink:href=\"#mc074c26eb1\" x=\"125.366069\" y=\"288.430125\" style=\"stroke: #000000; stroke-width: 0.8\"/>\n      </g>\n     </g>\n     <g id=\"text_2\">\n      <!-- 10 -->\n      <g transform=\"translate(119.003569 303.028562)scale(0.1 -0.1)\">\n       <defs>\n        <path id=\"DejaVuSans-31\" d=\"M 794 531 \nL 1825 531 \nL 1825 4091 \nL 703 3866 \nL 703 4441 \nL 1819 4666 \nL 2450 4666 \nL 2450 531 \nL 3481 531 \nL 3481 0 \nL 794 0 \nL 794 531 \nz\n\" transform=\"scale(0.015625)\"/>\n       </defs>\n       <use xlink:href=\"#DejaVuSans-31\"/>\n       <use xlink:href=\"#DejaVuSans-30\" x=\"63.623047\"/>\n      </g>\n     </g>\n    </g>\n    <g id=\"xtick_3\">\n     <g id=\"line2d_3\">\n      <g>\n       <use xlink:href=\"#mc074c26eb1\" x=\"189.654097\" y=\"288.430125\" style=\"stroke: #000000; stroke-width: 0.8\"/>\n      </g>\n     </g>\n     <g id=\"text_3\">\n      <!-- 20 -->\n      <g transform=\"translate(183.291597 303.028562)scale(0.1 -0.1)\">\n       <defs>\n        <path id=\"DejaVuSans-32\" d=\"M 1228 531 \nL 3431 531 \nL 3431 0 \nL 469 0 \nL 469 531 \nQ 828 903 1448 1529 \nQ 2069 2156 2228 2338 \nQ 2531 2678 2651 2914 \nQ 2772 3150 2772 3378 \nQ 2772 3750 2511 3984 \nQ 2250 4219 1831 4219 \nQ 1534 4219 1204 4116 \nQ 875 4013 500 3803 \nL 500 4441 \nQ 881 4594 1212 4672 \nQ 1544 4750 1819 4750 \nQ 2544 4750 2975 4387 \nQ 3406 4025 3406 3419 \nQ 3406 3131 3298 2873 \nQ 3191 2616 2906 2266 \nQ 2828 2175 2409 1742 \nQ 1991 1309 1228 531 \nz\n\" transform=\"scale(0.015625)\"/>\n       </defs>\n       <use xlink:href=\"#DejaVuSans-32\"/>\n       <use xlink:href=\"#DejaVuSans-30\" x=\"63.623047\"/>\n      </g>\n     </g>\n    </g>\n    <g id=\"xtick_4\">\n     <g id=\"line2d_4\">\n      <g>\n       <use xlink:href=\"#mc074c26eb1\" x=\"253.942126\" y=\"288.430125\" style=\"stroke: #000000; stroke-width: 0.8\"/>\n      </g>\n     </g>\n     <g id=\"text_4\">\n      <!-- 30 -->\n      <g transform=\"translate(247.579626 303.028562)scale(0.1 -0.1)\">\n       <defs>\n        <path id=\"DejaVuSans-33\" d=\"M 2597 2516 \nQ 3050 2419 3304 2112 \nQ 3559 1806 3559 1356 \nQ 3559 666 3084 287 \nQ 2609 -91 1734 -91 \nQ 1441 -91 1130 -33 \nQ 819 25 488 141 \nL 488 750 \nQ 750 597 1062 519 \nQ 1375 441 1716 441 \nQ 2309 441 2620 675 \nQ 2931 909 2931 1356 \nQ 2931 1769 2642 2001 \nQ 2353 2234 1838 2234 \nL 1294 2234 \nL 1294 2753 \nL 1863 2753 \nQ 2328 2753 2575 2939 \nQ 2822 3125 2822 3475 \nQ 2822 3834 2567 4026 \nQ 2313 4219 1838 4219 \nQ 1578 4219 1281 4162 \nQ 984 4106 628 3988 \nL 628 4550 \nQ 988 4650 1302 4700 \nQ 1616 4750 1894 4750 \nQ 2613 4750 3031 4423 \nQ 3450 4097 3450 3541 \nQ 3450 3153 3228 2886 \nQ 3006 2619 2597 2516 \nz\n\" transform=\"scale(0.015625)\"/>\n       </defs>\n       <use xlink:href=\"#DejaVuSans-33\"/>\n       <use xlink:href=\"#DejaVuSans-30\" x=\"63.623047\"/>\n      </g>\n     </g>\n    </g>\n    <g id=\"xtick_5\">\n     <g id=\"line2d_5\">\n      <g>\n       <use xlink:href=\"#mc074c26eb1\" x=\"318.230155\" y=\"288.430125\" style=\"stroke: #000000; stroke-width: 0.8\"/>\n      </g>\n     </g>\n     <g id=\"text_5\">\n      <!-- 40 -->\n      <g transform=\"translate(311.867655 303.028562)scale(0.1 -0.1)\">\n       <defs>\n        <path id=\"DejaVuSans-34\" d=\"M 2419 4116 \nL 825 1625 \nL 2419 1625 \nL 2419 4116 \nz\nM 2253 4666 \nL 3047 4666 \nL 3047 1625 \nL 3713 1625 \nL 3713 1100 \nL 3047 1100 \nL 3047 0 \nL 2419 0 \nL 2419 1100 \nL 313 1100 \nL 313 1709 \nL 2253 4666 \nz\n\" transform=\"scale(0.015625)\"/>\n       </defs>\n       <use xlink:href=\"#DejaVuSans-34\"/>\n       <use xlink:href=\"#DejaVuSans-30\" x=\"63.623047\"/>\n      </g>\n     </g>\n    </g>\n    <g id=\"xtick_6\">\n     <g id=\"line2d_6\">\n      <g>\n       <use xlink:href=\"#mc074c26eb1\" x=\"382.518184\" y=\"288.430125\" style=\"stroke: #000000; stroke-width: 0.8\"/>\n      </g>\n     </g>\n     <g id=\"text_6\">\n      <!-- 50 -->\n      <g transform=\"translate(376.155684 303.028562)scale(0.1 -0.1)\">\n       <defs>\n        <path id=\"DejaVuSans-35\" d=\"M 691 4666 \nL 3169 4666 \nL 3169 4134 \nL 1269 4134 \nL 1269 2991 \nQ 1406 3038 1543 3061 \nQ 1681 3084 1819 3084 \nQ 2600 3084 3056 2656 \nQ 3513 2228 3513 1497 \nQ 3513 744 3044 326 \nQ 2575 -91 1722 -91 \nQ 1428 -91 1123 -41 \nQ 819 9 494 109 \nL 494 744 \nQ 775 591 1075 516 \nQ 1375 441 1709 441 \nQ 2250 441 2565 725 \nQ 2881 1009 2881 1497 \nQ 2881 1984 2565 2268 \nQ 2250 2553 1709 2553 \nQ 1456 2553 1204 2497 \nQ 953 2441 691 2322 \nL 691 4666 \nz\n\" transform=\"scale(0.015625)\"/>\n       </defs>\n       <use xlink:href=\"#DejaVuSans-35\"/>\n       <use xlink:href=\"#DejaVuSans-30\" x=\"63.623047\"/>\n      </g>\n     </g>\n    </g>\n   </g>\n   <g id=\"matplotlib.axis_2\">\n    <g id=\"ytick_1\">\n     <g id=\"line2d_7\">\n      <defs>\n       <path id=\"mb8e7c27475\" d=\"M 0 0 \nL -3.5 0 \n\" style=\"stroke: #000000; stroke-width: 0.8\"/>\n      </defs>\n      <g>\n       <use xlink:href=\"#mb8e7c27475\" x=\"44.845313\" y=\"288.430125\" style=\"stroke: #000000; stroke-width: 0.8\"/>\n      </g>\n     </g>\n     <g id=\"text_7\">\n      <!-- −1.00 -->\n      <g transform=\"translate(7.2 292.229344)scale(0.1 -0.1)\">\n       <defs>\n        <path id=\"DejaVuSans-2212\" d=\"M 678 2272 \nL 4684 2272 \nL 4684 1741 \nL 678 1741 \nL 678 2272 \nz\n\" transform=\"scale(0.015625)\"/>\n        <path id=\"DejaVuSans-2e\" d=\"M 684 794 \nL 1344 794 \nL 1344 0 \nL 684 0 \nL 684 794 \nz\n\" transform=\"scale(0.015625)\"/>\n       </defs>\n       <use xlink:href=\"#DejaVuSans-2212\"/>\n       <use xlink:href=\"#DejaVuSans-31\" x=\"83.789062\"/>\n       <use xlink:href=\"#DejaVuSans-2e\" x=\"147.412109\"/>\n       <use xlink:href=\"#DejaVuSans-30\" x=\"179.199219\"/>\n       <use xlink:href=\"#DejaVuSans-30\" x=\"242.822266\"/>\n      </g>\n     </g>\n    </g>\n    <g id=\"ytick_2\">\n     <g id=\"line2d_8\">\n      <g>\n       <use xlink:href=\"#mb8e7c27475\" x=\"44.845313\" y=\"255.166125\" style=\"stroke: #000000; stroke-width: 0.8\"/>\n      </g>\n     </g>\n     <g id=\"text_8\">\n      <!-- −0.75 -->\n      <g transform=\"translate(7.2 258.965344)scale(0.1 -0.1)\">\n       <defs>\n        <path id=\"DejaVuSans-37\" d=\"M 525 4666 \nL 3525 4666 \nL 3525 4397 \nL 1831 0 \nL 1172 0 \nL 2766 4134 \nL 525 4134 \nL 525 4666 \nz\n\" transform=\"scale(0.015625)\"/>\n       </defs>\n       <use xlink:href=\"#DejaVuSans-2212\"/>\n       <use xlink:href=\"#DejaVuSans-30\" x=\"83.789062\"/>\n       <use xlink:href=\"#DejaVuSans-2e\" x=\"147.412109\"/>\n       <use xlink:href=\"#DejaVuSans-37\" x=\"179.199219\"/>\n       <use xlink:href=\"#DejaVuSans-35\" x=\"242.822266\"/>\n      </g>\n     </g>\n    </g>\n    <g id=\"ytick_3\">\n     <g id=\"line2d_9\">\n      <g>\n       <use xlink:href=\"#mb8e7c27475\" x=\"44.845313\" y=\"221.902125\" style=\"stroke: #000000; stroke-width: 0.8\"/>\n      </g>\n     </g>\n     <g id=\"text_9\">\n      <!-- −0.50 -->\n      <g transform=\"translate(7.2 225.701344)scale(0.1 -0.1)\">\n       <use xlink:href=\"#DejaVuSans-2212\"/>\n       <use xlink:href=\"#DejaVuSans-30\" x=\"83.789062\"/>\n       <use xlink:href=\"#DejaVuSans-2e\" x=\"147.412109\"/>\n       <use xlink:href=\"#DejaVuSans-35\" x=\"179.199219\"/>\n       <use xlink:href=\"#DejaVuSans-30\" x=\"242.822266\"/>\n      </g>\n     </g>\n    </g>\n    <g id=\"ytick_4\">\n     <g id=\"line2d_10\">\n      <g>\n       <use xlink:href=\"#mb8e7c27475\" x=\"44.845313\" y=\"188.638125\" style=\"stroke: #000000; stroke-width: 0.8\"/>\n      </g>\n     </g>\n     <g id=\"text_10\">\n      <!-- −0.25 -->\n      <g transform=\"translate(7.2 192.437344)scale(0.1 -0.1)\">\n       <use xlink:href=\"#DejaVuSans-2212\"/>\n       <use xlink:href=\"#DejaVuSans-30\" x=\"83.789062\"/>\n       <use xlink:href=\"#DejaVuSans-2e\" x=\"147.412109\"/>\n       <use xlink:href=\"#DejaVuSans-32\" x=\"179.199219\"/>\n       <use xlink:href=\"#DejaVuSans-35\" x=\"242.822266\"/>\n      </g>\n     </g>\n    </g>\n    <g id=\"ytick_5\">\n     <g id=\"line2d_11\">\n      <g>\n       <use xlink:href=\"#mb8e7c27475\" x=\"44.845313\" y=\"155.374125\" style=\"stroke: #000000; stroke-width: 0.8\"/>\n      </g>\n     </g>\n     <g id=\"text_11\">\n      <!-- 0.00 -->\n      <g transform=\"translate(15.579688 159.173344)scale(0.1 -0.1)\">\n       <use xlink:href=\"#DejaVuSans-30\"/>\n       <use xlink:href=\"#DejaVuSans-2e\" x=\"63.623047\"/>\n       <use xlink:href=\"#DejaVuSans-30\" x=\"95.410156\"/>\n       <use xlink:href=\"#DejaVuSans-30\" x=\"159.033203\"/>\n      </g>\n     </g>\n    </g>\n    <g id=\"ytick_6\">\n     <g id=\"line2d_12\">\n      <g>\n       <use xlink:href=\"#mb8e7c27475\" x=\"44.845313\" y=\"122.110125\" style=\"stroke: #000000; stroke-width: 0.8\"/>\n      </g>\n     </g>\n     <g id=\"text_12\">\n      <!-- 0.25 -->\n      <g transform=\"translate(15.579688 125.909344)scale(0.1 -0.1)\">\n       <use xlink:href=\"#DejaVuSans-30\"/>\n       <use xlink:href=\"#DejaVuSans-2e\" x=\"63.623047\"/>\n       <use xlink:href=\"#DejaVuSans-32\" x=\"95.410156\"/>\n       <use xlink:href=\"#DejaVuSans-35\" x=\"159.033203\"/>\n      </g>\n     </g>\n    </g>\n    <g id=\"ytick_7\">\n     <g id=\"line2d_13\">\n      <g>\n       <use xlink:href=\"#mb8e7c27475\" x=\"44.845313\" y=\"88.846125\" style=\"stroke: #000000; stroke-width: 0.8\"/>\n      </g>\n     </g>\n     <g id=\"text_13\">\n      <!-- 0.50 -->\n      <g transform=\"translate(15.579688 92.645344)scale(0.1 -0.1)\">\n       <use xlink:href=\"#DejaVuSans-30\"/>\n       <use xlink:href=\"#DejaVuSans-2e\" x=\"63.623047\"/>\n       <use xlink:href=\"#DejaVuSans-35\" x=\"95.410156\"/>\n       <use xlink:href=\"#DejaVuSans-30\" x=\"159.033203\"/>\n      </g>\n     </g>\n    </g>\n    <g id=\"ytick_8\">\n     <g id=\"line2d_14\">\n      <g>\n       <use xlink:href=\"#mb8e7c27475\" x=\"44.845313\" y=\"55.582125\" style=\"stroke: #000000; stroke-width: 0.8\"/>\n      </g>\n     </g>\n     <g id=\"text_14\">\n      <!-- 0.75 -->\n      <g transform=\"translate(15.579688 59.381344)scale(0.1 -0.1)\">\n       <use xlink:href=\"#DejaVuSans-30\"/>\n       <use xlink:href=\"#DejaVuSans-2e\" x=\"63.623047\"/>\n       <use xlink:href=\"#DejaVuSans-37\" x=\"95.410156\"/>\n       <use xlink:href=\"#DejaVuSans-35\" x=\"159.033203\"/>\n      </g>\n     </g>\n    </g>\n    <g id=\"ytick_9\">\n     <g id=\"line2d_15\">\n      <g>\n       <use xlink:href=\"#mb8e7c27475\" x=\"44.845313\" y=\"22.318125\" style=\"stroke: #000000; stroke-width: 0.8\"/>\n      </g>\n     </g>\n     <g id=\"text_15\">\n      <!-- 1.00 -->\n      <g transform=\"translate(15.579688 26.117344)scale(0.1 -0.1)\">\n       <use xlink:href=\"#DejaVuSans-31\"/>\n       <use xlink:href=\"#DejaVuSans-2e\" x=\"63.623047\"/>\n       <use xlink:href=\"#DejaVuSans-30\" x=\"95.410156\"/>\n       <use xlink:href=\"#DejaVuSans-30\" x=\"159.033203\"/>\n      </g>\n     </g>\n    </g>\n   </g>\n   <g id=\"LineCollection_1\">\n    <path d=\"M 61.07804 155.374125 \nL 61.07804 22.318125 \n\" clip-path=\"url(#pcb261d5081)\" style=\"fill: none; stroke: #1f77b4; stroke-width: 1.5\"/>\n    <path d=\"M 67.506843 155.374125 \nL 67.506843 44.916251 \n\" clip-path=\"url(#pcb261d5081)\" style=\"fill: none; stroke: #1f77b4; stroke-width: 1.5\"/>\n    <path d=\"M 73.935646 155.374125 \nL 73.935646 62.629826 \n\" clip-path=\"url(#pcb261d5081)\" style=\"fill: none; stroke: #1f77b4; stroke-width: 1.5\"/>\n    <path d=\"M 80.364448 155.374125 \nL 80.364448 67.234097 \n\" clip-path=\"url(#pcb261d5081)\" style=\"fill: none; stroke: #1f77b4; stroke-width: 1.5\"/>\n    <path d=\"M 86.793251 155.374125 \nL 86.793251 69.433837 \n\" clip-path=\"url(#pcb261d5081)\" style=\"fill: none; stroke: #1f77b4; stroke-width: 1.5\"/>\n    <path d=\"M 93.222054 155.374125 \nL 93.222054 73.314233 \n\" clip-path=\"url(#pcb261d5081)\" style=\"fill: none; stroke: #1f77b4; stroke-width: 1.5\"/>\n    <path d=\"M 99.650857 155.374125 \nL 99.650857 77.338488 \n\" clip-path=\"url(#pcb261d5081)\" style=\"fill: none; stroke: #1f77b4; stroke-width: 1.5\"/>\n    <path d=\"M 106.07966 155.374125 \nL 106.07966 80.66203 \n\" clip-path=\"url(#pcb261d5081)\" style=\"fill: none; stroke: #1f77b4; stroke-width: 1.5\"/>\n    <path d=\"M 112.508463 155.374125 \nL 112.508463 85.444197 \n\" clip-path=\"url(#pcb261d5081)\" style=\"fill: none; stroke: #1f77b4; stroke-width: 1.5\"/>\n    <path d=\"M 118.937266 155.374125 \nL 118.937266 89.1986 \n\" clip-path=\"url(#pcb261d5081)\" style=\"fill: none; stroke: #1f77b4; stroke-width: 1.5\"/>\n    <path d=\"M 125.366069 155.374125 \nL 125.366069 93.919325 \n\" clip-path=\"url(#pcb261d5081)\" style=\"fill: none; stroke: #1f77b4; stroke-width: 1.5\"/>\n    <path d=\"M 131.794871 155.374125 \nL 131.794871 98.432029 \n\" clip-path=\"url(#pcb261d5081)\" style=\"fill: none; stroke: #1f77b4; stroke-width: 1.5\"/>\n    <path d=\"M 138.223674 155.374125 \nL 138.223674 99.481104 \n\" clip-path=\"url(#pcb261d5081)\" style=\"fill: none; stroke: #1f77b4; stroke-width: 1.5\"/>\n    <path d=\"M 144.652477 155.374125 \nL 144.652477 99.595187 \n\" clip-path=\"url(#pcb261d5081)\" style=\"fill: none; stroke: #1f77b4; stroke-width: 1.5\"/>\n    <path d=\"M 151.08128 155.374125 \nL 151.08128 100.706278 \n\" clip-path=\"url(#pcb261d5081)\" style=\"fill: none; stroke: #1f77b4; stroke-width: 1.5\"/>\n    <path d=\"M 157.510083 155.374125 \nL 157.510083 101.692391 \n\" clip-path=\"url(#pcb261d5081)\" style=\"fill: none; stroke: #1f77b4; stroke-width: 1.5\"/>\n    <path d=\"M 163.938886 155.374125 \nL 163.938886 103.819364 \n\" clip-path=\"url(#pcb261d5081)\" style=\"fill: none; stroke: #1f77b4; stroke-width: 1.5\"/>\n    <path d=\"M 170.367689 155.374125 \nL 170.367689 104.034638 \n\" clip-path=\"url(#pcb261d5081)\" style=\"fill: none; stroke: #1f77b4; stroke-width: 1.5\"/>\n    <path d=\"M 176.796492 155.374125 \nL 176.796492 102.630699 \n\" clip-path=\"url(#pcb261d5081)\" style=\"fill: none; stroke: #1f77b4; stroke-width: 1.5\"/>\n    <path d=\"M 183.225294 155.374125 \nL 183.225294 101.767754 \n\" clip-path=\"url(#pcb261d5081)\" style=\"fill: none; stroke: #1f77b4; stroke-width: 1.5\"/>\n    <path d=\"M 189.654097 155.374125 \nL 189.654097 102.697477 \n\" clip-path=\"url(#pcb261d5081)\" style=\"fill: none; stroke: #1f77b4; stroke-width: 1.5\"/>\n    <path d=\"M 196.0829 155.374125 \nL 196.0829 103.524221 \n\" clip-path=\"url(#pcb261d5081)\" style=\"fill: none; stroke: #1f77b4; stroke-width: 1.5\"/>\n    <path d=\"M 202.511703 155.374125 \nL 202.511703 106.03169 \n\" clip-path=\"url(#pcb261d5081)\" style=\"fill: none; stroke: #1f77b4; stroke-width: 1.5\"/>\n    <path d=\"M 208.940506 155.374125 \nL 208.940506 106.918445 \n\" clip-path=\"url(#pcb261d5081)\" style=\"fill: none; stroke: #1f77b4; stroke-width: 1.5\"/>\n    <path d=\"M 215.369309 155.374125 \nL 215.369309 106.383385 \n\" clip-path=\"url(#pcb261d5081)\" style=\"fill: none; stroke: #1f77b4; stroke-width: 1.5\"/>\n    <path d=\"M 221.798112 155.374125 \nL 221.798112 108.361005 \n\" clip-path=\"url(#pcb261d5081)\" style=\"fill: none; stroke: #1f77b4; stroke-width: 1.5\"/>\n    <path d=\"M 228.226915 155.374125 \nL 228.226915 109.65585 \n\" clip-path=\"url(#pcb261d5081)\" style=\"fill: none; stroke: #1f77b4; stroke-width: 1.5\"/>\n    <path d=\"M 234.655718 155.374125 \nL 234.655718 109.694353 \n\" clip-path=\"url(#pcb261d5081)\" style=\"fill: none; stroke: #1f77b4; stroke-width: 1.5\"/>\n    <path d=\"M 241.08452 155.374125 \nL 241.08452 108.40493 \n\" clip-path=\"url(#pcb261d5081)\" style=\"fill: none; stroke: #1f77b4; stroke-width: 1.5\"/>\n    <path d=\"M 247.513323 155.374125 \nL 247.513323 109.921027 \n\" clip-path=\"url(#pcb261d5081)\" style=\"fill: none; stroke: #1f77b4; stroke-width: 1.5\"/>\n    <path d=\"M 253.942126 155.374125 \nL 253.942126 110.53951 \n\" clip-path=\"url(#pcb261d5081)\" style=\"fill: none; stroke: #1f77b4; stroke-width: 1.5\"/>\n    <path d=\"M 260.370929 155.374125 \nL 260.370929 109.895099 \n\" clip-path=\"url(#pcb261d5081)\" style=\"fill: none; stroke: #1f77b4; stroke-width: 1.5\"/>\n    <path d=\"M 266.799732 155.374125 \nL 266.799732 111.030903 \n\" clip-path=\"url(#pcb261d5081)\" style=\"fill: none; stroke: #1f77b4; stroke-width: 1.5\"/>\n    <path d=\"M 273.228535 155.374125 \nL 273.228535 112.811066 \n\" clip-path=\"url(#pcb261d5081)\" style=\"fill: none; stroke: #1f77b4; stroke-width: 1.5\"/>\n    <path d=\"M 279.657338 155.374125 \nL 279.657338 114.15122 \n\" clip-path=\"url(#pcb261d5081)\" style=\"fill: none; stroke: #1f77b4; stroke-width: 1.5\"/>\n    <path d=\"M 286.086141 155.374125 \nL 286.086141 113.384019 \n\" clip-path=\"url(#pcb261d5081)\" style=\"fill: none; stroke: #1f77b4; stroke-width: 1.5\"/>\n    <path d=\"M 292.514943 155.374125 \nL 292.514943 113.347742 \n\" clip-path=\"url(#pcb261d5081)\" style=\"fill: none; stroke: #1f77b4; stroke-width: 1.5\"/>\n    <path d=\"M 298.943746 155.374125 \nL 298.943746 114.620878 \n\" clip-path=\"url(#pcb261d5081)\" style=\"fill: none; stroke: #1f77b4; stroke-width: 1.5\"/>\n    <path d=\"M 305.372549 155.374125 \nL 305.372549 114.562407 \n\" clip-path=\"url(#pcb261d5081)\" style=\"fill: none; stroke: #1f77b4; stroke-width: 1.5\"/>\n    <path d=\"M 311.801352 155.374125 \nL 311.801352 114.9676 \n\" clip-path=\"url(#pcb261d5081)\" style=\"fill: none; stroke: #1f77b4; stroke-width: 1.5\"/>\n    <path d=\"M 318.230155 155.374125 \nL 318.230155 115.86358 \n\" clip-path=\"url(#pcb261d5081)\" style=\"fill: none; stroke: #1f77b4; stroke-width: 1.5\"/>\n    <path d=\"M 324.658958 155.374125 \nL 324.658958 115.073374 \n\" clip-path=\"url(#pcb261d5081)\" style=\"fill: none; stroke: #1f77b4; stroke-width: 1.5\"/>\n    <path d=\"M 331.087761 155.374125 \nL 331.087761 114.938395 \n\" clip-path=\"url(#pcb261d5081)\" style=\"fill: none; stroke: #1f77b4; stroke-width: 1.5\"/>\n    <path d=\"M 337.516564 155.374125 \nL 337.516564 116.981644 \n\" clip-path=\"url(#pcb261d5081)\" style=\"fill: none; stroke: #1f77b4; stroke-width: 1.5\"/>\n    <path d=\"M 343.945367 155.374125 \nL 343.945367 117.726892 \n\" clip-path=\"url(#pcb261d5081)\" style=\"fill: none; stroke: #1f77b4; stroke-width: 1.5\"/>\n    <path d=\"M 350.374169 155.374125 \nL 350.374169 117.806917 \n\" clip-path=\"url(#pcb261d5081)\" style=\"fill: none; stroke: #1f77b4; stroke-width: 1.5\"/>\n    <path d=\"M 356.802972 155.374125 \nL 356.802972 118.83101 \n\" clip-path=\"url(#pcb261d5081)\" style=\"fill: none; stroke: #1f77b4; stroke-width: 1.5\"/>\n    <path d=\"M 363.231775 155.374125 \nL 363.231775 119.352839 \n\" clip-path=\"url(#pcb261d5081)\" style=\"fill: none; stroke: #1f77b4; stroke-width: 1.5\"/>\n    <path d=\"M 369.660578 155.374125 \nL 369.660578 119.494583 \n\" clip-path=\"url(#pcb261d5081)\" style=\"fill: none; stroke: #1f77b4; stroke-width: 1.5\"/>\n    <path d=\"M 376.089381 155.374125 \nL 376.089381 119.586693 \n\" clip-path=\"url(#pcb261d5081)\" style=\"fill: none; stroke: #1f77b4; stroke-width: 1.5\"/>\n    <path d=\"M 382.518184 155.374125 \nL 382.518184 123.198165 \n\" clip-path=\"url(#pcb261d5081)\" style=\"fill: none; stroke: #1f77b4; stroke-width: 1.5\"/>\n   </g>\n   <g id=\"line2d_16\">\n    <path d=\"M 44.845313 155.374125 \nL 401.965312 155.374125 \n\" clip-path=\"url(#pcb261d5081)\" style=\"fill: none; stroke: #1f77b4; stroke-width: 1.5; stroke-linecap: square\"/>\n   </g>\n   <g id=\"line2d_17\">\n    <defs>\n     <path id=\"m6a20c62912\" d=\"M 0 2.5 \nC 0.663008 2.5 1.29895 2.236584 1.767767 1.767767 \nC 2.236584 1.29895 2.5 0.663008 2.5 0 \nC 2.5 -0.663008 2.236584 -1.29895 1.767767 -1.767767 \nC 1.29895 -2.236584 0.663008 -2.5 0 -2.5 \nC -0.663008 -2.5 -1.29895 -2.236584 -1.767767 -1.767767 \nC -2.236584 -1.29895 -2.5 -0.663008 -2.5 0 \nC -2.5 0.663008 -2.236584 1.29895 -1.767767 1.767767 \nC -1.29895 2.236584 -0.663008 2.5 0 2.5 \nz\n\" style=\"stroke: #1f77b4\"/>\n    </defs>\n    <g clip-path=\"url(#pcb261d5081)\">\n     <use xlink:href=\"#m6a20c62912\" x=\"61.07804\" y=\"22.318125\" style=\"fill: #1f77b4; stroke: #1f77b4\"/>\n     <use xlink:href=\"#m6a20c62912\" x=\"67.506843\" y=\"44.916251\" style=\"fill: #1f77b4; stroke: #1f77b4\"/>\n     <use xlink:href=\"#m6a20c62912\" x=\"73.935646\" y=\"62.629826\" style=\"fill: #1f77b4; stroke: #1f77b4\"/>\n     <use xlink:href=\"#m6a20c62912\" x=\"80.364448\" y=\"67.234097\" style=\"fill: #1f77b4; stroke: #1f77b4\"/>\n     <use xlink:href=\"#m6a20c62912\" x=\"86.793251\" y=\"69.433837\" style=\"fill: #1f77b4; stroke: #1f77b4\"/>\n     <use xlink:href=\"#m6a20c62912\" x=\"93.222054\" y=\"73.314233\" style=\"fill: #1f77b4; stroke: #1f77b4\"/>\n     <use xlink:href=\"#m6a20c62912\" x=\"99.650857\" y=\"77.338488\" style=\"fill: #1f77b4; stroke: #1f77b4\"/>\n     <use xlink:href=\"#m6a20c62912\" x=\"106.07966\" y=\"80.66203\" style=\"fill: #1f77b4; stroke: #1f77b4\"/>\n     <use xlink:href=\"#m6a20c62912\" x=\"112.508463\" y=\"85.444197\" style=\"fill: #1f77b4; stroke: #1f77b4\"/>\n     <use xlink:href=\"#m6a20c62912\" x=\"118.937266\" y=\"89.1986\" style=\"fill: #1f77b4; stroke: #1f77b4\"/>\n     <use xlink:href=\"#m6a20c62912\" x=\"125.366069\" y=\"93.919325\" style=\"fill: #1f77b4; stroke: #1f77b4\"/>\n     <use xlink:href=\"#m6a20c62912\" x=\"131.794871\" y=\"98.432029\" style=\"fill: #1f77b4; stroke: #1f77b4\"/>\n     <use xlink:href=\"#m6a20c62912\" x=\"138.223674\" y=\"99.481104\" style=\"fill: #1f77b4; stroke: #1f77b4\"/>\n     <use xlink:href=\"#m6a20c62912\" x=\"144.652477\" y=\"99.595187\" style=\"fill: #1f77b4; stroke: #1f77b4\"/>\n     <use xlink:href=\"#m6a20c62912\" x=\"151.08128\" y=\"100.706278\" style=\"fill: #1f77b4; stroke: #1f77b4\"/>\n     <use xlink:href=\"#m6a20c62912\" x=\"157.510083\" y=\"101.692391\" style=\"fill: #1f77b4; stroke: #1f77b4\"/>\n     <use xlink:href=\"#m6a20c62912\" x=\"163.938886\" y=\"103.819364\" style=\"fill: #1f77b4; stroke: #1f77b4\"/>\n     <use xlink:href=\"#m6a20c62912\" x=\"170.367689\" y=\"104.034638\" style=\"fill: #1f77b4; stroke: #1f77b4\"/>\n     <use xlink:href=\"#m6a20c62912\" x=\"176.796492\" y=\"102.630699\" style=\"fill: #1f77b4; stroke: #1f77b4\"/>\n     <use xlink:href=\"#m6a20c62912\" x=\"183.225294\" y=\"101.767754\" style=\"fill: #1f77b4; stroke: #1f77b4\"/>\n     <use xlink:href=\"#m6a20c62912\" x=\"189.654097\" y=\"102.697477\" style=\"fill: #1f77b4; stroke: #1f77b4\"/>\n     <use xlink:href=\"#m6a20c62912\" x=\"196.0829\" y=\"103.524221\" style=\"fill: #1f77b4; stroke: #1f77b4\"/>\n     <use xlink:href=\"#m6a20c62912\" x=\"202.511703\" y=\"106.03169\" style=\"fill: #1f77b4; stroke: #1f77b4\"/>\n     <use xlink:href=\"#m6a20c62912\" x=\"208.940506\" y=\"106.918445\" style=\"fill: #1f77b4; stroke: #1f77b4\"/>\n     <use xlink:href=\"#m6a20c62912\" x=\"215.369309\" y=\"106.383385\" style=\"fill: #1f77b4; stroke: #1f77b4\"/>\n     <use xlink:href=\"#m6a20c62912\" x=\"221.798112\" y=\"108.361005\" style=\"fill: #1f77b4; stroke: #1f77b4\"/>\n     <use xlink:href=\"#m6a20c62912\" x=\"228.226915\" y=\"109.65585\" style=\"fill: #1f77b4; stroke: #1f77b4\"/>\n     <use xlink:href=\"#m6a20c62912\" x=\"234.655718\" y=\"109.694353\" style=\"fill: #1f77b4; stroke: #1f77b4\"/>\n     <use xlink:href=\"#m6a20c62912\" x=\"241.08452\" y=\"108.40493\" style=\"fill: #1f77b4; stroke: #1f77b4\"/>\n     <use xlink:href=\"#m6a20c62912\" x=\"247.513323\" y=\"109.921027\" style=\"fill: #1f77b4; stroke: #1f77b4\"/>\n     <use xlink:href=\"#m6a20c62912\" x=\"253.942126\" y=\"110.53951\" style=\"fill: #1f77b4; stroke: #1f77b4\"/>\n     <use xlink:href=\"#m6a20c62912\" x=\"260.370929\" y=\"109.895099\" style=\"fill: #1f77b4; stroke: #1f77b4\"/>\n     <use xlink:href=\"#m6a20c62912\" x=\"266.799732\" y=\"111.030903\" style=\"fill: #1f77b4; stroke: #1f77b4\"/>\n     <use xlink:href=\"#m6a20c62912\" x=\"273.228535\" y=\"112.811066\" style=\"fill: #1f77b4; stroke: #1f77b4\"/>\n     <use xlink:href=\"#m6a20c62912\" x=\"279.657338\" y=\"114.15122\" style=\"fill: #1f77b4; stroke: #1f77b4\"/>\n     <use xlink:href=\"#m6a20c62912\" x=\"286.086141\" y=\"113.384019\" style=\"fill: #1f77b4; stroke: #1f77b4\"/>\n     <use xlink:href=\"#m6a20c62912\" x=\"292.514943\" y=\"113.347742\" style=\"fill: #1f77b4; stroke: #1f77b4\"/>\n     <use xlink:href=\"#m6a20c62912\" x=\"298.943746\" y=\"114.620878\" style=\"fill: #1f77b4; stroke: #1f77b4\"/>\n     <use xlink:href=\"#m6a20c62912\" x=\"305.372549\" y=\"114.562407\" style=\"fill: #1f77b4; stroke: #1f77b4\"/>\n     <use xlink:href=\"#m6a20c62912\" x=\"311.801352\" y=\"114.9676\" style=\"fill: #1f77b4; stroke: #1f77b4\"/>\n     <use xlink:href=\"#m6a20c62912\" x=\"318.230155\" y=\"115.86358\" style=\"fill: #1f77b4; stroke: #1f77b4\"/>\n     <use xlink:href=\"#m6a20c62912\" x=\"324.658958\" y=\"115.073374\" style=\"fill: #1f77b4; stroke: #1f77b4\"/>\n     <use xlink:href=\"#m6a20c62912\" x=\"331.087761\" y=\"114.938395\" style=\"fill: #1f77b4; stroke: #1f77b4\"/>\n     <use xlink:href=\"#m6a20c62912\" x=\"337.516564\" y=\"116.981644\" style=\"fill: #1f77b4; stroke: #1f77b4\"/>\n     <use xlink:href=\"#m6a20c62912\" x=\"343.945367\" y=\"117.726892\" style=\"fill: #1f77b4; stroke: #1f77b4\"/>\n     <use xlink:href=\"#m6a20c62912\" x=\"350.374169\" y=\"117.806917\" style=\"fill: #1f77b4; stroke: #1f77b4\"/>\n     <use xlink:href=\"#m6a20c62912\" x=\"356.802972\" y=\"118.83101\" style=\"fill: #1f77b4; stroke: #1f77b4\"/>\n     <use xlink:href=\"#m6a20c62912\" x=\"363.231775\" y=\"119.352839\" style=\"fill: #1f77b4; stroke: #1f77b4\"/>\n     <use xlink:href=\"#m6a20c62912\" x=\"369.660578\" y=\"119.494583\" style=\"fill: #1f77b4; stroke: #1f77b4\"/>\n     <use xlink:href=\"#m6a20c62912\" x=\"376.089381\" y=\"119.586693\" style=\"fill: #1f77b4; stroke: #1f77b4\"/>\n     <use xlink:href=\"#m6a20c62912\" x=\"382.518184\" y=\"123.198165\" style=\"fill: #1f77b4; stroke: #1f77b4\"/>\n    </g>\n   </g>\n   <g id=\"patch_3\">\n    <path d=\"M 44.845313 288.430125 \nL 44.845313 22.318125 \n\" style=\"fill: none; stroke: #000000; stroke-width: 0.8; stroke-linejoin: miter; stroke-linecap: square\"/>\n   </g>\n   <g id=\"patch_4\">\n    <path d=\"M 401.965312 288.430125 \nL 401.965312 22.318125 \n\" style=\"fill: none; stroke: #000000; stroke-width: 0.8; stroke-linejoin: miter; stroke-linecap: square\"/>\n   </g>\n   <g id=\"patch_5\">\n    <path d=\"M 44.845313 288.430125 \nL 401.965312 288.430125 \n\" style=\"fill: none; stroke: #000000; stroke-width: 0.8; stroke-linejoin: miter; stroke-linecap: square\"/>\n   </g>\n   <g id=\"patch_6\">\n    <path d=\"M 44.845313 22.318125 \nL 401.965312 22.318125 \n\" style=\"fill: none; stroke: #000000; stroke-width: 0.8; stroke-linejoin: miter; stroke-linecap: square\"/>\n   </g>\n   <g id=\"text_16\">\n    <!-- Autocorrelation -->\n    <g transform=\"translate(177.283125 16.318125)scale(0.12 -0.12)\">\n     <defs>\n      <path id=\"DejaVuSans-41\" d=\"M 2188 4044 \nL 1331 1722 \nL 3047 1722 \nL 2188 4044 \nz\nM 1831 4666 \nL 2547 4666 \nL 4325 0 \nL 3669 0 \nL 3244 1197 \nL 1141 1197 \nL 716 0 \nL 50 0 \nL 1831 4666 \nz\n\" transform=\"scale(0.015625)\"/>\n      <path id=\"DejaVuSans-75\" d=\"M 544 1381 \nL 544 3500 \nL 1119 3500 \nL 1119 1403 \nQ 1119 906 1312 657 \nQ 1506 409 1894 409 \nQ 2359 409 2629 706 \nQ 2900 1003 2900 1516 \nL 2900 3500 \nL 3475 3500 \nL 3475 0 \nL 2900 0 \nL 2900 538 \nQ 2691 219 2414 64 \nQ 2138 -91 1772 -91 \nQ 1169 -91 856 284 \nQ 544 659 544 1381 \nz\nM 1991 3584 \nL 1991 3584 \nz\n\" transform=\"scale(0.015625)\"/>\n      <path id=\"DejaVuSans-74\" d=\"M 1172 4494 \nL 1172 3500 \nL 2356 3500 \nL 2356 3053 \nL 1172 3053 \nL 1172 1153 \nQ 1172 725 1289 603 \nQ 1406 481 1766 481 \nL 2356 481 \nL 2356 0 \nL 1766 0 \nQ 1100 0 847 248 \nQ 594 497 594 1153 \nL 594 3053 \nL 172 3053 \nL 172 3500 \nL 594 3500 \nL 594 4494 \nL 1172 4494 \nz\n\" transform=\"scale(0.015625)\"/>\n      <path id=\"DejaVuSans-6f\" d=\"M 1959 3097 \nQ 1497 3097 1228 2736 \nQ 959 2375 959 1747 \nQ 959 1119 1226 758 \nQ 1494 397 1959 397 \nQ 2419 397 2687 759 \nQ 2956 1122 2956 1747 \nQ 2956 2369 2687 2733 \nQ 2419 3097 1959 3097 \nz\nM 1959 3584 \nQ 2709 3584 3137 3096 \nQ 3566 2609 3566 1747 \nQ 3566 888 3137 398 \nQ 2709 -91 1959 -91 \nQ 1206 -91 779 398 \nQ 353 888 353 1747 \nQ 353 2609 779 3096 \nQ 1206 3584 1959 3584 \nz\n\" transform=\"scale(0.015625)\"/>\n      <path id=\"DejaVuSans-63\" d=\"M 3122 3366 \nL 3122 2828 \nQ 2878 2963 2633 3030 \nQ 2388 3097 2138 3097 \nQ 1578 3097 1268 2742 \nQ 959 2388 959 1747 \nQ 959 1106 1268 751 \nQ 1578 397 2138 397 \nQ 2388 397 2633 464 \nQ 2878 531 3122 666 \nL 3122 134 \nQ 2881 22 2623 -34 \nQ 2366 -91 2075 -91 \nQ 1284 -91 818 406 \nQ 353 903 353 1747 \nQ 353 2603 823 3093 \nQ 1294 3584 2113 3584 \nQ 2378 3584 2631 3529 \nQ 2884 3475 3122 3366 \nz\n\" transform=\"scale(0.015625)\"/>\n      <path id=\"DejaVuSans-72\" d=\"M 2631 2963 \nQ 2534 3019 2420 3045 \nQ 2306 3072 2169 3072 \nQ 1681 3072 1420 2755 \nQ 1159 2438 1159 1844 \nL 1159 0 \nL 581 0 \nL 581 3500 \nL 1159 3500 \nL 1159 2956 \nQ 1341 3275 1631 3429 \nQ 1922 3584 2338 3584 \nQ 2397 3584 2469 3576 \nQ 2541 3569 2628 3553 \nL 2631 2963 \nz\n\" transform=\"scale(0.015625)\"/>\n      <path id=\"DejaVuSans-65\" d=\"M 3597 1894 \nL 3597 1613 \nL 953 1613 \nQ 991 1019 1311 708 \nQ 1631 397 2203 397 \nQ 2534 397 2845 478 \nQ 3156 559 3463 722 \nL 3463 178 \nQ 3153 47 2828 -22 \nQ 2503 -91 2169 -91 \nQ 1331 -91 842 396 \nQ 353 884 353 1716 \nQ 353 2575 817 3079 \nQ 1281 3584 2069 3584 \nQ 2775 3584 3186 3129 \nQ 3597 2675 3597 1894 \nz\nM 3022 2063 \nQ 3016 2534 2758 2815 \nQ 2500 3097 2075 3097 \nQ 1594 3097 1305 2825 \nQ 1016 2553 972 2059 \nL 3022 2063 \nz\n\" transform=\"scale(0.015625)\"/>\n      <path id=\"DejaVuSans-6c\" d=\"M 603 4863 \nL 1178 4863 \nL 1178 0 \nL 603 0 \nL 603 4863 \nz\n\" transform=\"scale(0.015625)\"/>\n      <path id=\"DejaVuSans-61\" d=\"M 2194 1759 \nQ 1497 1759 1228 1600 \nQ 959 1441 959 1056 \nQ 959 750 1161 570 \nQ 1363 391 1709 391 \nQ 2188 391 2477 730 \nQ 2766 1069 2766 1631 \nL 2766 1759 \nL 2194 1759 \nz\nM 3341 1997 \nL 3341 0 \nL 2766 0 \nL 2766 531 \nQ 2569 213 2275 61 \nQ 1981 -91 1556 -91 \nQ 1019 -91 701 211 \nQ 384 513 384 1019 \nQ 384 1609 779 1909 \nQ 1175 2209 1959 2209 \nL 2766 2209 \nL 2766 2266 \nQ 2766 2663 2505 2880 \nQ 2244 3097 1772 3097 \nQ 1472 3097 1187 3025 \nQ 903 2953 641 2809 \nL 641 3341 \nQ 956 3463 1253 3523 \nQ 1550 3584 1831 3584 \nQ 2591 3584 2966 3190 \nQ 3341 2797 3341 1997 \nz\n\" transform=\"scale(0.015625)\"/>\n      <path id=\"DejaVuSans-69\" d=\"M 603 3500 \nL 1178 3500 \nL 1178 0 \nL 603 0 \nL 603 3500 \nz\nM 603 4863 \nL 1178 4863 \nL 1178 4134 \nL 603 4134 \nL 603 4863 \nz\n\" transform=\"scale(0.015625)\"/>\n      <path id=\"DejaVuSans-6e\" d=\"M 3513 2113 \nL 3513 0 \nL 2938 0 \nL 2938 2094 \nQ 2938 2591 2744 2837 \nQ 2550 3084 2163 3084 \nQ 1697 3084 1428 2787 \nQ 1159 2491 1159 1978 \nL 1159 0 \nL 581 0 \nL 581 3500 \nL 1159 3500 \nL 1159 2956 \nQ 1366 3272 1645 3428 \nQ 1925 3584 2291 3584 \nQ 2894 3584 3203 3211 \nQ 3513 2838 3513 2113 \nz\n\" transform=\"scale(0.015625)\"/>\n     </defs>\n     <use xlink:href=\"#DejaVuSans-41\"/>\n     <use xlink:href=\"#DejaVuSans-75\" x=\"68.408203\"/>\n     <use xlink:href=\"#DejaVuSans-74\" x=\"131.787109\"/>\n     <use xlink:href=\"#DejaVuSans-6f\" x=\"170.996094\"/>\n     <use xlink:href=\"#DejaVuSans-63\" x=\"232.177734\"/>\n     <use xlink:href=\"#DejaVuSans-6f\" x=\"287.158203\"/>\n     <use xlink:href=\"#DejaVuSans-72\" x=\"348.339844\"/>\n     <use xlink:href=\"#DejaVuSans-72\" x=\"387.703125\"/>\n     <use xlink:href=\"#DejaVuSans-65\" x=\"426.566406\"/>\n     <use xlink:href=\"#DejaVuSans-6c\" x=\"488.089844\"/>\n     <use xlink:href=\"#DejaVuSans-61\" x=\"515.873047\"/>\n     <use xlink:href=\"#DejaVuSans-74\" x=\"577.152344\"/>\n     <use xlink:href=\"#DejaVuSans-69\" x=\"616.361328\"/>\n     <use xlink:href=\"#DejaVuSans-6f\" x=\"644.144531\"/>\n     <use xlink:href=\"#DejaVuSans-6e\" x=\"705.326172\"/>\n    </g>\n   </g>\n  </g>\n </g>\n <defs>\n  <clipPath id=\"pcb261d5081\">\n   <rect x=\"44.845313\" y=\"22.318125\" width=\"357.12\" height=\"266.112\"/>\n  </clipPath>\n </defs>\n</svg>\n",
      "text/plain": [
       "<Figure size 640x480 with 1 Axes>"
      ]
     },
     "metadata": {},
     "output_type": "display_data"
    }
   ],
   "source": [
    "from statsmodels.graphics.tsaplots import plot_acf\n",
    "\n",
    "plt = plot_acf(df_residuals[\"residuals\"], lags=50)"
   ]
  },
  {
   "attachments": {},
   "cell_type": "markdown",
   "metadata": {},
   "source": [
    "Now we add autoregression to our model with the `n_lags` parameter."
   ]
  },
  {
   "cell_type": "code",
   "execution_count": 5,
   "metadata": {},
   "outputs": [
    {
     "data": {
      "application/vnd.jupyter.widget-view+json": {
       "model_id": "16583a1267624a64adf1dd3d9216c3a1",
       "version_major": 2,
       "version_minor": 0
      },
      "text/plain": [
       "Finding best initial lr:   0%|          | 0/229 [00:00<?, ?it/s]"
      ]
     },
     "metadata": {},
     "output_type": "display_data"
    },
    {
     "data": {
      "application/vnd.jupyter.widget-view+json": {
       "model_id": "628ccf2e3c0944e2bfe3423817b3eb15",
       "version_major": 2,
       "version_minor": 0
      },
      "text/plain": [
       "Training: 0it [00:00, ?it/s]"
      ]
     },
     "metadata": {},
     "output_type": "display_data"
    },
    {
     "data": {
      "application/vnd.jupyter.widget-view+json": {
       "model_id": "2858381e80564d32a5e6611a0b2576ff",
       "version_major": 2,
       "version_minor": 0
      },
      "text/plain": [
       "Predicting: 46it [00:00, ?it/s]"
      ]
     },
     "metadata": {},
     "output_type": "display_data"
    },
    {
     "data": {
      "application/vnd.jupyter.widget-view+json": {
       "model_id": "64649e7e3528428d838e19bd231ffada",
       "version_major": 2,
       "version_minor": 0
      },
      "text/plain": [
       "FigureWidgetResampler({\n",
       "    'data': [{'fill': 'none',\n",
       "              'line': {'color': 'rgba(45, 146, 255, 1.0)', 'width': 2},\n",
       "              'mode': 'lines',\n",
       "              'name': '<b style=\"color:sandybrown\">[R]</b> yhat1 <i style=\"color:#fc9944\">~1D</i>',\n",
       "              'type': 'scatter',\n",
       "              'uid': '212d3bdb-2b87-4e11-b1a9-15f26a93b1b2',\n",
       "              'x': array([datetime.datetime(2015, 1, 10, 0, 0),\n",
       "                          datetime.datetime(2015, 1, 11, 0, 0),\n",
       "                          datetime.datetime(2015, 1, 12, 0, 0), ...,\n",
       "                          datetime.datetime(2018, 12, 28, 0, 0),\n",
       "                          datetime.datetime(2018, 12, 30, 0, 0),\n",
       "                          datetime.datetime(2018, 12, 31, 0, 0)], dtype=object),\n",
       "              'y': array([68.19343567, 73.95585632, 74.15554047, ..., 69.62485504, 58.561203  ,\n",
       "                          69.72975922])},\n",
       "             {'marker': {'color': 'black', 'size': 4},\n",
       "              'mode': 'markers',\n",
       "              'name': '<b style=\"color:sandybrown\">[R]</b> Actual <i style=\"color:#fc9944\">~1D</i>',\n",
       "              'type': 'scatter',\n",
       "              'uid': '18fc4e34-2949-43bd-959f-2f6aa7ec7c5a',\n",
       "              'x': array([datetime.datetime(2014, 12, 31, 0, 0),\n",
       "                          datetime.datetime(2015, 1, 1, 0, 0),\n",
       "                          datetime.datetime(2015, 1, 2, 0, 0), ...,\n",
       "                          datetime.datetime(2018, 12, 28, 0, 0),\n",
       "                          datetime.datetime(2018, 12, 29, 0, 0),\n",
       "                          datetime.datetime(2018, 12, 31, 0, 0)], dtype=object),\n",
       "              'y': array([65.41, 62.09, 69.44, ..., 69.23, 62.62, 68.32])}],\n",
       "    'layout': {'autosize': True,\n",
       "               'font': {'size': 10},\n",
       "               'height': 420,\n",
       "               'hovermode': 'x unified',\n",
       "               'margin': {'b': 0, 'l': 0, 'pad': 0, 'r': 10, 't': 10},\n",
       "               'showlegend': True,\n",
       "               'template': '...',\n",
       "               'title': {'font': {'size': 12}},\n",
       "               'width': 700,\n",
       "               'xaxis': {'linewidth': 1.5,\n",
       "                         'mirror': True,\n",
       "                         'rangeselector': {'buttons': [{'count': 7, 'label': '1w', 'step': 'day', 'stepmode': 'backward'},\n",
       "                                                       {'count': 1,\n",
       "                                                        'label': '1m',\n",
       "                                                        'step': 'month',\n",
       "                                                        'stepmode': 'backward'},\n",
       "                                                       {'count': 6,\n",
       "                                                        'label': '6m',\n",
       "                                                        'step': 'month',\n",
       "                                                        'stepmode': 'backward'},\n",
       "                                                       {'count': 1, 'label': '1y', 'step': 'year', 'stepmode': 'backward'},\n",
       "                                                       {'step': 'all'}]},\n",
       "                         'rangeslider': {'visible': True},\n",
       "                         'showline': True,\n",
       "                         'title': {'text': 'ds'},\n",
       "                         'type': 'date'},\n",
       "               'yaxis': {'linewidth': 1.5, 'mirror': True, 'showline': True, 'title': {'text': 'y'}}}\n",
       "})"
      ]
     },
     "execution_count": 5,
     "metadata": {},
     "output_type": "execute_result"
    }
   ],
   "source": [
    "\n",
    "# Model and prediction\n",
    "m = NeuralProphet(\n",
    "    epochs=EPOCHS,\n",
    "    # Disable trend changepoints\n",
    "    n_changepoints=10,\n",
    "    # Disable seasonality components\n",
    "    yearly_seasonality=True,\n",
    "    weekly_seasonality=True,\n",
    "    daily_seasonality=True,\n",
    "    # Add the autogression\n",
    "    n_lags=10,\n",
    ")\n",
    "metrics = m.fit(df)\n",
    "forecast = m.predict(df)\n",
    "m.plot(forecast)"
   ]
  },
  {
   "attachments": {},
   "cell_type": "markdown",
   "metadata": {},
   "source": [
    "As we can see the forecasting model does not fit the data very well. Feel free to explore how different numbers of lags `n_lags` affect the model."
   ]
  },
  {
   "cell_type": "code",
   "execution_count": 6,
   "metadata": {},
   "outputs": [
    {
     "data": {
      "application/vnd.jupyter.widget-view+json": {
       "model_id": "f819b39045804c02b9c58e857311f8dd",
       "version_major": 2,
       "version_minor": 0
      },
      "text/plain": [
       "FigureWidgetResampler({\n",
       "    'data': [{'marker': {'color': '#2d92ff'},\n",
       "              'name': 'AR',\n",
       "              'type': 'bar',\n",
       "              'uid': '5eb069d2-a4e9-41f8-ae6d-a50cfd527f12',\n",
       "              'x': array([10,  9,  8,  7,  6,  5,  4,  3,  2,  1]),\n",
       "              'xaxis': 'x',\n",
       "              'y': array([0.0283139 , 0.1186402 , 0.06924745, 0.17499344, 0.07030995, 0.02271263,\n",
       "                          0.15422833, 0.2394326 , 0.03831573, 0.08380585], dtype=float32),\n",
       "              'yaxis': 'y'}],\n",
       "    'layout': {'autosize': True,\n",
       "               'font': {'size': 10},\n",
       "               'height': 210,\n",
       "               'hovermode': 'x unified',\n",
       "               'margin': {'b': 0, 'l': 0, 'pad': 0, 'r': 10, 't': 10},\n",
       "               'showlegend': False,\n",
       "               'template': '...',\n",
       "               'title': {'font': {'size': 12}},\n",
       "               'width': 700,\n",
       "               'xaxis': {'anchor': 'y',\n",
       "                         'domain': [0.0, 1.0],\n",
       "                         'linewidth': 1.5,\n",
       "                         'mirror': True,\n",
       "                         'range': [0, 11],\n",
       "                         'showline': True,\n",
       "                         'title': {'text': 'AR lag number'}},\n",
       "               'yaxis': {'anchor': 'x',\n",
       "                         'domain': [0.0, 1.0],\n",
       "                         'linewidth': 1.5,\n",
       "                         'mirror': True,\n",
       "                         'rangemode': 'normal',\n",
       "                         'showline': True,\n",
       "                         'tickformat': ',.0%',\n",
       "                         'title': {'text': 'AR relevance'}}}\n",
       "})"
      ]
     },
     "execution_count": 6,
     "metadata": {},
     "output_type": "execute_result"
    }
   ],
   "source": [
    "m.plot_parameters(components=[\"autoregression\"])"
   ]
  },
  {
   "cell_type": "code",
   "execution_count": 7,
   "metadata": {},
   "outputs": [
    {
     "data": {
      "application/vnd.jupyter.widget-view+json": {
       "model_id": "c0e9a850ad674521a6d2d4fcdb67a1aa",
       "version_major": 2,
       "version_minor": 0
      },
      "text/plain": [
       "FigureWidgetResampler({\n",
       "    'data': [{'marker': {'color': '#2d92ff'},\n",
       "              'name': 'Auto-Regression',\n",
       "              'opacity': 1.0,\n",
       "              'showlegend': False,\n",
       "              'type': 'bar',\n",
       "              'uid': '5db9b1c6-09ce-4342-819f-d014f10a195e',\n",
       "              'x': array([datetime.datetime(2015, 1, 10, 0, 0),\n",
       "                          datetime.datetime(2015, 1, 11, 0, 0),\n",
       "                          datetime.datetime(2015, 1, 12, 0, 0), ...,\n",
       "                          datetime.datetime(2018, 12, 29, 0, 0),\n",
       "                          datetime.datetime(2018, 12, 30, 0, 0),\n",
       "                          datetime.datetime(2018, 12, 31, 0, 0)], dtype=object),\n",
       "              'xaxis': 'x',\n",
       "              'y': array([49.41228104, 60.59318161, 48.90141296, ..., 45.67950058, 46.49448776,\n",
       "                           0.        ]),\n",
       "              'yaxis': 'y'}],\n",
       "    'layout': {'autosize': True,\n",
       "               'barmode': 'overlay',\n",
       "               'font': {'size': 10},\n",
       "               'height': 210,\n",
       "               'hovermode': 'x unified',\n",
       "               'legend': {'traceorder': 'reversed', 'y': 0.1},\n",
       "               'margin': {'b': 0, 'l': 0, 'pad': 0, 'r': 10, 't': 10},\n",
       "               'template': '...',\n",
       "               'title': {'font': {'size': 12}},\n",
       "               'width': 700,\n",
       "               'xaxis': {'anchor': 'y',\n",
       "                         'domain': [0.0, 1.0],\n",
       "                         'linewidth': 1.5,\n",
       "                         'mirror': True,\n",
       "                         'range': [2014-10-29 00:00:00, 2019-03-14 00:00:00],\n",
       "                         'showline': True,\n",
       "                         'title': {'text': 'ds'},\n",
       "                         'type': 'date'},\n",
       "               'yaxis': {'anchor': 'x',\n",
       "                         'domain': [0.0, 1.0],\n",
       "                         'linewidth': 1.5,\n",
       "                         'mirror': True,\n",
       "                         'rangemode': 'tozero',\n",
       "                         'showline': True,\n",
       "                         'title': {'text': 'Auto-Regression'}}}\n",
       "})"
      ]
     },
     "execution_count": 7,
     "metadata": {},
     "output_type": "execute_result"
    }
   ],
   "source": [
    "m.plot_components(forecast, components=[\"autoregression\"])"
   ]
  },
  {
   "cell_type": "code",
   "execution_count": 8,
   "metadata": {},
   "outputs": [
    {
     "data": {
      "text/html": [
       "<div>\n",
       "<style scoped>\n",
       "    .dataframe tbody tr th:only-of-type {\n",
       "        vertical-align: middle;\n",
       "    }\n",
       "\n",
       "    .dataframe tbody tr th {\n",
       "        vertical-align: top;\n",
       "    }\n",
       "\n",
       "    .dataframe thead th {\n",
       "        text-align: right;\n",
       "    }\n",
       "</style>\n",
       "<table border=\"1\" class=\"dataframe\">\n",
       "  <thead>\n",
       "    <tr style=\"text-align: right;\">\n",
       "      <th></th>\n",
       "      <th>MAE</th>\n",
       "      <th>RMSE</th>\n",
       "      <th>Loss</th>\n",
       "      <th>RegLoss</th>\n",
       "      <th>epoch</th>\n",
       "    </tr>\n",
       "  </thead>\n",
       "  <tbody>\n",
       "    <tr>\n",
       "      <th>0</th>\n",
       "      <td>58.752129</td>\n",
       "      <td>71.136803</td>\n",
       "      <td>0.428335</td>\n",
       "      <td>0.0</td>\n",
       "      <td>0</td>\n",
       "    </tr>\n",
       "    <tr>\n",
       "      <th>1</th>\n",
       "      <td>26.568089</td>\n",
       "      <td>32.226528</td>\n",
       "      <td>0.118855</td>\n",
       "      <td>0.0</td>\n",
       "      <td>1</td>\n",
       "    </tr>\n",
       "    <tr>\n",
       "      <th>2</th>\n",
       "      <td>9.103988</td>\n",
       "      <td>11.853993</td>\n",
       "      <td>0.014151</td>\n",
       "      <td>0.0</td>\n",
       "      <td>2</td>\n",
       "    </tr>\n",
       "    <tr>\n",
       "      <th>3</th>\n",
       "      <td>7.998994</td>\n",
       "      <td>10.247902</td>\n",
       "      <td>0.010952</td>\n",
       "      <td>0.0</td>\n",
       "      <td>3</td>\n",
       "    </tr>\n",
       "    <tr>\n",
       "      <th>4</th>\n",
       "      <td>7.262515</td>\n",
       "      <td>9.310080</td>\n",
       "      <td>0.008906</td>\n",
       "      <td>0.0</td>\n",
       "      <td>4</td>\n",
       "    </tr>\n",
       "    <tr>\n",
       "      <th>5</th>\n",
       "      <td>6.074368</td>\n",
       "      <td>7.882504</td>\n",
       "      <td>0.006362</td>\n",
       "      <td>0.0</td>\n",
       "      <td>5</td>\n",
       "    </tr>\n",
       "    <tr>\n",
       "      <th>6</th>\n",
       "      <td>5.418680</td>\n",
       "      <td>7.160269</td>\n",
       "      <td>0.005189</td>\n",
       "      <td>0.0</td>\n",
       "      <td>6</td>\n",
       "    </tr>\n",
       "    <tr>\n",
       "      <th>7</th>\n",
       "      <td>5.105208</td>\n",
       "      <td>6.719675</td>\n",
       "      <td>0.004490</td>\n",
       "      <td>0.0</td>\n",
       "      <td>7</td>\n",
       "    </tr>\n",
       "    <tr>\n",
       "      <th>8</th>\n",
       "      <td>4.778468</td>\n",
       "      <td>6.324530</td>\n",
       "      <td>0.004012</td>\n",
       "      <td>0.0</td>\n",
       "      <td>8</td>\n",
       "    </tr>\n",
       "    <tr>\n",
       "      <th>9</th>\n",
       "      <td>4.655197</td>\n",
       "      <td>6.216631</td>\n",
       "      <td>0.003845</td>\n",
       "      <td>0.0</td>\n",
       "      <td>9</td>\n",
       "    </tr>\n",
       "  </tbody>\n",
       "</table>\n",
       "</div>"
      ],
      "text/plain": [
       "         MAE       RMSE      Loss  RegLoss  epoch\n",
       "0  58.752129  71.136803  0.428335      0.0      0\n",
       "1  26.568089  32.226528  0.118855      0.0      1\n",
       "2   9.103988  11.853993  0.014151      0.0      2\n",
       "3   7.998994  10.247902  0.010952      0.0      3\n",
       "4   7.262515   9.310080  0.008906      0.0      4\n",
       "5   6.074368   7.882504  0.006362      0.0      5\n",
       "6   5.418680   7.160269  0.005189      0.0      6\n",
       "7   5.105208   6.719675  0.004490      0.0      7\n",
       "8   4.778468   6.324530  0.004012      0.0      8\n",
       "9   4.655197   6.216631  0.003845      0.0      9"
      ]
     },
     "execution_count": 8,
     "metadata": {},
     "output_type": "execute_result"
    }
   ],
   "source": [
    "metrics"
   ]
  }
 ],
 "metadata": {
  "kernelspec": {
   "display_name": "Python 3.10.7 ('.venv': venv)",
   "language": "python",
   "name": "python3"
  },
  "language_info": {
   "codemirror_mode": {
    "name": "ipython",
    "version": 3
   },
   "file_extension": ".py",
   "mimetype": "text/x-python",
   "name": "python",
   "nbconvert_exporter": "python",
   "pygments_lexer": "ipython3",
   "version": "3.7.16"
  },
  "orig_nbformat": 4,
  "vscode": {
   "interpreter": {
    "hash": "92c9cff0281419e73896333b85e681aea9374fd743c51074843eeada7c3f6baf"
   }
  }
 },
 "nbformat": 4,
 "nbformat_minor": 2
}
